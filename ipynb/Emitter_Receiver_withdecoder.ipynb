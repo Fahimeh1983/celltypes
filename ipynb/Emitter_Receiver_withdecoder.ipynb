{
 "cells": [
  {
   "cell_type": "markdown",
   "metadata": {},
   "source": [
    "# Emitter Receiver autoencoder model"
   ]
  },
  {
   "cell_type": "code",
   "execution_count": 1,
   "metadata": {},
   "outputs": [],
   "source": [
    "import warnings; warnings.simplefilter('ignore')\n",
    "\n",
    "import torch\n",
    "import random\n",
    "import os\n",
    "import time\n",
    "import itertools\n",
    "import collections\n",
    "import torch.nn as nn\n",
    "import scipy as sp\n",
    "import umap\n",
    "import pandas as pd\n",
    "from cell import graph_utils, utils, math_utils\n",
    "from IPython.display import Image\n",
    "from numpy.random import multinomial\n",
    "from torch.nn import functional as F\n",
    "from cell.Word2vec import prepare_vocab, dataloader, wv\n",
    "from stellargraph import StellarDiGraph\n",
    "import cell.BiasedDirectedWeightedWalk as BDWW\n",
    "from sklearn.preprocessing import StandardScaler\n",
    "from sklearn.metrics import ndcg_score\n",
    "from sinkhorn_knopp import sinkhorn_knopp as skp\n",
    "\n",
    "os.environ['KMP_DUPLICATE_LIB_OK']='True'\n",
    "device = torch.device('cuda' if torch.cuda.is_available() else 'cpu')"
   ]
  },
  {
   "cell_type": "code",
   "execution_count": 2,
   "metadata": {},
   "outputs": [
    {
     "data": {
      "text/plain": [
       "<module 'cell.Word2vec.prepare_vocab' from '/Users/fahimehb/Documents/git-workspace/celltypes/cell/Word2vec/prepare_vocab.py'>"
      ]
     },
     "execution_count": 2,
     "metadata": {},
     "output_type": "execute_result"
    }
   ],
   "source": [
    "import imp\n",
    "from cell import  utils, analysis, plot_utils, graph_utils\n",
    "from cell.Word2vec import prepare_vocab, dataloader, wv\n",
    "\n",
    "\n",
    "imp.reload(utils)\n",
    "imp.reload(analysis)\n",
    "\n",
    "imp.reload(prepare_vocab)"
   ]
  },
  {
   "cell_type": "code",
   "execution_count": 3,
   "metadata": {},
   "outputs": [
    {
     "ename": "TypeError",
     "evalue": "read_npp_interaction_matrices() missing 1 required positional argument: 'version'",
     "output_type": "error",
     "traceback": [
      "\u001b[0;31m---------------------------------------------------------------------------\u001b[0m",
      "\u001b[0;31mTypeError\u001b[0m                                 Traceback (most recent call last)",
      "\u001b[0;32m<ipython-input-3-0719f9ab30bb>\u001b[0m in \u001b[0;36m<module>\u001b[0;34m\u001b[0m\n\u001b[0;32m----> 1\u001b[0;31m \u001b[0mnpp_adj\u001b[0m \u001b[0;34m=\u001b[0m \u001b[0mgraph_utils\u001b[0m\u001b[0;34m.\u001b[0m\u001b[0mread_npp_interaction_matrices\u001b[0m\u001b[0;34m(\u001b[0m\u001b[0;34m)\u001b[0m\u001b[0;34m\u001b[0m\u001b[0;34m\u001b[0m\u001b[0m\n\u001b[0m\u001b[1;32m      2\u001b[0m \u001b[0msns\u001b[0m\u001b[0;34m.\u001b[0m\u001b[0mheatmap\u001b[0m\u001b[0;34m(\u001b[0m\u001b[0mnpp_adj\u001b[0m\u001b[0;34m)\u001b[0m\u001b[0;34m\u001b[0m\u001b[0;34m\u001b[0m\u001b[0m\n",
      "\u001b[0;31mTypeError\u001b[0m: read_npp_interaction_matrices() missing 1 required positional argument: 'version'"
     ]
    }
   ],
   "source": [
    "npp_adj = graph_utils.read_npp_interaction_matrices()\n",
    "sns.heatmap(npp_adj)"
   ]
  },
  {
   "cell_type": "code",
   "execution_count": 4,
   "metadata": {},
   "outputs": [
    {
     "name": "stdout",
     "output_type": "stream",
     "text": [
      "row index:  21 should be dropped as it has not outgoing edges\n"
     ]
    }
   ],
   "source": [
    "#Create a dataframe\n",
    "npp_adj = pd.DataFrame(npp_adj)\n",
    "npp_adj.index = npp_adj.index.astype(str)\n",
    "npp_adj.columns = npp_adj.columns.astype(str)\n",
    "\n",
    "#Find all nodes with zero outgoing edges\n",
    "index_to_drop = []\n",
    "for index, row in npp_adj.iterrows():\n",
    "    if (np.sum(row) == 0):\n",
    "        index_to_drop.append(index)\n",
    "        print(\"row index: \",index, \"should be dropped as it has not outgoing edges\")\n",
    "\n",
    "#Drop some rows based on their connections\n",
    "for ind in index_to_drop:\n",
    "    npp_adj = npp_adj.drop(ind, axis=0)\n",
    "    npp_adj = npp_adj.drop(ind, axis=1)"
   ]
  },
  {
   "cell_type": "code",
   "execution_count": 5,
   "metadata": {},
   "outputs": [
    {
     "data": {
      "text/html": [
       "<div>\n",
       "<style scoped>\n",
       "    .dataframe tbody tr th:only-of-type {\n",
       "        vertical-align: middle;\n",
       "    }\n",
       "\n",
       "    .dataframe tbody tr th {\n",
       "        vertical-align: top;\n",
       "    }\n",
       "\n",
       "    .dataframe thead th {\n",
       "        text-align: right;\n",
       "    }\n",
       "</style>\n",
       "<table border=\"1\" class=\"dataframe\">\n",
       "  <thead>\n",
       "    <tr style=\"text-align: right;\">\n",
       "      <th></th>\n",
       "      <th>0</th>\n",
       "      <th>1</th>\n",
       "      <th>2</th>\n",
       "      <th>3</th>\n",
       "      <th>4</th>\n",
       "      <th>5</th>\n",
       "      <th>6</th>\n",
       "      <th>7</th>\n",
       "      <th>8</th>\n",
       "      <th>9</th>\n",
       "      <th>...</th>\n",
       "      <th>83</th>\n",
       "      <th>84</th>\n",
       "      <th>85</th>\n",
       "      <th>86</th>\n",
       "      <th>87</th>\n",
       "      <th>88</th>\n",
       "      <th>89</th>\n",
       "      <th>90</th>\n",
       "      <th>91</th>\n",
       "      <th>92</th>\n",
       "    </tr>\n",
       "  </thead>\n",
       "  <tbody>\n",
       "    <tr>\n",
       "      <th>0</th>\n",
       "      <td>0.936187</td>\n",
       "      <td>0.768484</td>\n",
       "      <td>0.959233</td>\n",
       "      <td>0.803355</td>\n",
       "      <td>0.924923</td>\n",
       "      <td>0.980995</td>\n",
       "      <td>0.740588</td>\n",
       "      <td>0.987354</td>\n",
       "      <td>0.668763</td>\n",
       "      <td>1.165541</td>\n",
       "      <td>...</td>\n",
       "      <td>0.633823</td>\n",
       "      <td>0.405660</td>\n",
       "      <td>0.326936</td>\n",
       "      <td>0.587962</td>\n",
       "      <td>0.338413</td>\n",
       "      <td>0.532010</td>\n",
       "      <td>0.450015</td>\n",
       "      <td>0.275699</td>\n",
       "      <td>0.599208</td>\n",
       "      <td>0.593314</td>\n",
       "    </tr>\n",
       "    <tr>\n",
       "      <th>1</th>\n",
       "      <td>0.790692</td>\n",
       "      <td>0.555642</td>\n",
       "      <td>0.757755</td>\n",
       "      <td>0.577711</td>\n",
       "      <td>0.630822</td>\n",
       "      <td>0.663200</td>\n",
       "      <td>0.462023</td>\n",
       "      <td>0.565815</td>\n",
       "      <td>0.332883</td>\n",
       "      <td>0.774369</td>\n",
       "      <td>...</td>\n",
       "      <td>0.377223</td>\n",
       "      <td>0.212919</td>\n",
       "      <td>0.138344</td>\n",
       "      <td>0.273469</td>\n",
       "      <td>0.125997</td>\n",
       "      <td>0.333608</td>\n",
       "      <td>0.226424</td>\n",
       "      <td>0.112440</td>\n",
       "      <td>0.301754</td>\n",
       "      <td>0.119409</td>\n",
       "    </tr>\n",
       "    <tr>\n",
       "      <th>2</th>\n",
       "      <td>0.892147</td>\n",
       "      <td>0.712143</td>\n",
       "      <td>0.921591</td>\n",
       "      <td>0.789601</td>\n",
       "      <td>0.877128</td>\n",
       "      <td>0.870740</td>\n",
       "      <td>0.643997</td>\n",
       "      <td>0.886173</td>\n",
       "      <td>0.590462</td>\n",
       "      <td>1.041684</td>\n",
       "      <td>...</td>\n",
       "      <td>0.571998</td>\n",
       "      <td>0.392207</td>\n",
       "      <td>0.324273</td>\n",
       "      <td>0.604153</td>\n",
       "      <td>0.357973</td>\n",
       "      <td>0.527151</td>\n",
       "      <td>0.449813</td>\n",
       "      <td>0.276949</td>\n",
       "      <td>0.608939</td>\n",
       "      <td>0.558004</td>\n",
       "    </tr>\n",
       "    <tr>\n",
       "      <th>3</th>\n",
       "      <td>0.785652</td>\n",
       "      <td>0.687346</td>\n",
       "      <td>0.841630</td>\n",
       "      <td>0.734949</td>\n",
       "      <td>0.798094</td>\n",
       "      <td>0.815856</td>\n",
       "      <td>0.633850</td>\n",
       "      <td>0.917081</td>\n",
       "      <td>0.607991</td>\n",
       "      <td>1.017417</td>\n",
       "      <td>...</td>\n",
       "      <td>0.560358</td>\n",
       "      <td>0.304011</td>\n",
       "      <td>0.274533</td>\n",
       "      <td>0.470036</td>\n",
       "      <td>0.219715</td>\n",
       "      <td>0.496468</td>\n",
       "      <td>0.428310</td>\n",
       "      <td>0.246388</td>\n",
       "      <td>0.470338</td>\n",
       "      <td>0.468221</td>\n",
       "    </tr>\n",
       "    <tr>\n",
       "      <th>4</th>\n",
       "      <td>0.471479</td>\n",
       "      <td>0.437232</td>\n",
       "      <td>0.504707</td>\n",
       "      <td>0.444062</td>\n",
       "      <td>0.498042</td>\n",
       "      <td>0.529087</td>\n",
       "      <td>0.427269</td>\n",
       "      <td>0.620584</td>\n",
       "      <td>0.421984</td>\n",
       "      <td>0.662953</td>\n",
       "      <td>...</td>\n",
       "      <td>0.354924</td>\n",
       "      <td>0.193698</td>\n",
       "      <td>0.167763</td>\n",
       "      <td>0.277236</td>\n",
       "      <td>0.129398</td>\n",
       "      <td>0.287891</td>\n",
       "      <td>0.251013</td>\n",
       "      <td>0.147875</td>\n",
       "      <td>0.286385</td>\n",
       "      <td>0.322952</td>\n",
       "    </tr>\n",
       "  </tbody>\n",
       "</table>\n",
       "<p>5 rows × 92 columns</p>\n",
       "</div>"
      ],
      "text/plain": [
       "          0         1         2         3         4         5         6  \\\n",
       "0  0.936187  0.768484  0.959233  0.803355  0.924923  0.980995  0.740588   \n",
       "1  0.790692  0.555642  0.757755  0.577711  0.630822  0.663200  0.462023   \n",
       "2  0.892147  0.712143  0.921591  0.789601  0.877128  0.870740  0.643997   \n",
       "3  0.785652  0.687346  0.841630  0.734949  0.798094  0.815856  0.633850   \n",
       "4  0.471479  0.437232  0.504707  0.444062  0.498042  0.529087  0.427269   \n",
       "\n",
       "          7         8         9  ...        83        84        85        86  \\\n",
       "0  0.987354  0.668763  1.165541  ...  0.633823  0.405660  0.326936  0.587962   \n",
       "1  0.565815  0.332883  0.774369  ...  0.377223  0.212919  0.138344  0.273469   \n",
       "2  0.886173  0.590462  1.041684  ...  0.571998  0.392207  0.324273  0.604153   \n",
       "3  0.917081  0.607991  1.017417  ...  0.560358  0.304011  0.274533  0.470036   \n",
       "4  0.620584  0.421984  0.662953  ...  0.354924  0.193698  0.167763  0.277236   \n",
       "\n",
       "         87        88        89        90        91        92  \n",
       "0  0.338413  0.532010  0.450015  0.275699  0.599208  0.593314  \n",
       "1  0.125997  0.333608  0.226424  0.112440  0.301754  0.119409  \n",
       "2  0.357973  0.527151  0.449813  0.276949  0.608939  0.558004  \n",
       "3  0.219715  0.496468  0.428310  0.246388  0.470338  0.468221  \n",
       "4  0.129398  0.287891  0.251013  0.147875  0.286385  0.322952  \n",
       "\n",
       "[5 rows x 92 columns]"
      ]
     },
     "execution_count": 5,
     "metadata": {},
     "output_type": "execute_result"
    }
   ],
   "source": [
    "npp_adj.head()"
   ]
  },
  {
   "cell_type": "code",
   "execution_count": 134,
   "metadata": {},
   "outputs": [
    {
     "data": {
      "text/html": [
       "<div>\n",
       "<style scoped>\n",
       "    .dataframe tbody tr th:only-of-type {\n",
       "        vertical-align: middle;\n",
       "    }\n",
       "\n",
       "    .dataframe tbody tr th {\n",
       "        vertical-align: top;\n",
       "    }\n",
       "\n",
       "    .dataframe thead th {\n",
       "        text-align: right;\n",
       "    }\n",
       "</style>\n",
       "<table border=\"1\" class=\"dataframe\">\n",
       "  <thead>\n",
       "    <tr style=\"text-align: right;\">\n",
       "      <th>col</th>\n",
       "      <th>0</th>\n",
       "      <th>1</th>\n",
       "      <th>2</th>\n",
       "      <th>3</th>\n",
       "      <th>4</th>\n",
       "      <th>5</th>\n",
       "      <th>6</th>\n",
       "      <th>7</th>\n",
       "      <th>8</th>\n",
       "      <th>9</th>\n",
       "      <th>...</th>\n",
       "      <th>83</th>\n",
       "      <th>84</th>\n",
       "      <th>85</th>\n",
       "      <th>86</th>\n",
       "      <th>87</th>\n",
       "      <th>88</th>\n",
       "      <th>89</th>\n",
       "      <th>90</th>\n",
       "      <th>91</th>\n",
       "      <th>92</th>\n",
       "    </tr>\n",
       "    <tr>\n",
       "      <th>row</th>\n",
       "      <th></th>\n",
       "      <th></th>\n",
       "      <th></th>\n",
       "      <th></th>\n",
       "      <th></th>\n",
       "      <th></th>\n",
       "      <th></th>\n",
       "      <th></th>\n",
       "      <th></th>\n",
       "      <th></th>\n",
       "      <th></th>\n",
       "      <th></th>\n",
       "      <th></th>\n",
       "      <th></th>\n",
       "      <th></th>\n",
       "      <th></th>\n",
       "      <th></th>\n",
       "      <th></th>\n",
       "      <th></th>\n",
       "      <th></th>\n",
       "      <th></th>\n",
       "    </tr>\n",
       "  </thead>\n",
       "  <tbody>\n",
       "    <tr>\n",
       "      <th>0</th>\n",
       "      <td>0.000000</td>\n",
       "      <td>0.0</td>\n",
       "      <td>0.00000</td>\n",
       "      <td>0.0</td>\n",
       "      <td>0.0</td>\n",
       "      <td>0.000000</td>\n",
       "      <td>0.0</td>\n",
       "      <td>0.000000</td>\n",
       "      <td>0.0</td>\n",
       "      <td>1.165541</td>\n",
       "      <td>...</td>\n",
       "      <td>0.0</td>\n",
       "      <td>0.0</td>\n",
       "      <td>0.0</td>\n",
       "      <td>0.0</td>\n",
       "      <td>0.0</td>\n",
       "      <td>0.0</td>\n",
       "      <td>0.0</td>\n",
       "      <td>0.0</td>\n",
       "      <td>0.0</td>\n",
       "      <td>0.0</td>\n",
       "    </tr>\n",
       "    <tr>\n",
       "      <th>1</th>\n",
       "      <td>0.790692</td>\n",
       "      <td>0.0</td>\n",
       "      <td>0.00000</td>\n",
       "      <td>0.0</td>\n",
       "      <td>0.0</td>\n",
       "      <td>0.000000</td>\n",
       "      <td>0.0</td>\n",
       "      <td>0.000000</td>\n",
       "      <td>0.0</td>\n",
       "      <td>0.774369</td>\n",
       "      <td>...</td>\n",
       "      <td>0.0</td>\n",
       "      <td>0.0</td>\n",
       "      <td>0.0</td>\n",
       "      <td>0.0</td>\n",
       "      <td>0.0</td>\n",
       "      <td>0.0</td>\n",
       "      <td>0.0</td>\n",
       "      <td>0.0</td>\n",
       "      <td>0.0</td>\n",
       "      <td>0.0</td>\n",
       "    </tr>\n",
       "    <tr>\n",
       "      <th>2</th>\n",
       "      <td>0.000000</td>\n",
       "      <td>0.0</td>\n",
       "      <td>0.00000</td>\n",
       "      <td>0.0</td>\n",
       "      <td>0.0</td>\n",
       "      <td>0.000000</td>\n",
       "      <td>0.0</td>\n",
       "      <td>0.000000</td>\n",
       "      <td>0.0</td>\n",
       "      <td>1.041684</td>\n",
       "      <td>...</td>\n",
       "      <td>0.0</td>\n",
       "      <td>0.0</td>\n",
       "      <td>0.0</td>\n",
       "      <td>0.0</td>\n",
       "      <td>0.0</td>\n",
       "      <td>0.0</td>\n",
       "      <td>0.0</td>\n",
       "      <td>0.0</td>\n",
       "      <td>0.0</td>\n",
       "      <td>0.0</td>\n",
       "    </tr>\n",
       "    <tr>\n",
       "      <th>3</th>\n",
       "      <td>0.000000</td>\n",
       "      <td>0.0</td>\n",
       "      <td>0.84163</td>\n",
       "      <td>0.0</td>\n",
       "      <td>0.0</td>\n",
       "      <td>0.000000</td>\n",
       "      <td>0.0</td>\n",
       "      <td>0.917081</td>\n",
       "      <td>0.0</td>\n",
       "      <td>1.017417</td>\n",
       "      <td>...</td>\n",
       "      <td>0.0</td>\n",
       "      <td>0.0</td>\n",
       "      <td>0.0</td>\n",
       "      <td>0.0</td>\n",
       "      <td>0.0</td>\n",
       "      <td>0.0</td>\n",
       "      <td>0.0</td>\n",
       "      <td>0.0</td>\n",
       "      <td>0.0</td>\n",
       "      <td>0.0</td>\n",
       "    </tr>\n",
       "    <tr>\n",
       "      <th>4</th>\n",
       "      <td>0.000000</td>\n",
       "      <td>0.0</td>\n",
       "      <td>0.00000</td>\n",
       "      <td>0.0</td>\n",
       "      <td>0.0</td>\n",
       "      <td>0.529087</td>\n",
       "      <td>0.0</td>\n",
       "      <td>0.620584</td>\n",
       "      <td>0.0</td>\n",
       "      <td>0.662953</td>\n",
       "      <td>...</td>\n",
       "      <td>0.0</td>\n",
       "      <td>0.0</td>\n",
       "      <td>0.0</td>\n",
       "      <td>0.0</td>\n",
       "      <td>0.0</td>\n",
       "      <td>0.0</td>\n",
       "      <td>0.0</td>\n",
       "      <td>0.0</td>\n",
       "      <td>0.0</td>\n",
       "      <td>0.0</td>\n",
       "    </tr>\n",
       "  </tbody>\n",
       "</table>\n",
       "<p>5 rows × 92 columns</p>\n",
       "</div>"
      ],
      "text/plain": [
       "col         0    1        2    3    4         5    6         7    8         9  \\\n",
       "row                                                                             \n",
       "0    0.000000  0.0  0.00000  0.0  0.0  0.000000  0.0  0.000000  0.0  1.165541   \n",
       "1    0.790692  0.0  0.00000  0.0  0.0  0.000000  0.0  0.000000  0.0  0.774369   \n",
       "2    0.000000  0.0  0.00000  0.0  0.0  0.000000  0.0  0.000000  0.0  1.041684   \n",
       "3    0.000000  0.0  0.84163  0.0  0.0  0.000000  0.0  0.917081  0.0  1.017417   \n",
       "4    0.000000  0.0  0.00000  0.0  0.0  0.529087  0.0  0.620584  0.0  0.662953   \n",
       "\n",
       "col  ...   83   84   85   86   87   88   89   90   91   92  \n",
       "row  ...                                                    \n",
       "0    ...  0.0  0.0  0.0  0.0  0.0  0.0  0.0  0.0  0.0  0.0  \n",
       "1    ...  0.0  0.0  0.0  0.0  0.0  0.0  0.0  0.0  0.0  0.0  \n",
       "2    ...  0.0  0.0  0.0  0.0  0.0  0.0  0.0  0.0  0.0  0.0  \n",
       "3    ...  0.0  0.0  0.0  0.0  0.0  0.0  0.0  0.0  0.0  0.0  \n",
       "4    ...  0.0  0.0  0.0  0.0  0.0  0.0  0.0  0.0  0.0  0.0  \n",
       "\n",
       "[5 rows x 92 columns]"
      ]
     },
     "execution_count": 134,
     "metadata": {},
     "output_type": "execute_result"
    }
   ],
   "source": [
    "new_npp_adj = graph_utils.Keep_only_k_largest_value_of_each_row(npp_adj, 7)\n",
    "new_npp_adj.head()"
   ]
  },
  {
   "cell_type": "code",
   "execution_count": 135,
   "metadata": {},
   "outputs": [
    {
     "data": {
      "text/plain": [
       "<matplotlib.axes._subplots.AxesSubplot at 0x7f81278faed0>"
      ]
     },
     "execution_count": 135,
     "metadata": {},
     "output_type": "execute_result"
    }
   ],
   "source": [
    "%matplotlib qt\n",
    "fig = plt.figure(figsize=(10,8))\n",
    "sns.heatmap(new_npp_adj)"
   ]
  },
  {
   "cell_type": "code",
   "execution_count": 137,
   "metadata": {},
   "outputs": [
    {
     "data": {
      "text/html": [
       "<div>\n",
       "<style scoped>\n",
       "    .dataframe tbody tr th:only-of-type {\n",
       "        vertical-align: middle;\n",
       "    }\n",
       "\n",
       "    .dataframe tbody tr th {\n",
       "        vertical-align: top;\n",
       "    }\n",
       "\n",
       "    .dataframe thead th {\n",
       "        text-align: right;\n",
       "    }\n",
       "</style>\n",
       "<table border=\"1\" class=\"dataframe\">\n",
       "  <thead>\n",
       "    <tr style=\"text-align: right;\">\n",
       "      <th>col</th>\n",
       "      <th>0</th>\n",
       "      <th>1</th>\n",
       "      <th>2</th>\n",
       "      <th>3</th>\n",
       "      <th>4</th>\n",
       "      <th>5</th>\n",
       "      <th>6</th>\n",
       "      <th>7</th>\n",
       "      <th>8</th>\n",
       "      <th>9</th>\n",
       "      <th>...</th>\n",
       "      <th>83</th>\n",
       "      <th>84</th>\n",
       "      <th>85</th>\n",
       "      <th>86</th>\n",
       "      <th>87</th>\n",
       "      <th>88</th>\n",
       "      <th>89</th>\n",
       "      <th>90</th>\n",
       "      <th>91</th>\n",
       "      <th>92</th>\n",
       "    </tr>\n",
       "    <tr>\n",
       "      <th>row</th>\n",
       "      <th></th>\n",
       "      <th></th>\n",
       "      <th></th>\n",
       "      <th></th>\n",
       "      <th></th>\n",
       "      <th></th>\n",
       "      <th></th>\n",
       "      <th></th>\n",
       "      <th></th>\n",
       "      <th></th>\n",
       "      <th></th>\n",
       "      <th></th>\n",
       "      <th></th>\n",
       "      <th></th>\n",
       "      <th></th>\n",
       "      <th></th>\n",
       "      <th></th>\n",
       "      <th></th>\n",
       "      <th></th>\n",
       "      <th></th>\n",
       "      <th></th>\n",
       "    </tr>\n",
       "  </thead>\n",
       "  <tbody>\n",
       "    <tr>\n",
       "      <th>0</th>\n",
       "      <td>0.000000</td>\n",
       "      <td>0.0</td>\n",
       "      <td>0.000000</td>\n",
       "      <td>0.0</td>\n",
       "      <td>0.0</td>\n",
       "      <td>0.000000</td>\n",
       "      <td>0.0</td>\n",
       "      <td>0.000000</td>\n",
       "      <td>0.0</td>\n",
       "      <td>0.136617</td>\n",
       "      <td>...</td>\n",
       "      <td>0.0</td>\n",
       "      <td>0.0</td>\n",
       "      <td>0.0</td>\n",
       "      <td>0.0</td>\n",
       "      <td>0.0</td>\n",
       "      <td>0.0</td>\n",
       "      <td>0.0</td>\n",
       "      <td>0.0</td>\n",
       "      <td>0.0</td>\n",
       "      <td>0.0</td>\n",
       "    </tr>\n",
       "    <tr>\n",
       "      <th>1</th>\n",
       "      <td>0.126495</td>\n",
       "      <td>0.0</td>\n",
       "      <td>0.000000</td>\n",
       "      <td>0.0</td>\n",
       "      <td>0.0</td>\n",
       "      <td>0.000000</td>\n",
       "      <td>0.0</td>\n",
       "      <td>0.000000</td>\n",
       "      <td>0.0</td>\n",
       "      <td>0.123883</td>\n",
       "      <td>...</td>\n",
       "      <td>0.0</td>\n",
       "      <td>0.0</td>\n",
       "      <td>0.0</td>\n",
       "      <td>0.0</td>\n",
       "      <td>0.0</td>\n",
       "      <td>0.0</td>\n",
       "      <td>0.0</td>\n",
       "      <td>0.0</td>\n",
       "      <td>0.0</td>\n",
       "      <td>0.0</td>\n",
       "    </tr>\n",
       "    <tr>\n",
       "      <th>2</th>\n",
       "      <td>0.000000</td>\n",
       "      <td>0.0</td>\n",
       "      <td>0.000000</td>\n",
       "      <td>0.0</td>\n",
       "      <td>0.0</td>\n",
       "      <td>0.000000</td>\n",
       "      <td>0.0</td>\n",
       "      <td>0.000000</td>\n",
       "      <td>0.0</td>\n",
       "      <td>0.126019</td>\n",
       "      <td>...</td>\n",
       "      <td>0.0</td>\n",
       "      <td>0.0</td>\n",
       "      <td>0.0</td>\n",
       "      <td>0.0</td>\n",
       "      <td>0.0</td>\n",
       "      <td>0.0</td>\n",
       "      <td>0.0</td>\n",
       "      <td>0.0</td>\n",
       "      <td>0.0</td>\n",
       "      <td>0.0</td>\n",
       "    </tr>\n",
       "    <tr>\n",
       "      <th>3</th>\n",
       "      <td>0.000000</td>\n",
       "      <td>0.0</td>\n",
       "      <td>0.133582</td>\n",
       "      <td>0.0</td>\n",
       "      <td>0.0</td>\n",
       "      <td>0.000000</td>\n",
       "      <td>0.0</td>\n",
       "      <td>0.145557</td>\n",
       "      <td>0.0</td>\n",
       "      <td>0.161483</td>\n",
       "      <td>...</td>\n",
       "      <td>0.0</td>\n",
       "      <td>0.0</td>\n",
       "      <td>0.0</td>\n",
       "      <td>0.0</td>\n",
       "      <td>0.0</td>\n",
       "      <td>0.0</td>\n",
       "      <td>0.0</td>\n",
       "      <td>0.0</td>\n",
       "      <td>0.0</td>\n",
       "      <td>0.0</td>\n",
       "    </tr>\n",
       "    <tr>\n",
       "      <th>4</th>\n",
       "      <td>0.000000</td>\n",
       "      <td>0.0</td>\n",
       "      <td>0.000000</td>\n",
       "      <td>0.0</td>\n",
       "      <td>0.0</td>\n",
       "      <td>0.129941</td>\n",
       "      <td>0.0</td>\n",
       "      <td>0.152412</td>\n",
       "      <td>0.0</td>\n",
       "      <td>0.162818</td>\n",
       "      <td>...</td>\n",
       "      <td>0.0</td>\n",
       "      <td>0.0</td>\n",
       "      <td>0.0</td>\n",
       "      <td>0.0</td>\n",
       "      <td>0.0</td>\n",
       "      <td>0.0</td>\n",
       "      <td>0.0</td>\n",
       "      <td>0.0</td>\n",
       "      <td>0.0</td>\n",
       "      <td>0.0</td>\n",
       "    </tr>\n",
       "  </tbody>\n",
       "</table>\n",
       "<p>5 rows × 92 columns</p>\n",
       "</div>"
      ],
      "text/plain": [
       "col         0    1         2    3    4         5    6         7    8  \\\n",
       "row                                                                    \n",
       "0    0.000000  0.0  0.000000  0.0  0.0  0.000000  0.0  0.000000  0.0   \n",
       "1    0.126495  0.0  0.000000  0.0  0.0  0.000000  0.0  0.000000  0.0   \n",
       "2    0.000000  0.0  0.000000  0.0  0.0  0.000000  0.0  0.000000  0.0   \n",
       "3    0.000000  0.0  0.133582  0.0  0.0  0.000000  0.0  0.145557  0.0   \n",
       "4    0.000000  0.0  0.000000  0.0  0.0  0.129941  0.0  0.152412  0.0   \n",
       "\n",
       "col         9  ...   83   84   85   86   87   88   89   90   91   92  \n",
       "row            ...                                                    \n",
       "0    0.136617  ...  0.0  0.0  0.0  0.0  0.0  0.0  0.0  0.0  0.0  0.0  \n",
       "1    0.123883  ...  0.0  0.0  0.0  0.0  0.0  0.0  0.0  0.0  0.0  0.0  \n",
       "2    0.126019  ...  0.0  0.0  0.0  0.0  0.0  0.0  0.0  0.0  0.0  0.0  \n",
       "3    0.161483  ...  0.0  0.0  0.0  0.0  0.0  0.0  0.0  0.0  0.0  0.0  \n",
       "4    0.162818  ...  0.0  0.0  0.0  0.0  0.0  0.0  0.0  0.0  0.0  0.0  \n",
       "\n",
       "[5 rows x 92 columns]"
      ]
     },
     "execution_count": 137,
     "metadata": {},
     "output_type": "execute_result"
    }
   ],
   "source": [
    "row_normal_new_npp_adj = graph_utils.Divide_each_Row_by_colsum(new_npp_adj)\n",
    "row_normal_new_npp_adj.head()"
   ]
  },
  {
   "cell_type": "code",
   "execution_count": 138,
   "metadata": {},
   "outputs": [
    {
     "data": {
      "text/plain": [
       "<matplotlib.axes._subplots.AxesSubplot at 0x7f813298ec90>"
      ]
     },
     "execution_count": 138,
     "metadata": {},
     "output_type": "execute_result"
    }
   ],
   "source": [
    "fig = plt.figure(figsize=(10,8))\n",
    "sns.heatmap(row_normal_new_npp_adj)"
   ]
  },
  {
   "cell_type": "code",
   "execution_count": 10,
   "metadata": {},
   "outputs": [
    {
     "name": "stdout",
     "output_type": "stream",
     "text": [
      "All the nodes have at least one outoging connection\n"
     ]
    }
   ],
   "source": [
    "if(sum(np.sum(row_normal_new_npp_adj, axis=1)==0) == 0):\n",
    "    print(\"All the nodes have at least one outoging connection\")"
   ]
  },
  {
   "cell_type": "markdown",
   "metadata": {},
   "source": [
    "# Doubly stochastic normalization"
   ]
  },
  {
   "cell_type": "code",
   "execution_count": 11,
   "metadata": {},
   "outputs": [],
   "source": [
    "sk = skp.SinkhornKnopp()"
   ]
  },
  {
   "cell_type": "code",
   "execution_count": 12,
   "metadata": {},
   "outputs": [
    {
     "data": {
      "text/plain": [
       "<matplotlib.axes._subplots.AxesSubplot at 0x7fd2df8cc410>"
      ]
     },
     "execution_count": 12,
     "metadata": {},
     "output_type": "execute_result"
    }
   ],
   "source": [
    "npp_adj = graph_utils.read_npp_interaction_matrices()\n",
    "# add epsilon to all zero values in the adj matrix\n",
    "npp_adj[npp_adj == 0] = 0.00001\n",
    "sns.heatmap(npp_adj)"
   ]
  },
  {
   "cell_type": "code",
   "execution_count": 13,
   "metadata": {},
   "outputs": [
    {
     "data": {
      "text/plain": [
       "<matplotlib.axes._subplots.AxesSubplot at 0x7fd2ddc55c10>"
      ]
     },
     "execution_count": 13,
     "metadata": {},
     "output_type": "execute_result"
    }
   ],
   "source": [
    "doub_stot_npp_adj = sk.fit(npp_adj)\n",
    "sns.heatmap(doub_stot_npp_adj)"
   ]
  },
  {
   "cell_type": "markdown",
   "metadata": {},
   "source": [
    "# Apply double stochastic and then add them together and apply double stochastic again"
   ]
  },
  {
   "cell_type": "code",
   "execution_count": 14,
   "metadata": {},
   "outputs": [
    {
     "data": {
      "text/plain": [
       "<matplotlib.axes._subplots.AxesSubplot at 0x7fd2e0149a90>"
      ]
     },
     "execution_count": 14,
     "metadata": {},
     "output_type": "execute_result"
    }
   ],
   "source": [
    "npp_adj = np.zeros((93, 93))\n",
    "which_layers = utils.get_npp_visp_layers()\n",
    "\n",
    "for layer in which_layers:\n",
    "    path = utils.get_npp_visp_interaction_mat_path(layer)\n",
    "    tmp_inter = pd.read_csv(path, index_col=\"Unnamed: 0\")\n",
    "    tmp_inter[tmp_inter == 0] = 0.00001\n",
    "    tmp_inter = sk.fit(tmp_inter)\n",
    "    npp_adj = npp_adj + tmp_inter\n",
    "    \n",
    "sns.heatmap(npp_adj)"
   ]
  },
  {
   "cell_type": "code",
   "execution_count": 15,
   "metadata": {},
   "outputs": [],
   "source": [
    "tmp = row_normal_new_npp_adj\n",
    "tmp[tmp == 0] = 0.00001\n",
    "tmp = sk.fit(tmp)"
   ]
  },
  {
   "cell_type": "code",
   "execution_count": 16,
   "metadata": {},
   "outputs": [
    {
     "data": {
      "text/plain": [
       "<matplotlib.axes._subplots.AxesSubplot at 0x7fd2e0149a90>"
      ]
     },
     "execution_count": 16,
     "metadata": {},
     "output_type": "execute_result"
    }
   ],
   "source": [
    "sns.heatmap(sk.fit(tmp))"
   ]
  },
  {
   "cell_type": "markdown",
   "metadata": {},
   "source": [
    "# Add all the channels, keep 7 highest ingoing and 7 highest outgoing, then apply double stochastic"
   ]
  },
  {
   "cell_type": "code",
   "execution_count": 377,
   "metadata": {},
   "outputs": [
    {
     "name": "stdout",
     "output_type": "stream",
     "text": [
      "row index:  21 should be dropped as it has not outgoing edges\n"
     ]
    }
   ],
   "source": [
    "npp_adj = graph_utils.read_npp_interaction_matrices()\n",
    "npp_adj = pd.DataFrame(npp_adj)\n",
    "npp_adj.index = npp_adj.index.astype(str)\n",
    "npp_adj.columns = npp_adj.columns.astype(str)\n",
    "\n",
    "#Find all nodes with zero outgoing edges\n",
    "index_to_drop = []\n",
    "for index, row in npp_adj.iterrows():\n",
    "    if (np.sum(row) == 0):\n",
    "        index_to_drop.append(index)\n",
    "        print(\"row index: \",index, \"should be dropped as it has not outgoing edges\")\n",
    "\n",
    "#Drop some rows based on their connections\n",
    "for ind in index_to_drop:\n",
    "    npp_adj = npp_adj.drop(ind, axis=0)\n",
    "    npp_adj = npp_adj.drop(ind, axis=1)\n",
    "    \n",
    "melted = pd.melt(npp_adj.reset_index(), id_vars='index')\n",
    "melted.columns = [\"row\", 'col', 'value']\n",
    "melted[\"rank_row\"] = melted.groupby(\"row\")[\"value\"].rank(\"dense\", ascending=False)\n",
    "melted[\"rank_col\"] = melted.groupby(\"col\")[\"value\"].rank(\"dense\", ascending=False)\n",
    "melted['keep'] = np.where((melted['rank_row'] <= 7) | (melted['rank_col'] <= 7), melted['value'], 0.)\n",
    "new_df = melted.pivot(index='row', columns='col', values='keep')\n",
    "new_df = new_df.loc[[i for i in npp_adj.index.tolist()]][[i for i in npp_adj.columns.tolist()]]"
   ]
  },
  {
   "cell_type": "code",
   "execution_count": 378,
   "metadata": {},
   "outputs": [],
   "source": [
    "sk = skp.SinkhornKnopp()\n",
    "new_df[new_df == 0] = 0.00001\n",
    "new_df = sk.fit(new_df)"
   ]
  },
  {
   "cell_type": "code",
   "execution_count": 397,
   "metadata": {},
   "outputs": [
    {
     "data": {
      "image/png": "[encoded data removed]",
      "text/plain": [
       "<Figure size 432x288 with 2 Axes>"
      ]
     },
     "metadata": {
      "needs_background": "light"
     },
     "output_type": "display_data"
    }
   ],
   "source": [
    "sns.heatmap(new_df)\n",
    "new_df = pd.DataFrame(new_df)\n",
    "new_df.index = npp_adj.index.astype(str)\n",
    "new_df.columns = npp_adj.columns.astype(str)"
   ]
  },
  {
   "cell_type": "code",
   "execution_count": 398,
   "metadata": {},
   "outputs": [
    {
     "name": "stdout",
     "output_type": "stream",
     "text": [
      "Building a directed graph edge list\n"
     ]
    }
   ],
   "source": [
    "edges = graph_utils.build_edge_list(weight_matrix=new_df, threshold=None, directed=True)"
   ]
  },
  {
   "cell_type": "code",
   "execution_count": 402,
   "metadata": {},
   "outputs": [],
   "source": [
    "edges = graph_utils.build_edge_list(weight_matrix=new_df, threshold=None, directed=True)\n",
    "nxg = graph_utils.build_nx_graph(source_target_weight=edges, directed=True)\n",
    "\n",
    "# 2) Create stellar Di graphs\n",
    "sdg = StellarDiGraph(nxg)\n",
    "BDWW.BeginWalk(sdg, begin_checks=True, weighted=True, directed=True)\n",
    "rw = BDWW.BiasedDirectedRandomWalk(sdg, directed=True, weighted=True, begin_checks=False)\n",
    "\n",
    "nodes = list(sdg.nodes())\n",
    "walks = rw.run(nodes=nodes, length=100, n=100, p=1, q=1, weighted=True, directed=True)\n",
    "\n",
    "utils.write_list_of_lists_to_csv(\"/Users/fahimehb/Documents/NPP_GNN_project/dat/walk_double_stochastic_7connections.csv\", walks)"
   ]
  },
  {
   "cell_type": "code",
   "execution_count": 404,
   "metadata": {},
   "outputs": [],
   "source": [
    "prefix = \"run_Adcyap1-Adcyap1r1\"\n",
    "finished_epoch = 100 + 100\n",
    "p = []\n",
    "for e in range(100, finished_epoch, 100):\n",
    "    epoch = e\n",
    "    n_emb = 3\n",
    "\n",
    "    E = pd.read_csv(\"/Users/fahimehb/Documents/NPP_GNN_project/dat/\" + \n",
    "                    prefix + \"_\" + str(epoch) + \"_E_w1_\" + str(n_emb) + \"d.csv\", index_col=\"Unnamed: 0\")\n",
    "    R = pd.read_csv(\"/Users/fahimehb/Documents/NPP_GNN_project/dat/\" + \n",
    "                    prefix + \"_\" + str(epoch) + \"_R_w1_\" + str(n_emb) + \"d.csv\", index_col=\"Unnamed: 0\")\n",
    "\n",
    "    E.index = E.index.astype(str)\n",
    "    R.index = R.index.astype(str)\n",
    "\n",
    "    E_to_R_dist = analysis.get_distance_between_eachrow_of_one_df_with_all_rows_of_other_df(E[[\"Z\" + str(i) for i in range(n_emb)]], \n",
    "                                                                                        R[[\"Z\" + str(i) for i in range(n_emb)]])\n",
    "    p.append(analysis.Compute_node_average_ndcg(adj=th_subclass_npp, e_to_r=E_to_R_dist, k=7))   "
   ]
  },
  {
   "cell_type": "code",
   "execution_count": 788,
   "metadata": {},
   "outputs": [
    {
     "name": "stdout",
     "output_type": "stream",
     "text": [
      "Reading cldf from: //Users/fahimehb/Documents/NPP_GNN_project/dat/cl_df_VISp_annotation.csv\n"
     ]
    }
   ],
   "source": [
    "cldf=utils.read_visp_npp_cldf()"
   ]
  },
  {
   "cell_type": "code",
   "execution_count": 789,
   "metadata": {},
   "outputs": [],
   "source": [
    "E.index.name = \"cluster_id\"\n",
    "R.index.name = \"cluster_id\"\n",
    "E = pd.merge(cldf, E, on =\"cluster_id\")[['Z0', \"Z1\", \"Z2\", \"cluster_color\", \"cluster_label\"]]\n",
    "R = pd.merge(cldf, R, on =\"cluster_id\")[['Z0', \"Z1\", \"Z2\", \"cluster_color\", \"cluster_label\"]]"
   ]
  },
  {
   "cell_type": "code",
   "execution_count": 790,
   "metadata": {},
   "outputs": [
    {
     "name": "stdout",
     "output_type": "stream",
     "text": [
      "Z0    2.571429e-08\n",
      "Z1    5.000000e-09\n",
      "Z2   -2.428571e-09\n",
      "dtype: float64\n",
      "Z0    0.002253\n",
      "Z1   -0.000134\n",
      "Z2    0.000618\n",
      "dtype: float64\n"
     ]
    }
   ],
   "source": [
    "print(np.mean(E))\n",
    "print(np.mean(R))"
   ]
  },
  {
   "cell_type": "code",
   "execution_count": 792,
   "metadata": {},
   "outputs": [
    {
     "name": "stdout",
     "output_type": "stream",
     "text": [
      "Warning: Cannot change to a different GUI toolkit: qt5. Using qt instead.\n"
     ]
    }
   ],
   "source": [
    "%matplotlib qt5\n",
    "plot_utils.plot_ER(E, R, (10,10), plot_dim=3, annotation=True,  E_marker='o', R_marker='x', use_type_colors=True)\n",
    "plt.show()"
   ]
  },
  {
   "cell_type": "code",
   "execution_count": 793,
   "metadata": {},
   "outputs": [
    {
     "data": {
      "text/plain": [
       "Text(0, 0.5, 'nandcg@7')"
      ]
     },
     "execution_count": 793,
     "metadata": {},
     "output_type": "execute_result"
    }
   ],
   "source": [
    "plt.scatter([i for i in range(100, finished_epoch, 100)],p)\n",
    "plt.plot([i for i in range(100, finished_epoch, 100)], p)\n",
    "plt.xlabel(\"epochs\")\n",
    "plt.ylabel(\"nandcg@7\")"
   ]
  },
  {
   "cell_type": "code",
   "execution_count": 794,
   "metadata": {},
   "outputs": [],
   "source": [
    "%matplotlib qt\n",
    "ndcg, _ = plot_utils.plot_node_average_ndcg(adj=th_subclass_npp, e_to_r=E_to_R_dist, k=5, figsize=(15,5))"
   ]
  },
  {
   "cell_type": "code",
   "execution_count": 5,
   "metadata": {},
   "outputs": [
    {
     "data": {
      "text/plain": [
       "0.13750352374993502"
      ]
     },
     "execution_count": 5,
     "metadata": {},
     "output_type": "execute_result"
    }
   ],
   "source": [
    "np.log2(0.1+1)"
   ]
  },
  {
   "cell_type": "code",
   "execution_count": 760,
   "metadata": {},
   "outputs": [
    {
     "data": {
      "text/html": [
       "<div>\n",
       "<style scoped>\n",
       "    .dataframe tbody tr th:only-of-type {\n",
       "        vertical-align: middle;\n",
       "    }\n",
       "\n",
       "    .dataframe tbody tr th {\n",
       "        vertical-align: top;\n",
       "    }\n",
       "\n",
       "    .dataframe thead th {\n",
       "        text-align: right;\n",
       "    }\n",
       "</style>\n",
       "<table border=\"1\" class=\"dataframe\">\n",
       "  <thead>\n",
       "    <tr style=\"text-align: right;\">\n",
       "      <th></th>\n",
       "      <th>8</th>\n",
       "      <th>12</th>\n",
       "      <th>9</th>\n",
       "      <th>7</th>\n",
       "      <th>6</th>\n",
       "      <th>10</th>\n",
       "      <th>1</th>\n",
       "      <th>5</th>\n",
       "      <th>2</th>\n",
       "      <th>14</th>\n",
       "      <th>13</th>\n",
       "      <th>11</th>\n",
       "      <th>4</th>\n",
       "      <th>3</th>\n",
       "    </tr>\n",
       "  </thead>\n",
       "  <tbody>\n",
       "    <tr>\n",
       "      <th>8</th>\n",
       "      <td>0.942988</td>\n",
       "      <td>0.274125</td>\n",
       "      <td>1.06368</td>\n",
       "      <td>0.874333</td>\n",
       "      <td>2.48119</td>\n",
       "      <td>1.08366</td>\n",
       "      <td>0.0294922</td>\n",
       "      <td>0.382751</td>\n",
       "      <td>0</td>\n",
       "      <td>0.777108</td>\n",
       "      <td>0.287647</td>\n",
       "      <td>0.21519</td>\n",
       "      <td>0.312922</td>\n",
       "      <td>0.317302</td>\n",
       "    </tr>\n",
       "    <tr>\n",
       "      <th>12</th>\n",
       "      <td>0.304256</td>\n",
       "      <td>1.80364</td>\n",
       "      <td>0.664834</td>\n",
       "      <td>0.133482</td>\n",
       "      <td>0.776925</td>\n",
       "      <td>0.696902</td>\n",
       "      <td>1.72335</td>\n",
       "      <td>2.73714</td>\n",
       "      <td>1.70821</td>\n",
       "      <td>0</td>\n",
       "      <td>2.43565</td>\n",
       "      <td>1.7816</td>\n",
       "      <td>3.04924</td>\n",
       "      <td>3.06481</td>\n",
       "    </tr>\n",
       "    <tr>\n",
       "      <th>9</th>\n",
       "      <td>3.08888</td>\n",
       "      <td>0.0672904</td>\n",
       "      <td>2.743</td>\n",
       "      <td>3.23061</td>\n",
       "      <td>0.727653</td>\n",
       "      <td>2.70977</td>\n",
       "      <td>0.00201407</td>\n",
       "      <td>0.181219</td>\n",
       "      <td>0</td>\n",
       "      <td>3.37914</td>\n",
       "      <td>0.170644</td>\n",
       "      <td>0.0573526</td>\n",
       "      <td>0.340062</td>\n",
       "      <td>0.32283</td>\n",
       "    </tr>\n",
       "    <tr>\n",
       "      <th>7</th>\n",
       "      <td>3.0866</td>\n",
       "      <td>0.066664</td>\n",
       "      <td>2.74003</td>\n",
       "      <td>3.23063</td>\n",
       "      <td>0.730242</td>\n",
       "      <td>2.70677</td>\n",
       "      <td>0.00191815</td>\n",
       "      <td>0.178536</td>\n",
       "      <td>0</td>\n",
       "      <td>3.38025</td>\n",
       "      <td>0.168577</td>\n",
       "      <td>0.0568737</td>\n",
       "      <td>0.337326</td>\n",
       "      <td>0.320069</td>\n",
       "    </tr>\n",
       "    <tr>\n",
       "      <th>6</th>\n",
       "      <td>0.291045</td>\n",
       "      <td>3.2951</td>\n",
       "      <td>0.599506</td>\n",
       "      <td>0.148822</td>\n",
       "      <td>1.03395</td>\n",
       "      <td>0.623404</td>\n",
       "      <td>3.15717</td>\n",
       "      <td>2.48659</td>\n",
       "      <td>3.11751</td>\n",
       "      <td>0</td>\n",
       "      <td>2.81737</td>\n",
       "      <td>3.29783</td>\n",
       "      <td>1.89645</td>\n",
       "      <td>1.90551</td>\n",
       "    </tr>\n",
       "    <tr>\n",
       "      <th>10</th>\n",
       "      <td>3.08423</td>\n",
       "      <td>0.0661747</td>\n",
       "      <td>2.73662</td>\n",
       "      <td>3.2306</td>\n",
       "      <td>0.732385</td>\n",
       "      <td>2.70329</td>\n",
       "      <td>0.00184123</td>\n",
       "      <td>0.175436</td>\n",
       "      <td>0</td>\n",
       "      <td>3.3808</td>\n",
       "      <td>0.16628</td>\n",
       "      <td>0.0565079</td>\n",
       "      <td>0.333507</td>\n",
       "      <td>0.316243</td>\n",
       "    </tr>\n",
       "    <tr>\n",
       "      <th>1</th>\n",
       "      <td>0.2858</td>\n",
       "      <td>3.07993</td>\n",
       "      <td>0.588699</td>\n",
       "      <td>0.145717</td>\n",
       "      <td>0.817121</td>\n",
       "      <td>0.610624</td>\n",
       "      <td>3.32425</td>\n",
       "      <td>2.39391</td>\n",
       "      <td>3.33229</td>\n",
       "      <td>0</td>\n",
       "      <td>2.74999</td>\n",
       "      <td>3.14755</td>\n",
       "      <td>1.85644</td>\n",
       "      <td>1.86172</td>\n",
       "    </tr>\n",
       "    <tr>\n",
       "      <th>5</th>\n",
       "      <td>0.291061</td>\n",
       "      <td>3.25365</td>\n",
       "      <td>0.59991</td>\n",
       "      <td>0.148543</td>\n",
       "      <td>0.996448</td>\n",
       "      <td>0.623709</td>\n",
       "      <td>3.13481</td>\n",
       "      <td>2.46509</td>\n",
       "      <td>3.09614</td>\n",
       "      <td>0</td>\n",
       "      <td>2.80238</td>\n",
       "      <td>3.26829</td>\n",
       "      <td>1.88317</td>\n",
       "      <td>1.89149</td>\n",
       "    </tr>\n",
       "    <tr>\n",
       "      <th>2</th>\n",
       "      <td>0.284153</td>\n",
       "      <td>3.03532</td>\n",
       "      <td>0.584355</td>\n",
       "      <td>0.145256</td>\n",
       "      <td>0.781819</td>\n",
       "      <td>0.605778</td>\n",
       "      <td>3.30471</td>\n",
       "      <td>2.34243</td>\n",
       "      <td>3.32997</td>\n",
       "      <td>0</td>\n",
       "      <td>2.69963</td>\n",
       "      <td>3.10616</td>\n",
       "      <td>1.81408</td>\n",
       "      <td>1.81865</td>\n",
       "    </tr>\n",
       "    <tr>\n",
       "      <th>14</th>\n",
       "      <td>3.08928</td>\n",
       "      <td>0.0674255</td>\n",
       "      <td>2.74361</td>\n",
       "      <td>3.23022</td>\n",
       "      <td>0.726012</td>\n",
       "      <td>2.71037</td>\n",
       "      <td>0.00203695</td>\n",
       "      <td>0.181843</td>\n",
       "      <td>0</td>\n",
       "      <td>3.37816</td>\n",
       "      <td>0.171164</td>\n",
       "      <td>0.0574571</td>\n",
       "      <td>0.34059</td>\n",
       "      <td>0.323366</td>\n",
       "    </tr>\n",
       "    <tr>\n",
       "      <th>13</th>\n",
       "      <td>0.292309</td>\n",
       "      <td>0.889579</td>\n",
       "      <td>0.649038</td>\n",
       "      <td>0.119711</td>\n",
       "      <td>0.425237</td>\n",
       "      <td>0.682253</td>\n",
       "      <td>0.796671</td>\n",
       "      <td>1.75534</td>\n",
       "      <td>0.78328</td>\n",
       "      <td>0</td>\n",
       "      <td>1.47469</td>\n",
       "      <td>0.865082</td>\n",
       "      <td>2.33841</td>\n",
       "      <td>2.32131</td>\n",
       "    </tr>\n",
       "    <tr>\n",
       "      <th>11</th>\n",
       "      <td>0.30523</td>\n",
       "      <td>1.76958</td>\n",
       "      <td>0.666856</td>\n",
       "      <td>0.133987</td>\n",
       "      <td>0.88087</td>\n",
       "      <td>0.699921</td>\n",
       "      <td>1.66302</td>\n",
       "      <td>2.72574</td>\n",
       "      <td>1.64456</td>\n",
       "      <td>0</td>\n",
       "      <td>2.38835</td>\n",
       "      <td>1.7404</td>\n",
       "      <td>3.03119</td>\n",
       "      <td>3.0577</td>\n",
       "    </tr>\n",
       "    <tr>\n",
       "      <th>4</th>\n",
       "      <td>0.294969</td>\n",
       "      <td>2.81245</td>\n",
       "      <td>0.606368</td>\n",
       "      <td>0.151386</td>\n",
       "      <td>1.31182</td>\n",
       "      <td>0.632815</td>\n",
       "      <td>2.52635</td>\n",
       "      <td>2.36921</td>\n",
       "      <td>2.48717</td>\n",
       "      <td>0</td>\n",
       "      <td>2.56678</td>\n",
       "      <td>2.73848</td>\n",
       "      <td>1.7863</td>\n",
       "      <td>1.79864</td>\n",
       "    </tr>\n",
       "    <tr>\n",
       "      <th>3</th>\n",
       "      <td>0.29044</td>\n",
       "      <td>3.23962</td>\n",
       "      <td>0.597147</td>\n",
       "      <td>0.148908</td>\n",
       "      <td>0.997673</td>\n",
       "      <td>0.620812</td>\n",
       "      <td>3.03717</td>\n",
       "      <td>2.38962</td>\n",
       "      <td>2.99876</td>\n",
       "      <td>0</td>\n",
       "      <td>2.72071</td>\n",
       "      <td>3.22562</td>\n",
       "      <td>1.81207</td>\n",
       "      <td>1.82001</td>\n",
       "    </tr>\n",
       "  </tbody>\n",
       "</table>\n",
       "</div>"
      ],
      "text/plain": [
       "           8         12         9         7         6        10           1  \\\n",
       "8   0.942988   0.274125   1.06368  0.874333   2.48119   1.08366   0.0294922   \n",
       "12  0.304256    1.80364  0.664834  0.133482  0.776925  0.696902     1.72335   \n",
       "9    3.08888  0.0672904     2.743   3.23061  0.727653   2.70977  0.00201407   \n",
       "7     3.0866   0.066664   2.74003   3.23063  0.730242   2.70677  0.00191815   \n",
       "6   0.291045     3.2951  0.599506  0.148822   1.03395  0.623404     3.15717   \n",
       "10   3.08423  0.0661747   2.73662    3.2306  0.732385   2.70329  0.00184123   \n",
       "1     0.2858    3.07993  0.588699  0.145717  0.817121  0.610624     3.32425   \n",
       "5   0.291061    3.25365   0.59991  0.148543  0.996448  0.623709     3.13481   \n",
       "2   0.284153    3.03532  0.584355  0.145256  0.781819  0.605778     3.30471   \n",
       "14   3.08928  0.0674255   2.74361   3.23022  0.726012   2.71037  0.00203695   \n",
       "13  0.292309   0.889579  0.649038  0.119711  0.425237  0.682253    0.796671   \n",
       "11   0.30523    1.76958  0.666856  0.133987   0.88087  0.699921     1.66302   \n",
       "4   0.294969    2.81245  0.606368  0.151386   1.31182  0.632815     2.52635   \n",
       "3    0.29044    3.23962  0.597147  0.148908  0.997673  0.620812     3.03717   \n",
       "\n",
       "           5        2        14        13         11         4         3  \n",
       "8   0.382751        0  0.777108  0.287647    0.21519  0.312922  0.317302  \n",
       "12   2.73714  1.70821         0   2.43565     1.7816   3.04924   3.06481  \n",
       "9   0.181219        0   3.37914  0.170644  0.0573526  0.340062   0.32283  \n",
       "7   0.178536        0   3.38025  0.168577  0.0568737  0.337326  0.320069  \n",
       "6    2.48659  3.11751         0   2.81737    3.29783   1.89645   1.90551  \n",
       "10  0.175436        0    3.3808   0.16628  0.0565079  0.333507  0.316243  \n",
       "1    2.39391  3.33229         0   2.74999    3.14755   1.85644   1.86172  \n",
       "5    2.46509  3.09614         0   2.80238    3.26829   1.88317   1.89149  \n",
       "2    2.34243  3.32997         0   2.69963    3.10616   1.81408   1.81865  \n",
       "14  0.181843        0   3.37816  0.171164  0.0574571   0.34059  0.323366  \n",
       "13   1.75534  0.78328         0   1.47469   0.865082   2.33841   2.32131  \n",
       "11   2.72574  1.64456         0   2.38835     1.7404   3.03119    3.0577  \n",
       "4    2.36921  2.48717         0   2.56678    2.73848    1.7863   1.79864  \n",
       "3    2.38962  2.99876         0   2.72071    3.22562   1.81207   1.82001  "
      ]
     },
     "execution_count": 760,
     "metadata": {},
     "output_type": "execute_result"
    }
   ],
   "source": [
    "similarity"
   ]
  },
  {
   "cell_type": "code",
   "execution_count": 761,
   "metadata": {},
   "outputs": [
    {
     "name": "stdout",
     "output_type": "stream",
     "text": [
      "This measure makes sense for when the small weights are set to zero and everything morethan 0.00001 is a relevant weight and almost equal to all other weights\n"
     ]
    }
   ],
   "source": [
    "similarity = analysis.get_similarity_from_distance_matrix(E_to_R_dist)\n",
    "predictions = analysis.get_predictions_correct_format_for_precision_recall_function(estimated_relevance=similarity, \n",
    "                                                                                    true_relevance=th_subclass_npp)\n",
    "precisions, recalls, sorted_user_est_true= analysis.precision_recall_at_k(predictions, k=7)\n",
    "\n",
    "# plot_utils.plot_dict(precisions, \"node_ids\", \"precisions@7\", 90, order_of_x_values=new_df.index.tolist())\n",
    "# plot_utils.plot_dict(recalls, \"node_ids\", \"precisions\", 90)"
   ]
  },
  {
   "cell_type": "code",
   "execution_count": 785,
   "metadata": {},
   "outputs": [
    {
     "name": "stdout",
     "output_type": "stream",
     "text": [
      "Closet neighbors of subclass_label Sst\n",
      "______________________________________\n"
     ]
    },
    {
     "data": {
      "text/html": [
       "<div>\n",
       "<style scoped>\n",
       "    .dataframe tbody tr th:only-of-type {\n",
       "        vertical-align: middle;\n",
       "    }\n",
       "\n",
       "    .dataframe tbody tr th {\n",
       "        vertical-align: top;\n",
       "    }\n",
       "\n",
       "    .dataframe thead th {\n",
       "        text-align: right;\n",
       "    }\n",
       "</style>\n",
       "<table border=\"1\" class=\"dataframe\">\n",
       "  <thead>\n",
       "    <tr style=\"text-align: right;\">\n",
       "      <th></th>\n",
       "      <th>predicted_neighbors_weights</th>\n",
       "      <th>predicted_closest_neighbors_index</th>\n",
       "      <th>predicted_closest_neighbors_label</th>\n",
       "      <th>Actual_neighbor_weights</th>\n",
       "      <th>Actual_neighbor_index</th>\n",
       "      <th>Actual_neighbor_label</th>\n",
       "      <th>match</th>\n",
       "    </tr>\n",
       "  </thead>\n",
       "  <tbody>\n",
       "    <tr>\n",
       "      <th>0</th>\n",
       "      <td>0.181898</td>\n",
       "      <td>11</td>\n",
       "      <td>L5 PT</td>\n",
       "      <td>0.196824</td>\n",
       "      <td>1</td>\n",
       "      <td>Lamp5</td>\n",
       "      <td>1</td>\n",
       "    </tr>\n",
       "    <tr>\n",
       "      <th>1</th>\n",
       "      <td>0.140942</td>\n",
       "      <td>12</td>\n",
       "      <td>NP</td>\n",
       "      <td>0.181898</td>\n",
       "      <td>11</td>\n",
       "      <td>L5 PT</td>\n",
       "      <td>1</td>\n",
       "    </tr>\n",
       "    <tr>\n",
       "      <th>2</th>\n",
       "      <td>0.196824</td>\n",
       "      <td>1</td>\n",
       "      <td>Lamp5</td>\n",
       "      <td>0.140942</td>\n",
       "      <td>12</td>\n",
       "      <td>NP</td>\n",
       "      <td>1</td>\n",
       "    </tr>\n",
       "    <tr>\n",
       "      <th>3</th>\n",
       "      <td>0.129124</td>\n",
       "      <td>2</td>\n",
       "      <td>Sncg</td>\n",
       "      <td>0.129124</td>\n",
       "      <td>2</td>\n",
       "      <td>Sncg</td>\n",
       "      <td>1</td>\n",
       "    </tr>\n",
       "    <tr>\n",
       "      <th>4</th>\n",
       "      <td>0.116118</td>\n",
       "      <td>13</td>\n",
       "      <td>L6 CT</td>\n",
       "      <td>0.116118</td>\n",
       "      <td>13</td>\n",
       "      <td>L6 CT</td>\n",
       "      <td>1</td>\n",
       "    </tr>\n",
       "  </tbody>\n",
       "</table>\n",
       "</div>"
      ],
      "text/plain": [
       "   predicted_neighbors_weights predicted_closest_neighbors_index  \\\n",
       "0                     0.181898                                11   \n",
       "1                     0.140942                                12   \n",
       "2                     0.196824                                 1   \n",
       "3                     0.129124                                 2   \n",
       "4                     0.116118                                13   \n",
       "\n",
       "  predicted_closest_neighbors_label  Actual_neighbor_weights  \\\n",
       "0                             L5 PT                 0.196824   \n",
       "1                                NP                 0.181898   \n",
       "2                             Lamp5                 0.140942   \n",
       "3                              Sncg                 0.129124   \n",
       "4                             L6 CT                 0.116118   \n",
       "\n",
       "  Actual_neighbor_index Actual_neighbor_label  match  \n",
       "0                     1                 Lamp5      1  \n",
       "1                    11                 L5 PT      1  \n",
       "2                    12                    NP      1  \n",
       "3                     2                  Sncg      1  \n",
       "4                    13                 L6 CT      1  "
      ]
     },
     "execution_count": 785,
     "metadata": {},
     "output_type": "execute_result"
    }
   ],
   "source": [
    "node_id = '5'\n",
    "tmp = analysis.get_closest_nodes_info(node_id, E_to_R_dist, th_subclass_npp, 5, cldf, \"subclass_label\")\n",
    "tmp"
   ]
  },
  {
   "cell_type": "code",
   "execution_count": 653,
   "metadata": {},
   "outputs": [
    {
     "name": "stdout",
     "output_type": "stream",
     "text": [
      "0.9970636522729049\n",
      "1.0\n"
     ]
    }
   ],
   "source": [
    "true_y, predicted_y,_, ndcg = analysis.get_distance_ndcg_score(node_id, E_to_R_dist, th_subclass_npp, 7)\n",
    "print(ndcg)\n",
    "print(precisions[node_id])"
   ]
  },
  {
   "cell_type": "code",
   "execution_count": 383,
   "metadata": {},
   "outputs": [],
   "source": [
    "# sorted(new_df.loc[node_id], reverse=True)"
   ]
  },
  {
   "cell_type": "code",
   "execution_count": 138,
   "metadata": {},
   "outputs": [],
   "source": [
    "minvar = utils.read_list_from_csv(\"/Users/fahimehb/Documents/NPP_GNN_project/dat/\" + prefix + \"_minvar.csv\")\n",
    "mvl0 = utils.read_list_from_csv(\"/Users/fahimehb/Documents/NPP_GNN_project/dat/\" + prefix + \"_mvl0.csv\")\n",
    "mvl1 = utils.read_list_from_csv(\"/Users/fahimehb/Documents/NPP_GNN_project/dat/\" + prefix + \"_mvl1.csv\")\n",
    "\n",
    "\n",
    "plt.plot([np.float(mv) for mv in minvar], label=\"min_svd\", c='Blue', linestyle='dashed',alpha=0.75)\n",
    "plt.plot([np.float(mv) for mv in mvl0], label=\"svd-dim0\", c='Red', alpha=0.5)\n",
    "plt.plot([np.float(mv) for mv in mvl1], label=\"svd-dim1\", c='Green', alpha=0.5)\n",
    "\n",
    "plt.xlabel(\"epochs\")\n",
    "plt.ylabel(\"svd\")\n",
    "plt.legend()\n",
    "plt.show()"
   ]
  },
  {
   "cell_type": "code",
   "execution_count": 199,
   "metadata": {},
   "outputs": [],
   "source": [
    "dist = utils.read_list_from_csv(\"/Users/fahimehb/Documents/NPP_GNN_project/dat/\" + prefix + \"_mean_d.csv\")\n",
    "\n",
    "plt.plot([np.float(d) for d in dist], label=\"mean_dist\")\n",
    "plt.show()"
   ]
  },
  {
   "cell_type": "code",
   "execution_count": 36,
   "metadata": {},
   "outputs": [],
   "source": [
    "dist = utils.read_list_from_csv(\"/Users/fahimehb/Documents/NPP_GNN_project/dat/\" + prefix + \"_loss.csv\")\n",
    "\n",
    "plt.plot([np.float(d) for d in dist], label=\"loss\")\n",
    "plt.show()"
   ]
  },
  {
   "cell_type": "markdown",
   "metadata": {},
   "source": [
    "# Subclass level graph"
   ]
  },
  {
   "cell_type": "code",
   "execution_count": 376,
   "metadata": {},
   "outputs": [],
   "source": [
    "npp_adj = graph_utils.read_npp_interaction_matrices()\n",
    "npp_adj = pd.DataFrame(npp_adj)\n",
    "npp_adj.index = npp_adj.index.astype(str)\n",
    "npp_adj.columns = npp_adj.columns.astype(str)\n",
    "npp_adj.index.name = 'cluster_id'\n",
    "\n",
    "\n",
    "npp_adj = pd.merge(npp_adj, cldf[['subclass_id']], on=\"cluster_id\")\n",
    "npp_adj = npp_adj.groupby(\"subclass_id\").mean()\n",
    "\n",
    "npp_adj = npp_adj.T\n",
    "npp_adj.index.name = \"cluster_id\"\n",
    "npp_adj = pd.merge(npp_adj, cldf[['subclass_id']], on=\"cluster_id\")\n",
    "npp_adj = npp_adj.groupby(\"subclass_id\").mean()\n",
    "npp_adj = npp_adj.T\n",
    "npp_adj.index = npp_adj.index.astype(str)\n",
    "npp_adj.columns = npp_adj.columns.astype(str)"
   ]
  },
  {
   "cell_type": "code",
   "execution_count": 377,
   "metadata": {},
   "outputs": [
    {
     "data": {
      "text/html": [
       "<div>\n",
       "<style scoped>\n",
       "    .dataframe tbody tr th:only-of-type {\n",
       "        vertical-align: middle;\n",
       "    }\n",
       "\n",
       "    .dataframe tbody tr th {\n",
       "        vertical-align: top;\n",
       "    }\n",
       "\n",
       "    .dataframe thead th {\n",
       "        text-align: right;\n",
       "    }\n",
       "</style>\n",
       "<table border=\"1\" class=\"dataframe\">\n",
       "  <thead>\n",
       "    <tr style=\"text-align: right;\">\n",
       "      <th>subclass_id</th>\n",
       "      <th>1</th>\n",
       "      <th>2</th>\n",
       "      <th>3</th>\n",
       "      <th>4</th>\n",
       "      <th>5</th>\n",
       "      <th>6</th>\n",
       "      <th>7</th>\n",
       "      <th>8</th>\n",
       "      <th>9</th>\n",
       "      <th>10</th>\n",
       "      <th>11</th>\n",
       "      <th>12</th>\n",
       "      <th>13</th>\n",
       "      <th>14</th>\n",
       "    </tr>\n",
       "  </thead>\n",
       "  <tbody>\n",
       "    <tr>\n",
       "      <th>1</th>\n",
       "      <td>0.691190</td>\n",
       "      <td>1.269353</td>\n",
       "      <td>0.713264</td>\n",
       "      <td>1.317430</td>\n",
       "      <td>0.530921</td>\n",
       "      <td>0.302688</td>\n",
       "      <td>1.020234</td>\n",
       "      <td>1.053363</td>\n",
       "      <td>1.136423</td>\n",
       "      <td>1.045150</td>\n",
       "      <td>0.649073</td>\n",
       "      <td>0.314113</td>\n",
       "      <td>0.665001</td>\n",
       "      <td>0.741349</td>\n",
       "    </tr>\n",
       "    <tr>\n",
       "      <th>2</th>\n",
       "      <td>0.593083</td>\n",
       "      <td>1.383845</td>\n",
       "      <td>0.638998</td>\n",
       "      <td>1.376352</td>\n",
       "      <td>0.437578</td>\n",
       "      <td>0.334547</td>\n",
       "      <td>1.434059</td>\n",
       "      <td>1.570507</td>\n",
       "      <td>1.327735</td>\n",
       "      <td>1.124677</td>\n",
       "      <td>0.693525</td>\n",
       "      <td>0.221353</td>\n",
       "      <td>0.721046</td>\n",
       "      <td>1.048185</td>\n",
       "    </tr>\n",
       "    <tr>\n",
       "      <th>3</th>\n",
       "      <td>0.644686</td>\n",
       "      <td>1.332554</td>\n",
       "      <td>0.680675</td>\n",
       "      <td>1.346506</td>\n",
       "      <td>0.593786</td>\n",
       "      <td>0.433459</td>\n",
       "      <td>1.505054</td>\n",
       "      <td>1.685983</td>\n",
       "      <td>1.456854</td>\n",
       "      <td>1.211027</td>\n",
       "      <td>0.822971</td>\n",
       "      <td>0.371690</td>\n",
       "      <td>0.807024</td>\n",
       "      <td>1.168458</td>\n",
       "    </tr>\n",
       "    <tr>\n",
       "      <th>4</th>\n",
       "      <td>0.587974</td>\n",
       "      <td>0.456030</td>\n",
       "      <td>0.489898</td>\n",
       "      <td>0.849752</td>\n",
       "      <td>1.104440</td>\n",
       "      <td>0.707329</td>\n",
       "      <td>0.925240</td>\n",
       "      <td>1.394830</td>\n",
       "      <td>1.446243</td>\n",
       "      <td>1.234872</td>\n",
       "      <td>0.835101</td>\n",
       "      <td>0.622629</td>\n",
       "      <td>0.817783</td>\n",
       "      <td>1.223660</td>\n",
       "    </tr>\n",
       "    <tr>\n",
       "      <th>5</th>\n",
       "      <td>1.579451</td>\n",
       "      <td>1.759144</td>\n",
       "      <td>1.378846</td>\n",
       "      <td>2.356874</td>\n",
       "      <td>1.439514</td>\n",
       "      <td>0.664598</td>\n",
       "      <td>1.531186</td>\n",
       "      <td>1.452457</td>\n",
       "      <td>2.437079</td>\n",
       "      <td>2.787767</td>\n",
       "      <td>1.525554</td>\n",
       "      <td>0.608457</td>\n",
       "      <td>1.675253</td>\n",
       "      <td>1.663001</td>\n",
       "    </tr>\n",
       "    <tr>\n",
       "      <th>6</th>\n",
       "      <td>0.862457</td>\n",
       "      <td>0.990023</td>\n",
       "      <td>0.820444</td>\n",
       "      <td>1.326882</td>\n",
       "      <td>0.695740</td>\n",
       "      <td>0.417265</td>\n",
       "      <td>0.925987</td>\n",
       "      <td>0.834540</td>\n",
       "      <td>1.471639</td>\n",
       "      <td>1.557324</td>\n",
       "      <td>0.878453</td>\n",
       "      <td>0.379103</td>\n",
       "      <td>0.991948</td>\n",
       "      <td>0.769852</td>\n",
       "    </tr>\n",
       "    <tr>\n",
       "      <th>7</th>\n",
       "      <td>0.213191</td>\n",
       "      <td>0.153508</td>\n",
       "      <td>0.216469</td>\n",
       "      <td>0.311333</td>\n",
       "      <td>0.421482</td>\n",
       "      <td>0.387870</td>\n",
       "      <td>0.810430</td>\n",
       "      <td>0.723556</td>\n",
       "      <td>0.721725</td>\n",
       "      <td>0.731194</td>\n",
       "      <td>0.451919</td>\n",
       "      <td>0.143692</td>\n",
       "      <td>0.547936</td>\n",
       "      <td>1.084959</td>\n",
       "    </tr>\n",
       "    <tr>\n",
       "      <th>8</th>\n",
       "      <td>0.275117</td>\n",
       "      <td>0.342033</td>\n",
       "      <td>0.343948</td>\n",
       "      <td>0.335495</td>\n",
       "      <td>0.409689</td>\n",
       "      <td>0.393838</td>\n",
       "      <td>0.771542</td>\n",
       "      <td>0.734949</td>\n",
       "      <td>0.754574</td>\n",
       "      <td>0.761645</td>\n",
       "      <td>0.365253</td>\n",
       "      <td>0.152901</td>\n",
       "      <td>0.464245</td>\n",
       "      <td>0.730457</td>\n",
       "    </tr>\n",
       "    <tr>\n",
       "      <th>9</th>\n",
       "      <td>0.152824</td>\n",
       "      <td>0.168860</td>\n",
       "      <td>0.183345</td>\n",
       "      <td>0.184177</td>\n",
       "      <td>0.237044</td>\n",
       "      <td>0.276010</td>\n",
       "      <td>0.672873</td>\n",
       "      <td>0.598875</td>\n",
       "      <td>0.597620</td>\n",
       "      <td>0.602260</td>\n",
       "      <td>0.333146</td>\n",
       "      <td>0.084198</td>\n",
       "      <td>0.417425</td>\n",
       "      <td>0.711090</td>\n",
       "    </tr>\n",
       "    <tr>\n",
       "      <th>10</th>\n",
       "      <td>0.168780</td>\n",
       "      <td>0.092948</td>\n",
       "      <td>0.112779</td>\n",
       "      <td>0.169586</td>\n",
       "      <td>0.339428</td>\n",
       "      <td>0.330418</td>\n",
       "      <td>0.743966</td>\n",
       "      <td>0.630550</td>\n",
       "      <td>0.607870</td>\n",
       "      <td>0.601100</td>\n",
       "      <td>0.409166</td>\n",
       "      <td>0.106477</td>\n",
       "      <td>0.501024</td>\n",
       "      <td>1.048989</td>\n",
       "    </tr>\n",
       "    <tr>\n",
       "      <th>11</th>\n",
       "      <td>0.298249</td>\n",
       "      <td>0.362515</td>\n",
       "      <td>0.410269</td>\n",
       "      <td>0.472450</td>\n",
       "      <td>0.422935</td>\n",
       "      <td>0.292977</td>\n",
       "      <td>0.300293</td>\n",
       "      <td>0.363350</td>\n",
       "      <td>0.452681</td>\n",
       "      <td>0.485891</td>\n",
       "      <td>0.157886</td>\n",
       "      <td>0.173547</td>\n",
       "      <td>0.211748</td>\n",
       "      <td>0.189427</td>\n",
       "    </tr>\n",
       "    <tr>\n",
       "      <th>12</th>\n",
       "      <td>0.036957</td>\n",
       "      <td>0.022685</td>\n",
       "      <td>0.107560</td>\n",
       "      <td>0.250849</td>\n",
       "      <td>0.040850</td>\n",
       "      <td>0.020229</td>\n",
       "      <td>0.043215</td>\n",
       "      <td>0.047285</td>\n",
       "      <td>0.080801</td>\n",
       "      <td>0.082759</td>\n",
       "      <td>0.042470</td>\n",
       "      <td>0.031033</td>\n",
       "      <td>0.054608</td>\n",
       "      <td>0.038456</td>\n",
       "    </tr>\n",
       "    <tr>\n",
       "      <th>13</th>\n",
       "      <td>0.048984</td>\n",
       "      <td>0.040918</td>\n",
       "      <td>0.097161</td>\n",
       "      <td>0.187235</td>\n",
       "      <td>0.055053</td>\n",
       "      <td>0.032455</td>\n",
       "      <td>0.056244</td>\n",
       "      <td>0.061013</td>\n",
       "      <td>0.099810</td>\n",
       "      <td>0.104348</td>\n",
       "      <td>0.049101</td>\n",
       "      <td>0.025112</td>\n",
       "      <td>0.059133</td>\n",
       "      <td>0.039114</td>\n",
       "    </tr>\n",
       "    <tr>\n",
       "      <th>14</th>\n",
       "      <td>0.051761</td>\n",
       "      <td>0.033164</td>\n",
       "      <td>0.042217</td>\n",
       "      <td>0.060535</td>\n",
       "      <td>0.099584</td>\n",
       "      <td>0.066996</td>\n",
       "      <td>0.191328</td>\n",
       "      <td>0.224633</td>\n",
       "      <td>0.204005</td>\n",
       "      <td>0.189827</td>\n",
       "      <td>0.110336</td>\n",
       "      <td>0.134964</td>\n",
       "      <td>0.160863</td>\n",
       "      <td>0.228303</td>\n",
       "    </tr>\n",
       "  </tbody>\n",
       "</table>\n",
       "</div>"
      ],
      "text/plain": [
       "subclass_id         1         2         3         4         5         6  \\\n",
       "1            0.691190  1.269353  0.713264  1.317430  0.530921  0.302688   \n",
       "2            0.593083  1.383845  0.638998  1.376352  0.437578  0.334547   \n",
       "3            0.644686  1.332554  0.680675  1.346506  0.593786  0.433459   \n",
       "4            0.587974  0.456030  0.489898  0.849752  1.104440  0.707329   \n",
       "5            1.579451  1.759144  1.378846  2.356874  1.439514  0.664598   \n",
       "6            0.862457  0.990023  0.820444  1.326882  0.695740  0.417265   \n",
       "7            0.213191  0.153508  0.216469  0.311333  0.421482  0.387870   \n",
       "8            0.275117  0.342033  0.343948  0.335495  0.409689  0.393838   \n",
       "9            0.152824  0.168860  0.183345  0.184177  0.237044  0.276010   \n",
       "10           0.168780  0.092948  0.112779  0.169586  0.339428  0.330418   \n",
       "11           0.298249  0.362515  0.410269  0.472450  0.422935  0.292977   \n",
       "12           0.036957  0.022685  0.107560  0.250849  0.040850  0.020229   \n",
       "13           0.048984  0.040918  0.097161  0.187235  0.055053  0.032455   \n",
       "14           0.051761  0.033164  0.042217  0.060535  0.099584  0.066996   \n",
       "\n",
       "subclass_id         7         8         9        10        11        12  \\\n",
       "1            1.020234  1.053363  1.136423  1.045150  0.649073  0.314113   \n",
       "2            1.434059  1.570507  1.327735  1.124677  0.693525  0.221353   \n",
       "3            1.505054  1.685983  1.456854  1.211027  0.822971  0.371690   \n",
       "4            0.925240  1.394830  1.446243  1.234872  0.835101  0.622629   \n",
       "5            1.531186  1.452457  2.437079  2.787767  1.525554  0.608457   \n",
       "6            0.925987  0.834540  1.471639  1.557324  0.878453  0.379103   \n",
       "7            0.810430  0.723556  0.721725  0.731194  0.451919  0.143692   \n",
       "8            0.771542  0.734949  0.754574  0.761645  0.365253  0.152901   \n",
       "9            0.672873  0.598875  0.597620  0.602260  0.333146  0.084198   \n",
       "10           0.743966  0.630550  0.607870  0.601100  0.409166  0.106477   \n",
       "11           0.300293  0.363350  0.452681  0.485891  0.157886  0.173547   \n",
       "12           0.043215  0.047285  0.080801  0.082759  0.042470  0.031033   \n",
       "13           0.056244  0.061013  0.099810  0.104348  0.049101  0.025112   \n",
       "14           0.191328  0.224633  0.204005  0.189827  0.110336  0.134964   \n",
       "\n",
       "subclass_id        13        14  \n",
       "1            0.665001  0.741349  \n",
       "2            0.721046  1.048185  \n",
       "3            0.807024  1.168458  \n",
       "4            0.817783  1.223660  \n",
       "5            1.675253  1.663001  \n",
       "6            0.991948  0.769852  \n",
       "7            0.547936  1.084959  \n",
       "8            0.464245  0.730457  \n",
       "9            0.417425  0.711090  \n",
       "10           0.501024  1.048989  \n",
       "11           0.211748  0.189427  \n",
       "12           0.054608  0.038456  \n",
       "13           0.059133  0.039114  \n",
       "14           0.160863  0.228303  "
      ]
     },
     "execution_count": 377,
     "metadata": {},
     "output_type": "execute_result"
    }
   ],
   "source": [
    "npp_adj"
   ]
  },
  {
   "cell_type": "code",
   "execution_count": 378,
   "metadata": {},
   "outputs": [],
   "source": [
    "subclass_npp = npp_adj.copy()\n",
    "sk = skp.SinkhornKnopp()\n",
    "subclass_npp[subclass_npp == 0] = 0.00001\n",
    "subclass_npp = sk.fit(subclass_npp)\n",
    "subclass_npp = pd.DataFrame(subclass_npp)\n",
    "subclass_npp.index = npp_adj.index.astype(str)\n",
    "subclass_npp.columns = npp_adj.columns.astype(str)"
   ]
  },
  {
   "cell_type": "code",
   "execution_count": 380,
   "metadata": {},
   "outputs": [
    {
     "data": {
      "text/plain": [
       "<matplotlib.axes._subplots.AxesSubplot at 0x7ff860678510>"
      ]
     },
     "execution_count": 380,
     "metadata": {},
     "output_type": "execute_result"
    },
    {
     "data": {
      "image/png": "[encoded data removed]",
      "text/plain": [
       "<Figure size 720x576 with 2 Axes>"
      ]
     },
     "metadata": {
      "needs_background": "light"
     },
     "output_type": "display_data"
    }
   ],
   "source": [
    "# %matplotlib inline\n",
    "plt.figure(figsize=(10,8))\n",
    "sns.heatmap(subclass_npp)"
   ]
  },
  {
   "cell_type": "code",
   "execution_count": 558,
   "metadata": {},
   "outputs": [
    {
     "name": "stdout",
     "output_type": "stream",
     "text": [
      "Building a directed graph edge list\n",
      "Checking all the weights on all the edges!\n",
      "Computing the node importance!\n",
      "Done writing!\n"
     ]
    }
   ],
   "source": [
    "edges = graph_utils.build_edge_list(weight_matrix=subclass_npp, threshold=None, directed=True)\n",
    "nxg = graph_utils.build_nx_graph(source_target_weight=edges, directed=True)\n",
    "\n",
    "# 2) Create stellar Di graphs\n",
    "sdg = StellarDiGraph(nxg)\n",
    "BDWW.BeginWalk(sdg, begin_checks=True, weighted=True, directed=True)\n",
    "rw = BDWW.BiasedDirectedRandomWalk(sdg, directed=True, weighted=True, begin_checks=False)\n",
    "\n",
    "nodes = list(sdg.nodes())\n",
    "walks = rw.run(nodes=nodes, length=100, n=100, p=1, q=1, weighted=True, directed=True)\n",
    "\n",
    "utils.write_list_of_lists_to_csv(\"/Users/fahimehb/Documents/NPP_GNN_project/dat/walk_double_stochastic_subclass_npp.csv\", walks)"
   ]
  },
  {
   "cell_type": "markdown",
   "metadata": {},
   "source": [
    "# Subclass level graph with threshold"
   ]
  },
  {
   "cell_type": "code",
   "execution_count": 10,
   "metadata": {},
   "outputs": [
    {
     "name": "stdout",
     "output_type": "stream",
     "text": [
      "Reading cldf from: //Users/fahimehb/Documents/NPP_GNN_project/dat/cl_df_VISp_annotation.csv\n"
     ]
    }
   ],
   "source": [
    "cldf=utils.read_visp_npp_cldf(version=\"old\")\n",
    "\n",
    "npp_adj = graph_utils.read_npp_interaction_matrices()\n",
    "npp_adj = pd.DataFrame(npp_adj)\n",
    "npp_adj.index = npp_adj.index.astype(str)\n",
    "npp_adj.columns = npp_adj.columns.astype(str)\n",
    "npp_adj.index.name = 'cluster_id'\n",
    "\n",
    "\n",
    "npp_adj = pd.merge(npp_adj, cldf[['subclass_id']], on=\"cluster_id\")\n",
    "npp_adj = npp_adj.groupby(\"subclass_id\").mean()\n",
    "\n",
    "npp_adj = npp_adj.T\n",
    "npp_adj.index.name = \"cluster_id\"\n",
    "npp_adj = pd.merge(npp_adj, cldf[['subclass_id']], on=\"cluster_id\")\n",
    "npp_adj = npp_adj.groupby(\"subclass_id\").mean()\n",
    "npp_adj = npp_adj.T\n",
    "npp_adj.index = npp_adj.index.astype(str)\n",
    "npp_adj.columns = npp_adj.columns.astype(str)"
   ]
  },
  {
   "cell_type": "markdown",
   "metadata": {},
   "source": [
    "### Choose the highest 7 connections"
   ]
  },
  {
   "cell_type": "code",
   "execution_count": 12,
   "metadata": {},
   "outputs": [],
   "source": [
    "melted = pd.melt(npp_adj.reset_index(), id_vars='index')\n",
    "melted.columns = [\"row\", 'col', 'value']\n",
    "melted[\"rank_row\"] = melted.groupby(\"row\")[\"value\"].rank(\"dense\", ascending=False)\n",
    "melted[\"rank_col\"] = melted.groupby(\"col\")[\"value\"].rank(\"dense\", ascending=False)\n",
    "melted['keep'] = np.where((melted['rank_row'] <= 5) | (melted['rank_col'] <= 5), melted['value'], 0.)\n",
    "melted = melted.pivot(index='row', columns='col', values='keep')\n",
    "melted = melted.loc[[i for i in npp_adj.index.tolist()]][[i for i in npp_adj.columns.tolist()]]"
   ]
  },
  {
   "cell_type": "code",
   "execution_count": 13,
   "metadata": {},
   "outputs": [],
   "source": [
    "sk = skp.SinkhornKnopp()\n",
    "melted[melted == 0] = 0.00001\n",
    "th_subclass_npp = sk.fit(melted)\n",
    "th_subclass_npp = pd.DataFrame(th_subclass_npp)\n",
    "th_subclass_npp.index = npp_adj.index.astype(str)\n",
    "th_subclass_npp.columns = npp_adj.columns.astype(str)"
   ]
  },
  {
   "cell_type": "code",
   "execution_count": 14,
   "metadata": {},
   "outputs": [
    {
     "data": {
      "text/plain": [
       "<matplotlib.axes._subplots.AxesSubplot at 0x7f7fd81bf290>"
      ]
     },
     "execution_count": 14,
     "metadata": {},
     "output_type": "execute_result"
    },
    {
     "data": {
      "image/png": "[encoded data removed]",
      "text/plain": [
       "<Figure size 432x288 with 2 Axes>"
      ]
     },
     "metadata": {
      "needs_background": "light"
     },
     "output_type": "display_data"
    }
   ],
   "source": [
    "sns.heatmap(th_subclass_npp)"
   ]
  },
  {
   "cell_type": "code",
   "execution_count": 18,
   "metadata": {},
   "outputs": [],
   "source": [
    "# np.sum(th_subclass_npp, axis=0)"
   ]
  },
  {
   "cell_type": "code",
   "execution_count": 17,
   "metadata": {},
   "outputs": [
    {
     "name": "stdout",
     "output_type": "stream",
     "text": [
      "Building a directed graph edge list\n",
      "Checking all the weights on all the edges!\n",
      "Computing the node importance!\n",
      "Done writing!\n"
     ]
    }
   ],
   "source": [
    "edges = graph_utils.build_edge_list(weight_matrix=th_subclass_npp, threshold=None, directed=True)\n",
    "nxg = graph_utils.build_nx_graph(source_target_weight=edges, directed=True)\n",
    "\n",
    "# 2) Create stellar Di graphs\n",
    "sdg = StellarDiGraph(nxg)\n",
    "BDWW.BeginWalk(sdg, begin_checks=True, weighted=True, directed=True)\n",
    "rw = BDWW.BiasedDirectedRandomWalk(sdg, directed=True, weighted=True, begin_checks=False)\n",
    "\n",
    "nodes = list(sdg.nodes())\n",
    "walks = rw.run(nodes=nodes, length=100, n=100, p=1, q=1, weighted=True, directed=True)\n",
    "\n",
    "utils.write_list_of_lists_to_csv(\"/Users/fahimehb/Documents/NPP_GNN_project/dat/walk_double_stochastic_th_subclass_npp.csv\", walks)"
   ]
  },
  {
   "cell_type": "markdown",
   "metadata": {},
   "source": [
    "# Cutting at different height of the tree"
   ]
  },
  {
   "cell_type": "code",
   "execution_count": 405,
   "metadata": {},
   "outputs": [],
   "source": [
    "from celltype_hierarchy import *"
   ]
  },
  {
   "cell_type": "code",
   "execution_count": 407,
   "metadata": {},
   "outputs": [
    {
     "ename": "ModuleNotFoundError",
     "evalue": "No module named 'feather'",
     "output_type": "error",
     "traceback": [
      "\u001b[0;31m---------------------------------------------------------------------------\u001b[0m",
      "\u001b[0;31mModuleNotFoundError\u001b[0m                       Traceback (most recent call last)",
      "\u001b[0;32m<ipython-input-407-6efb6aa50147>\u001b[0m in \u001b[0;36m<module>\u001b[0;34m\u001b[0m\n\u001b[0;32m----> 1\u001b[0;31m \u001b[0;32mfrom\u001b[0m \u001b[0mcelltype_hierarchy\u001b[0m\u001b[0;34m.\u001b[0m\u001b[0manalysis_tree_helpers\u001b[0m \u001b[0;32mimport\u001b[0m \u001b[0mHTree\u001b[0m\u001b[0;34m\u001b[0m\u001b[0;34m\u001b[0m\u001b[0m\n\u001b[0m",
      "\u001b[0;32m~/Documents/git-workspace/celltypes/celltype_hierarchy/analysis_tree_helpers.py\u001b[0m in \u001b[0;36m<module>\u001b[0;34m\u001b[0m\n\u001b[1;32m      3\u001b[0m \u001b[0;32mimport\u001b[0m \u001b[0mpprint\u001b[0m\u001b[0;34m\u001b[0m\u001b[0;34m\u001b[0m\u001b[0m\n\u001b[1;32m      4\u001b[0m \u001b[0;34m\u001b[0m\u001b[0m\n\u001b[0;32m----> 5\u001b[0;31m \u001b[0;32mimport\u001b[0m \u001b[0mfeather\u001b[0m\u001b[0;34m\u001b[0m\u001b[0;34m\u001b[0m\u001b[0m\n\u001b[0m\u001b[1;32m      6\u001b[0m \u001b[0;32mimport\u001b[0m \u001b[0mnumpy\u001b[0m \u001b[0;32mas\u001b[0m \u001b[0mnp\u001b[0m\u001b[0;34m\u001b[0m\u001b[0;34m\u001b[0m\u001b[0m\n\u001b[1;32m      7\u001b[0m \u001b[0;32mimport\u001b[0m \u001b[0mpandas\u001b[0m \u001b[0;32mas\u001b[0m \u001b[0mpd\u001b[0m\u001b[0;34m\u001b[0m\u001b[0;34m\u001b[0m\u001b[0m\n",
      "\u001b[0;31mModuleNotFoundError\u001b[0m: No module named 'feather'"
     ]
    }
   ],
   "source": [
    "from celltype_hierarchy.analysis_tree_helpers import HTree"
   ]
  },
  {
   "cell_type": "code",
   "execution_count": null,
   "metadata": {},
   "outputs": [],
   "source": []
  }
 ],
 "metadata": {
  "kernelspec": {
   "display_name": "py374",
   "language": "python",
   "name": "py374"
  },
  "language_info": {
   "codemirror_mode": {
    "name": "ipython",
    "version": 3
   },
   "file_extension": ".py",
   "mimetype": "text/x-python",
   "name": "python",
   "nbconvert_exporter": "python",
   "pygments_lexer": "ipython3",
   "version": "3.7.4"
  }
 },
 "nbformat": 4,
 "nbformat_minor": 4
}
