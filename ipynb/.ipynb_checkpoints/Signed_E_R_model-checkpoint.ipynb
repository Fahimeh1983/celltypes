{
 "cells": [
  {
   "cell_type": "code",
   "execution_count": 1,
   "metadata": {},
   "outputs": [],
   "source": [
    "import sys\n",
    "from pathlib import Path\n",
    "\n",
    "#Add path to parent folder for imports\n",
    "sys.path.append(str(Path.cwd().parent))"
   ]
  },
  {
   "cell_type": "code",
   "execution_count": 4,
   "metadata": {},
   "outputs": [],
   "source": [
    "import numpy as np\n",
    "import torch\n",
    "import torch.nn as nn\n",
    "import torch.optim as optim\n",
    "from torch.autograd import Variable\n",
    "from torch.utils.data import DataLoader, RandomSampler\n",
    "import torch.distributions as D\n",
    "import pdb\n",
    "import matplotlib.pyplot as plt\n",
    "import seaborn as sns\n",
    "sns.set()\n",
    "%matplotlib inline\n",
    "\n",
    "#Gene selection criteria:\n",
    "import scipy.io as sio\n",
    "import rnaseq.utils.data as data\n",
    "from rnaseq.utils.data import Cellxgene_ss, Cellxgene_10x\n",
    "import scipy.sparse as ss\n",
    "import h5py\n",
    "from tqdm import tqdm"
   ]
  },
  {
   "cell_type": "code",
   "execution_count": 7,
   "metadata": {},
   "outputs": [],
   "source": [
    "dir = \"/Users/fahimehb/Documents/VAE_GAN_project/dat/\""
   ]
  },
  {
   "cell_type": "code",
   "execution_count": 15,
   "metadata": {},
   "outputs": [
    {
     "name": "stdout",
     "output_type": "stream",
     "text": [
      "47 genes ignored\n"
     ]
    }
   ],
   "source": [
    "# dataset_FACS = sio.loadmat('/Users/fruity/Dropbox/AllenInstitute/CellTypes/dat/raw/Mouse-V1-ALM-20180520_cpmtop10k_cpm.mat',squeeze_me = True)\n",
    "# vals = np.percentile(dataset_FACS['log1p'],99.5,axis=0)\n",
    "# ind = np.argsort(-vals)\n",
    "# ind = ind[:1000]\n",
    "# gene_list = [gene for gene in dataset_FACS['gene_id'][ind]]\n",
    "\n",
    "\n",
    "\n",
    "gene_list = pd.read_csv(dir + \"tree_genes_list.csv\")['x'].tolist()\n",
    "\n",
    "genes_req = data.sanitize_genes(gene_list, \n",
    "               h5f_10x= dir + '/CTX_Hip_10x_counts.h5',\n",
    "               h5f_ss= dir + '/CTX_Hip_SS_counts.h5')"
   ]
  },
  {
   "cell_type": "code",
   "execution_count": 18,
   "metadata": {},
   "outputs": [
    {
     "name": "stdout",
     "output_type": "stream",
     "text": [
      "Number of SmartSeq cells: 76307\n",
      "Reading mat took 102.984sec\n",
      "Reading mat 2 and adding took 143.477sec\n",
      "Slicing took 3.695sec\n",
      "Sparse->dense took 608.93ms\n",
      "Normalizing took 454.15ms\n"
     ]
    }
   ],
   "source": [
    "dataset_ss = Cellxgene_ss(h5_file= dir + '/CTX_Hip_SS_counts.h5',\n",
    "                            genes_req=genes_req,n_samples=None)"
   ]
  },
  {
   "cell_type": "code",
   "execution_count": 39,
   "metadata": {},
   "outputs": [
    {
     "data": {
      "text/plain": [
       "array([[0.00162563, 0.        , 0.        , ..., 0.        , 0.00272079,\n",
       "        0.00734099],\n",
       "       [0.00189996, 0.        , 0.        , ..., 0.        , 0.00243253,\n",
       "        0.01725801],\n",
       "       [0.00105629, 0.        , 0.        , ..., 0.        , 0.00335606,\n",
       "        0.01875919],\n",
       "       ...,\n",
       "       [0.00326096, 0.        , 0.        , ..., 0.        , 0.00235991,\n",
       "        0.00210246],\n",
       "       [0.00049464, 0.        , 0.        , ..., 0.        , 0.00317395,\n",
       "        0.00206101],\n",
       "       [0.        , 0.        , 0.        , ..., 0.        , 0.00498081,\n",
       "        0.00276712]])"
      ]
     },
     "execution_count": 39,
     "metadata": {},
     "output_type": "execute_result"
    }
   ],
   "source": [
    "dataset_ss.cellxgene"
   ]
  },
  {
   "cell_type": "code",
   "execution_count": null,
   "metadata": {},
   "outputs": [],
   "source": []
  }
 ],
 "metadata": {
  "kernelspec": {
   "display_name": "py374",
   "language": "python",
   "name": "py374"
  },
  "language_info": {
   "codemirror_mode": {
    "name": "ipython",
    "version": 3
   },
   "file_extension": ".py",
   "mimetype": "text/x-python",
   "name": "python",
   "nbconvert_exporter": "python",
   "pygments_lexer": "ipython3",
   "version": "3.7.4"
  }
 },
 "nbformat": 4,
 "nbformat_minor": 4
}
