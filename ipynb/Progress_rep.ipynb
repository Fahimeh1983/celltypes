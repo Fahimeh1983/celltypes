{
 "cells": [
  {
   "cell_type": "markdown",
   "metadata": {},
   "source": [
    "# Emitter Receiver linear model:\n",
    "\n",
    "<img src=\"./models_pic/E_R_model_linear.png\" alt=\"drawing\" width=\"800\"/>\n",
    "\n",
    "In this model, each arm is reconstructing an embedding. One for emitter roles and the other arm for the receiver roles. \n",
    "\n",
    "## Loss:\n",
    "### First term: Emitter_receiver_loss\n",
    "For this term, in the example that we have in the image, we compute the distance between emitter i ($E_i$) and receiver j ($R_j$) and the distance between $E_j$ and $R_k$. This terms are computed right after encoder. we call this term Emitter_receiver_loss:\n",
    "\n",
    "$$\n",
    "Batch\\_averaged\\_squared\\_distance = \\frac {1}{batch\\_size}\\sum_{batch\\_size}(distance^2(E_i, R_j) + distance^2(E_j, R_k))\n",
    "$$\n",
    "\n",
    "In order to prevent collapse. We Compute find the minimum variance (using svd) in all dimensions of the latent space and we call this $\\gamma$ and we divide the Emitter_receiver_loss term by this factor:\n",
    "$$\n",
    "Emitter\\_receiver\\_loss = \\frac {1}{\\gamma} Batch\\_averaged\\_squared\\_distance\n",
    "$$\n",
    "\n",
    "### Second term: AE_loss\n",
    "Both arms are suppose to reconstruct the middle node (j in this example). We use binary cross entropy (BCE) loss for this purpose:\n",
    "$$\n",
    "AE\\_loss = \\sum_{batch\\_size} BCE(p1, y1) + BCE(p2, y2)\n",
    "$$\n",
    "\n",
    "$$\n",
    "Loss = Emitter\\_receiver\\_loss + \\lambda * AE\\_loss\n",
    "$$\n",
    "\n",
    "$\\lambda$ is a parameter to tune the contribuiton of the second term in the total loss.\n",
    "\n",
    "#### Note:\n",
    "As we do not have any batch normalization, we do not expect to have a zero-mean distribution in this implementation so far."
   ]
  },
  {
   "cell_type": "markdown",
   "metadata": {},
   "source": []
  }
 ],
 "metadata": {
  "kernelspec": {
   "display_name": "py374",
   "language": "python",
   "name": "py374"
  },
  "language_info": {
   "codemirror_mode": {
    "name": "ipython",
    "version": 3
   },
   "file_extension": ".py",
   "mimetype": "text/x-python",
   "name": "python",
   "nbconvert_exporter": "python",
   "pygments_lexer": "ipython3",
   "version": "3.7.4"
  }
 },
 "nbformat": 4,
 "nbformat_minor": 4
}
