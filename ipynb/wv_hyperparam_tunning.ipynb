{
 "cells": [
  {
   "cell_type": "markdown",
   "metadata": {},
   "source": [
    "#### load libraries"
   ]
  },
  {
   "cell_type": "code",
   "execution_count": 4,
   "metadata": {},
   "outputs": [],
   "source": [
    "import os\n",
    "import time\n",
    "import torch\n",
    "import numpy as np\n",
    "import torch.nn as nn\n",
    "\n",
    "os.environ['KMP_DUPLICATE_LIB_OK']='True'\n",
    "device = torch.device('cuda' if torch.cuda.is_available() else 'cpu')"
   ]
  },
  {
   "cell_type": "code",
   "execution_count": 19,
   "metadata": {},
   "outputs": [
    {
     "data": {
      "text/plain": [
       "<module 'cell.analysis' from '/Users/fahimehb/Documents/git-workspace/celltypes/cell/analysis.py'>"
      ]
     },
     "execution_count": 19,
     "metadata": {},
     "output_type": "execute_result"
    }
   ],
   "source": [
    "import imp\n",
    "from cell import  utils, plot_utils, analysis, graph_utils\n",
    "\n",
    "imp.reload(utils)\n",
    "imp.reload(plot_utils)\n",
    "imp.reload(analysis)"
   ]
  },
  {
   "cell_type": "markdown",
   "metadata": {},
   "source": [
    "### run properties"
   ]
  },
  {
   "cell_type": "code",
   "execution_count": 8,
   "metadata": {},
   "outputs": [],
   "source": [
    "#walk properties\n",
    "N = 1\n",
    "length = 10000\n",
    "\n",
    "#walk filename\n",
    "walk_filename = \"walk_node21_32_removed.csv\"\n",
    "\n",
    "#Directories\n",
    "roi = \"VISp\"\n",
    "layer_class = \"single_layer\"\n",
    "project_name = \"NPP_GNN_project\"\n",
    "layer = \"base_unnormalized_allcombined\"\n",
    "walk_type = \"Directed_Weighted_node2vec\"\n",
    "\n",
    "#run hyperparams\n",
    "window = 2\n",
    "n_epochs = 5000\n",
    "num_workers = 4\n",
    "batch_size = 2000\n",
    "embedding_size = 2\n",
    "learning_rate = 0.00001\n",
    "opt_add = \"node21_32_removed\"\n",
    "CBOW = True"
   ]
  },
  {
   "cell_type": "markdown",
   "metadata": {},
   "source": [
    "### Get model and loss file path"
   ]
  },
  {
   "cell_type": "code",
   "execution_count": 9,
   "metadata": {},
   "outputs": [],
   "source": [
    "def get_model_loss_path(embedding_size, project_name, roi, N, p, q, layer, \n",
    "                        layer_class, walk_type, n_epochs, window, learning_rate, \n",
    "                        batch_size, opt_add):\n",
    "    \n",
    "    model_dir = utils.get_model_dir(project_name=project_name, \n",
    "                                    roi=roi, \n",
    "                                    length=length,\n",
    "                                    N=N,\n",
    "                                    p=p, \n",
    "                                    q=q, \n",
    "                                    layer=layer, \n",
    "                                    layer_class=layer_class, \n",
    "                                    walk_type=walk_type)\n",
    "\n",
    "    model_name = utils.get_model_name(size=embedding_size, \n",
    "                                      iter=n_epochs, \n",
    "                                      window=window, \n",
    "                                      lr=learning_rate, \n",
    "                                      batch_size=batch_size, \n",
    "                                      opt_add=opt_add)\n",
    "\n",
    "    loss_name = utils.get_loss_filename(size=embedding_size,\n",
    "                                        iter=n_epochs, \n",
    "                                        window=window, \n",
    "                                        lr=learning_rate, \n",
    "                                        batch_size=batch_size,\n",
    "                                        opt_add=opt_add)\n",
    "\n",
    "    model_path = os.path.join(model_dir, model_name)\n",
    "    loss_path = os.path.join(model_dir, loss_name)\n",
    "    #loss = utils.read_list_from_csv(loss_path)\n",
    "    #loss = [float(i) for i in loss]\n",
    "    #print(model_path)\n",
    "    \n",
    "    return model_path, loss_path"
   ]
  },
  {
   "cell_type": "code",
   "execution_count": 18,
   "metadata": {},
   "outputs": [
    {
     "data": {
      "text/plain": [
       "'0.0001'"
      ]
     },
     "execution_count": 18,
     "metadata": {},
     "output_type": "execute_result"
    }
   ],
   "source": [
    "f\"{0.0001:.4f}\""
   ]
  },
  {
   "cell_type": "code",
   "execution_count": 21,
   "metadata": {},
   "outputs": [
    {
     "name": "stdout",
     "output_type": "stream",
     "text": [
      "Reading cldf from: //Users/fahimehb/Documents/NPP_GNN_project/dat/cl_df_VISp_annotation.csv\n"
     ]
    }
   ],
   "source": [
    "cldf = utils.read_visp_npp_cldf()\n",
    "\n",
    "models = {}\n",
    "losses = {}\n",
    "\n",
    "for p,q in [(1000000, 0.000001), (0.000001, 1000000)]:\n",
    "    \n",
    "    model_name = \"_\".join((\"p\", str(p), \"q\", str(q)))\n",
    "    model_path, loss_path = get_model_loss_path(embedding_size, \n",
    "                                                project_name, \n",
    "                                                roi, \n",
    "                                                N, \n",
    "                                                p, \n",
    "                                                q, \n",
    "                                                layer, \n",
    "                                                layer_class, \n",
    "                                                walk_type, \n",
    "                                                n_epochs, \n",
    "                                                window, \n",
    "                                                learning_rate, \n",
    "                                                batch_size, \n",
    "                                                opt_add)\n",
    "    model=pd.read_csv(model_path)\n",
    "    model = model.set_index(\"cluster_id\")\n",
    "    model = model.merge(cldf, on=\"cluster_id\")\n",
    "    models[model_name] = model\n",
    "    \n",
    "    loss = utils.read_list_from_csv(loss_path)\n",
    "    loss = [float(l) for l in loss]\n",
    "    losses[model_name] = loss"
   ]
  },
  {
   "cell_type": "markdown",
   "metadata": {},
   "source": [
    "### plot embeddings:"
   ]
  },
  {
   "cell_type": "code",
   "execution_count": 22,
   "metadata": {},
   "outputs": [
    {
     "data": {
      "image/png": "[encoded data removed]",
      "text/plain": [
       "<Figure size 1080x4320 with 2 Axes>"
      ]
     },
     "metadata": {
      "needs_background": "light"
     },
     "output_type": "display_data"
    }
   ],
   "source": [
    "fig = plot_utils.MScatter_plot(datasets=models, \n",
    "                              fig_size=(15,60),\n",
    "                              scatter_point_size=15)"
   ]
  },
  {
   "cell_type": "code",
   "execution_count": 45,
   "metadata": {},
   "outputs": [],
   "source": [
    "# CMDscale_emb = pd.read_csv(\"/Users/fahimehb/Documents/NPP_GNN_project/dat/CMDscale_emb.csv\", \n",
    "#                            index_col=\"cluster_id\")\n",
    "\n",
    "# CMDscale_emb.index = CMDscale_emb.index.astype('str')\n",
    "# Z_cols = [col for col in CMDscale_emb.columns if 'Z' in col]\n",
    "# CMDscale_emb = CMDscale_emb[Z_cols + [\"cluster_color\", \"dendcluster_label\"]]\n",
    "# CMDscale_emb = CMDscale_emb.merge(cldf.reset_index(), on=\"cluster_color\")\n",
    "# CMDscale_emb['cluster_id'] = CMDscale_emb['cluster_id'].astype('str')\n",
    "# CMDscale_emb = CMDscale_emb.set_index('cluster_id')"
   ]
  },
  {
   "cell_type": "code",
   "execution_count": 23,
   "metadata": {},
   "outputs": [],
   "source": [
    "jsd_wv_emb_2d = pd.read_csv(\"/Users/fahimehb/Documents/GNN/dat/jsd_results/wv_2d.csv\", \n",
    "                      index_col=\"cluster_id\")\n",
    "jsd_wv_emb_2d.index = jsd_wv_emb_2d.index.astype('str')\n",
    "Z_cols = [col for col in jsd_wv_emb_2d.columns if 'Z' in col]\n",
    "jsd_wv_emb_2d = jsd_wv_emb_2d[Z_cols + [\"cluster_color\", \"dendcluster_label\"]]\n",
    "jsd_wv_emb_2d = jsd_wv_emb_2d.merge(cldf.reset_index(), on=\"cluster_color\")\n",
    "jsd_wv_emb_2d['cluster_id'] = jsd_wv_emb_2d['cluster_id'].astype('str')\n",
    "jsd_wv_emb_2d = jsd_wv_emb_2d.set_index('cluster_id')"
   ]
  },
  {
   "cell_type": "code",
   "execution_count": 24,
   "metadata": {},
   "outputs": [],
   "source": [
    "aligned_models = {}\n",
    "disparities = {}\n",
    "\n",
    "for k, v in models.items():\n",
    "#     mtx1, mtx2, disparity = analysis.run_procrustes_analysis(models['p_1_q_1'][[\"Z0\", \"Z1\"]],\n",
    "#                                                             v[[\"Z0\", \"Z1\"]],\n",
    "#                                                             cl_df=cldf)\n",
    "    mtx1, mtx2, disparity = analysis.run_procrustes_analysis(jsd_wv_emb_2d.drop(['21', \"32\"])[[\"Z0\", \"Z1\"]], \n",
    "                                                            v[[\"Z0\", \"Z1\"]],\n",
    "                                                            cl_df=cldf)\n",
    "    disparities[k] = disparity\n",
    "    aligned_models[k] = mtx2"
   ]
  },
  {
   "cell_type": "code",
   "execution_count": 25,
   "metadata": {},
   "outputs": [
    {
     "data": {
      "image/png": "[encoded data removed]",
      "text/plain": [
       "<Figure size 1080x5760 with 2 Axes>"
      ]
     },
     "metadata": {
      "needs_background": "light"
     },
     "output_type": "display_data"
    }
   ],
   "source": [
    "fig = plot_utils.MScatter_plot(datasets=aligned_models,\n",
    "                              fig_size=(15, 80),\n",
    "                              scatter_point_size=20)"
   ]
  },
  {
   "cell_type": "code",
   "execution_count": 189,
   "metadata": {},
   "outputs": [],
   "source": [
    "fig.savefig(\"/Users/fahimehb/Documents/NPP_GNN_project/figures/hyper_params.png\")"
   ]
  },
  {
   "cell_type": "code",
   "execution_count": 26,
   "metadata": {},
   "outputs": [
    {
     "data": {
      "text/plain": [
       "{'p_1000000_q_1e-06': 0.4633278023884428,\n",
       " 'p_1e-06_q_1000000': 0.47285905563407205}"
      ]
     },
     "execution_count": 26,
     "metadata": {},
     "output_type": "execute_result"
    }
   ],
   "source": [
    "disparities"
   ]
  },
  {
   "cell_type": "code",
   "execution_count": 273,
   "metadata": {},
   "outputs": [
    {
     "data": {
      "text/plain": [
       "'0.000001'"
      ]
     },
     "execution_count": 273,
     "metadata": {},
     "output_type": "execute_result"
    }
   ],
   "source": [
    "a = 0.000001\n",
    "f\"{a:f}\""
   ]
  },
  {
   "cell_type": "code",
   "execution_count": 28,
   "metadata": {},
   "outputs": [
    {
     "data": {
      "text/plain": [
       "-0.7980750000000001"
      ]
     },
     "execution_count": 28,
     "metadata": {},
     "output_type": "execute_result"
    }
   ],
   "source": [
    "(0.6360-0.4059 -0.4059-3.0165)/4"
   ]
  },
  {
   "cell_type": "code",
   "execution_count": 274,
   "metadata": {},
   "outputs": [
    {
     "data": {
      "text/plain": [
       "'N_100_l_10_p_1000000_q_0.000001'"
      ]
     },
     "execution_count": 274,
     "metadata": {},
     "output_type": "execute_result"
    }
   ],
   "source": [
    "utils.get_walk_dir_name(100, 10, 1000000, 0.000001)"
   ]
  },
  {
   "cell_type": "code",
   "execution_count": 100,
   "metadata": {},
   "outputs": [
    {
     "data": {
      "text/plain": [
       "array(['L2/3 IT', 'L4', 'L5 IT', 'L5 PT', 'L6 CT', 'L6 IT', 'L6b',\n",
       "       'Lamp5', 'NP', 'Pvalb', 'Serpinf1', 'Sncg', 'Sst', 'Vip'],\n",
       "      dtype=object)"
      ]
     },
     "execution_count": 100,
     "metadata": {},
     "output_type": "execute_result"
    }
   ],
   "source": [
    "np.unique(aligned_models['p_1_q_1']['subclass_label'])"
   ]
  },
  {
   "cell_type": "code",
   "execution_count": 249,
   "metadata": {},
   "outputs": [
    {
     "data": {
      "image/png": "[encoded data removed]",
      "text/plain": [
       "<Figure size 504x504 with 1 Axes>"
      ]
     },
     "metadata": {
      "needs_background": "light"
     },
     "output_type": "display_data"
    }
   ],
   "source": [
    "fig=plot_utils.plot_embedding(aligned_models['p_1_q_1'][~aligned_models['p_1_q_1'][\"subclass_label\"].isin([\"Pvalb\", \"Serpinf1\",\"Sncg\", \"Vip\", \"Lamp5\"])],\n",
    "                              plot_dim=2,\n",
    "                              plot_size=(7,7),\n",
    "                              scatter_point_size=150,\n",
    "                              annotation = True)"
   ]
  },
  {
   "cell_type": "code",
   "execution_count": 241,
   "metadata": {},
   "outputs": [],
   "source": [
    "fig.savefig(\"/Users/fahimehb/Documents/NPP_GNN_project/figures/sst_exc_2d.png\", dpi=750)"
   ]
  },
  {
   "cell_type": "code",
   "execution_count": 250,
   "metadata": {},
   "outputs": [
    {
     "data": {
      "text/html": [
       "<div>\n",
       "<style scoped>\n",
       "    .dataframe tbody tr th:only-of-type {\n",
       "        vertical-align: middle;\n",
       "    }\n",
       "\n",
       "    .dataframe tbody tr th {\n",
       "        vertical-align: top;\n",
       "    }\n",
       "\n",
       "    .dataframe thead th {\n",
       "        text-align: right;\n",
       "    }\n",
       "</style>\n",
       "<table border=\"1\" class=\"dataframe\">\n",
       "  <thead>\n",
       "    <tr style=\"text-align: right;\">\n",
       "      <th></th>\n",
       "      <th>Z0</th>\n",
       "      <th>Z1</th>\n",
       "      <th>dendcluster_id</th>\n",
       "      <th>cluster_label</th>\n",
       "      <th>colors</th>\n",
       "      <th>cluster_color</th>\n",
       "      <th>subclass_id</th>\n",
       "      <th>subclass_label</th>\n",
       "      <th>subclass_color</th>\n",
       "      <th>class_id</th>\n",
       "      <th>class_label</th>\n",
       "      <th>class_color</th>\n",
       "    </tr>\n",
       "    <tr>\n",
       "      <th>cluster_id</th>\n",
       "      <th></th>\n",
       "      <th></th>\n",
       "      <th></th>\n",
       "      <th></th>\n",
       "      <th></th>\n",
       "      <th></th>\n",
       "      <th></th>\n",
       "      <th></th>\n",
       "      <th></th>\n",
       "      <th></th>\n",
       "      <th></th>\n",
       "      <th></th>\n",
       "    </tr>\n",
       "  </thead>\n",
       "  <tbody>\n",
       "    <tr>\n",
       "      <th>82</th>\n",
       "      <td>-0.039560</td>\n",
       "      <td>-0.007286</td>\n",
       "      <td>105</td>\n",
       "      <td>Sst Nts</td>\n",
       "      <td>#A81111</td>\n",
       "      <td>#A81111</td>\n",
       "      <td>5</td>\n",
       "      <td>Sst</td>\n",
       "      <td>#F15A29</td>\n",
       "      <td>1</td>\n",
       "      <td>GABAergic</td>\n",
       "      <td>#EF4136</td>\n",
       "    </tr>\n",
       "    <tr>\n",
       "      <th>22</th>\n",
       "      <td>-0.049264</td>\n",
       "      <td>0.017398</td>\n",
       "      <td>43</td>\n",
       "      <td>L6 CT VISp Krt80 Sla</td>\n",
       "      <td>#578EBF</td>\n",
       "      <td>#578EBF</td>\n",
       "      <td>13</td>\n",
       "      <td>L6 CT</td>\n",
       "      <td>#2D8CB8</td>\n",
       "      <td>2</td>\n",
       "      <td>Glutamatergic</td>\n",
       "      <td>#27AAE1</td>\n",
       "    </tr>\n",
       "    <tr>\n",
       "      <th>19</th>\n",
       "      <td>-0.084197</td>\n",
       "      <td>0.035556</td>\n",
       "      <td>37</td>\n",
       "      <td>L5 NP VISp Trhr Cpne7</td>\n",
       "      <td>#008F39</td>\n",
       "      <td>#008F39</td>\n",
       "      <td>12</td>\n",
       "      <td>NP</td>\n",
       "      <td>#3E9E64</td>\n",
       "      <td>2</td>\n",
       "      <td>Glutamatergic</td>\n",
       "      <td>#27AAE1</td>\n",
       "    </tr>\n",
       "    <tr>\n",
       "      <th>77</th>\n",
       "      <td>-0.070786</td>\n",
       "      <td>0.028568</td>\n",
       "      <td>100</td>\n",
       "      <td>Sst Crh 4930553C11Rik</td>\n",
       "      <td>#C77767</td>\n",
       "      <td>#C77767</td>\n",
       "      <td>5</td>\n",
       "      <td>Sst</td>\n",
       "      <td>#F15A29</td>\n",
       "      <td>1</td>\n",
       "      <td>GABAergic</td>\n",
       "      <td>#EF4136</td>\n",
       "    </tr>\n",
       "    <tr>\n",
       "      <th>38</th>\n",
       "      <td>-0.069574</td>\n",
       "      <td>-0.041238</td>\n",
       "      <td>61</td>\n",
       "      <td>Lamp5 Lsp1</td>\n",
       "      <td>#FFA388</td>\n",
       "      <td>#FFA388</td>\n",
       "      <td>1</td>\n",
       "      <td>Lamp5</td>\n",
       "      <td>#DA808C</td>\n",
       "      <td>1</td>\n",
       "      <td>GABAergic</td>\n",
       "      <td>#EF4136</td>\n",
       "    </tr>\n",
       "  </tbody>\n",
       "</table>\n",
       "</div>"
      ],
      "text/plain": [
       "                  Z0        Z1  dendcluster_id          cluster_label  \\\n",
       "cluster_id                                                              \n",
       "82         -0.039560 -0.007286             105                Sst Nts   \n",
       "22         -0.049264  0.017398              43   L6 CT VISp Krt80 Sla   \n",
       "19         -0.084197  0.035556              37  L5 NP VISp Trhr Cpne7   \n",
       "77         -0.070786  0.028568             100  Sst Crh 4930553C11Rik   \n",
       "38         -0.069574 -0.041238              61             Lamp5 Lsp1   \n",
       "\n",
       "             colors cluster_color  subclass_id subclass_label subclass_color  \\\n",
       "cluster_id                                                                     \n",
       "82          #A81111       #A81111            5            Sst        #F15A29   \n",
       "22          #578EBF       #578EBF           13          L6 CT        #2D8CB8   \n",
       "19          #008F39       #008F39           12             NP        #3E9E64   \n",
       "77          #C77767       #C77767            5            Sst        #F15A29   \n",
       "38          #FFA388       #FFA388            1          Lamp5        #DA808C   \n",
       "\n",
       "            class_id    class_label class_color  \n",
       "cluster_id                                       \n",
       "82                 1      GABAergic     #EF4136  \n",
       "22                 2  Glutamatergic     #27AAE1  \n",
       "19                 2  Glutamatergic     #27AAE1  \n",
       "77                 1      GABAergic     #EF4136  \n",
       "38                 1      GABAergic     #EF4136  "
      ]
     },
     "execution_count": 250,
     "metadata": {},
     "output_type": "execute_result"
    }
   ],
   "source": [
    "aligned_models['p_1_q_1'].loc[['82', '22', '19', '77', '38']]"
   ]
  },
  {
   "cell_type": "code",
   "execution_count": 247,
   "metadata": {},
   "outputs": [
    {
     "data": {
      "image/png": "[encoded data removed]",
      "text/plain": [
       "<Figure size 504x504 with 1 Axes>"
      ]
     },
     "metadata": {
      "needs_background": "light"
     },
     "output_type": "display_data"
    }
   ],
   "source": [
    "fig=plot_utils.plot_embedding(jsd_wv_emb_2d[~jsd_wv_emb_2d[\"subclass_label\"].isin([\"Pvalb\", \"Serpinf1\",\"Sncg\", \"Vip\", \"Lamp5\"])],\n",
    "                              plot_dim=2,\n",
    "                              plot_size=(7,7),\n",
    "                              scatter_point_size=150,\n",
    "                              annotation = True)\n",
    "# fig.savefig(\"/Users/fahimehb/Documents/NPP_GNN_project/figures/sst_exc_2d_jsd.png\", dpi=750)"
   ]
  },
  {
   "cell_type": "code",
   "execution_count": 170,
   "metadata": {},
   "outputs": [
    {
     "data": {
      "text/html": [
       "<div>\n",
       "<style scoped>\n",
       "    .dataframe tbody tr th:only-of-type {\n",
       "        vertical-align: middle;\n",
       "    }\n",
       "\n",
       "    .dataframe tbody tr th {\n",
       "        vertical-align: top;\n",
       "    }\n",
       "\n",
       "    .dataframe thead th {\n",
       "        text-align: right;\n",
       "    }\n",
       "</style>\n",
       "<table border=\"1\" class=\"dataframe\">\n",
       "  <thead>\n",
       "    <tr style=\"text-align: right;\">\n",
       "      <th></th>\n",
       "      <th>Z0</th>\n",
       "      <th>Z1</th>\n",
       "      <th>cluster_color</th>\n",
       "      <th>dendcluster_label</th>\n",
       "      <th>dendcluster_id</th>\n",
       "      <th>cluster_label</th>\n",
       "      <th>colors</th>\n",
       "      <th>subclass_id</th>\n",
       "      <th>subclass_label</th>\n",
       "      <th>subclass_color</th>\n",
       "      <th>class_id</th>\n",
       "      <th>class_label</th>\n",
       "      <th>class_color</th>\n",
       "    </tr>\n",
       "    <tr>\n",
       "      <th>cluster_id</th>\n",
       "      <th></th>\n",
       "      <th></th>\n",
       "      <th></th>\n",
       "      <th></th>\n",
       "      <th></th>\n",
       "      <th></th>\n",
       "      <th></th>\n",
       "      <th></th>\n",
       "      <th></th>\n",
       "      <th></th>\n",
       "      <th></th>\n",
       "      <th></th>\n",
       "      <th></th>\n",
       "    </tr>\n",
       "  </thead>\n",
       "  <tbody>\n",
       "    <tr>\n",
       "      <th>65</th>\n",
       "      <td>-0.916952</td>\n",
       "      <td>-0.487057</td>\n",
       "      <td>#B06411</td>\n",
       "      <td>Sst Tac1 Tacr3</td>\n",
       "      <td>88</td>\n",
       "      <td>Sst Tac1 Tacr3</td>\n",
       "      <td>#B06411</td>\n",
       "      <td>5</td>\n",
       "      <td>Sst</td>\n",
       "      <td>#F15A29</td>\n",
       "      <td>1</td>\n",
       "      <td>GABAergic</td>\n",
       "      <td>#EF4136</td>\n",
       "    </tr>\n",
       "    <tr>\n",
       "      <th>75</th>\n",
       "      <td>-1.626025</td>\n",
       "      <td>-0.058494</td>\n",
       "      <td>#806B19</td>\n",
       "      <td>Sst Hpse Cbln4</td>\n",
       "      <td>98</td>\n",
       "      <td>Sst Hpse Cbln4</td>\n",
       "      <td>#806B19</td>\n",
       "      <td>5</td>\n",
       "      <td>Sst</td>\n",
       "      <td>#F15A29</td>\n",
       "      <td>1</td>\n",
       "      <td>GABAergic</td>\n",
       "      <td>#EF4136</td>\n",
       "    </tr>\n",
       "  </tbody>\n",
       "</table>\n",
       "</div>"
      ],
      "text/plain": [
       "                  Z0        Z1 cluster_color dendcluster_label  \\\n",
       "cluster_id                                                       \n",
       "65         -0.916952 -0.487057       #B06411    Sst Tac1 Tacr3   \n",
       "75         -1.626025 -0.058494       #806B19    Sst Hpse Cbln4   \n",
       "\n",
       "            dendcluster_id   cluster_label   colors  subclass_id  \\\n",
       "cluster_id                                                         \n",
       "65                      88  Sst Tac1 Tacr3  #B06411            5   \n",
       "75                      98  Sst Hpse Cbln4  #806B19            5   \n",
       "\n",
       "           subclass_label subclass_color  class_id class_label class_color  \n",
       "cluster_id                                                                  \n",
       "65                    Sst        #F15A29         1   GABAergic     #EF4136  \n",
       "75                    Sst        #F15A29         1   GABAergic     #EF4136  "
      ]
     },
     "execution_count": 170,
     "metadata": {},
     "output_type": "execute_result"
    }
   ],
   "source": [
    "jsd_wv_emb_2d.loc[['65', '75',]]"
   ]
  },
  {
   "cell_type": "code",
   "execution_count": 548,
   "metadata": {},
   "outputs": [],
   "source": [
    "fig.savefig(\"/Users/fahimehb/Documents/NPP_GNN_project/figures/MCBOW_p_1_q_1.png\", dpi=350)"
   ]
  },
  {
   "cell_type": "code",
   "execution_count": 233,
   "metadata": {},
   "outputs": [
    {
     "data": {
      "text/html": [
       "<div>\n",
       "<style scoped>\n",
       "    .dataframe tbody tr th:only-of-type {\n",
       "        vertical-align: middle;\n",
       "    }\n",
       "\n",
       "    .dataframe tbody tr th {\n",
       "        vertical-align: top;\n",
       "    }\n",
       "\n",
       "    .dataframe thead th {\n",
       "        text-align: right;\n",
       "    }\n",
       "</style>\n",
       "<table border=\"1\" class=\"dataframe\">\n",
       "  <thead>\n",
       "    <tr style=\"text-align: right;\">\n",
       "      <th></th>\n",
       "      <th>source</th>\n",
       "      <th>target</th>\n",
       "      <th>weight</th>\n",
       "    </tr>\n",
       "  </thead>\n",
       "  <tbody>\n",
       "    <tr>\n",
       "      <th>2401</th>\n",
       "      <td>27</td>\n",
       "      <td>62</td>\n",
       "      <td>0.000917</td>\n",
       "    </tr>\n",
       "    <tr>\n",
       "      <th>2341</th>\n",
       "      <td>26</td>\n",
       "      <td>62</td>\n",
       "      <td>0.001250</td>\n",
       "    </tr>\n",
       "    <tr>\n",
       "      <th>2421</th>\n",
       "      <td>27</td>\n",
       "      <td>87</td>\n",
       "      <td>0.001998</td>\n",
       "    </tr>\n",
       "    <tr>\n",
       "      <th>8255</th>\n",
       "      <td>27</td>\n",
       "      <td>40</td>\n",
       "      <td>0.002165</td>\n",
       "    </tr>\n",
       "    <tr>\n",
       "      <th>2521</th>\n",
       "      <td>29</td>\n",
       "      <td>62</td>\n",
       "      <td>0.002353</td>\n",
       "    </tr>\n",
       "    <tr>\n",
       "      <th>...</th>\n",
       "      <td>...</td>\n",
       "      <td>...</td>\n",
       "      <td>...</td>\n",
       "    </tr>\n",
       "    <tr>\n",
       "      <th>5939</th>\n",
       "      <td>62</td>\n",
       "      <td>28</td>\n",
       "      <td>4.832780</td>\n",
       "    </tr>\n",
       "    <tr>\n",
       "      <th>339</th>\n",
       "      <td>62</td>\n",
       "      <td>13</td>\n",
       "      <td>4.869793</td>\n",
       "    </tr>\n",
       "    <tr>\n",
       "      <th>1352</th>\n",
       "      <td>62</td>\n",
       "      <td>46</td>\n",
       "      <td>4.915162</td>\n",
       "    </tr>\n",
       "    <tr>\n",
       "      <th>1353</th>\n",
       "      <td>62</td>\n",
       "      <td>49</td>\n",
       "      <td>4.938443</td>\n",
       "    </tr>\n",
       "    <tr>\n",
       "      <th>1610</th>\n",
       "      <td>82</td>\n",
       "      <td>46</td>\n",
       "      <td>5.072770</td>\n",
       "    </tr>\n",
       "  </tbody>\n",
       "</table>\n",
       "<p>8281 rows × 3 columns</p>\n",
       "</div>"
      ],
      "text/plain": [
       "     source target    weight\n",
       "2401     27     62  0.000917\n",
       "2341     26     62  0.001250\n",
       "2421     27     87  0.001998\n",
       "8255     27     40  0.002165\n",
       "2521     29     62  0.002353\n",
       "...     ...    ...       ...\n",
       "5939     62     28  4.832780\n",
       "339      62     13  4.869793\n",
       "1352     62     46  4.915162\n",
       "1353     62     49  4.938443\n",
       "1610     82     46  5.072770\n",
       "\n",
       "[8281 rows x 3 columns]"
      ]
     },
     "execution_count": 233,
     "metadata": {},
     "output_type": "execute_result"
    }
   ],
   "source": [
    "tmp_edge.sort_values(by=['weight'])"
   ]
  },
  {
   "cell_type": "code",
   "execution_count": null,
   "metadata": {},
   "outputs": [],
   "source": []
  },
  {
   "cell_type": "markdown",
   "metadata": {},
   "source": [
    "### Survey walks"
   ]
  },
  {
   "cell_type": "code",
   "execution_count": 206,
   "metadata": {},
   "outputs": [],
   "source": [
    "walk_filename = \"walk_node21_32_removed.csv\"\n",
    "walks = {}\n",
    "for p, q in [(0.01, 1000000), (1000000, 0.01)]:\n",
    "    walk_dir = utils.get_walk_dir(roi=roi, \n",
    "                              project_name=project_name, \n",
    "                              N=N, \n",
    "                              length=length, \n",
    "                              p=p, \n",
    "                              q=q, \n",
    "                              layer_class=layer_class, \n",
    "                              layer=layer, \n",
    "                              walk_type=walk_type)\n",
    "\n",
    "    walk_name = utils.get_walk_dir_name(N=1, p=p, q=q, length=length)\n",
    "    walks[walk_name] = utils.read_list_of_lists_from_csv(os.path.join(walk_dir, walk_filename))"
   ]
  },
  {
   "cell_type": "code",
   "execution_count": 231,
   "metadata": {},
   "outputs": [
    {
     "name": "stdout",
     "output_type": "stream",
     "text": [
      "0 (91, 3)\n",
      "1 (91, 3)\n",
      "2 (91, 3)\n",
      "3 (91, 3)\n",
      "4 (91, 3)\n",
      "5 (91, 3)\n",
      "6 (91, 3)\n",
      "7 (91, 3)\n",
      "8 (91, 3)\n",
      "9 (91, 3)\n",
      "10 (91, 3)\n",
      "11 (91, 3)\n",
      "12 (91, 3)\n",
      "13 (91, 3)\n",
      "14 (91, 3)\n",
      "15 (91, 3)\n",
      "16 (91, 3)\n",
      "17 (91, 3)\n",
      "18 (91, 3)\n",
      "19 (91, 3)\n",
      "20 (91, 3)\n",
      "21 (0, 3)\n",
      "22 (91, 3)\n",
      "23 (91, 3)\n",
      "24 (91, 3)\n",
      "25 (91, 3)\n",
      "26 (91, 3)\n",
      "27 (91, 3)\n",
      "28 (91, 3)\n",
      "29 (91, 3)\n",
      "30 (91, 3)\n",
      "31 (91, 3)\n",
      "32 (0, 3)\n",
      "33 (91, 3)\n",
      "34 (91, 3)\n",
      "35 (91, 3)\n",
      "36 (91, 3)\n",
      "37 (91, 3)\n",
      "38 (91, 3)\n",
      "39 (91, 3)\n",
      "40 (91, 3)\n",
      "41 (91, 3)\n",
      "42 (91, 3)\n",
      "43 (91, 3)\n",
      "44 (91, 3)\n",
      "45 (91, 3)\n",
      "46 (91, 3)\n",
      "47 (91, 3)\n",
      "48 (91, 3)\n",
      "49 (91, 3)\n",
      "50 (91, 3)\n",
      "51 (91, 3)\n",
      "52 (91, 3)\n",
      "53 (91, 3)\n",
      "54 (91, 3)\n",
      "55 (91, 3)\n",
      "56 (91, 3)\n",
      "57 (91, 3)\n",
      "58 (91, 3)\n",
      "59 (91, 3)\n",
      "60 (91, 3)\n",
      "61 (91, 3)\n",
      "62 (91, 3)\n",
      "63 (91, 3)\n",
      "64 (91, 3)\n",
      "65 (91, 3)\n",
      "66 (91, 3)\n",
      "67 (91, 3)\n",
      "68 (91, 3)\n",
      "69 (91, 3)\n",
      "70 (91, 3)\n",
      "71 (91, 3)\n",
      "72 (91, 3)\n",
      "73 (91, 3)\n",
      "74 (91, 3)\n",
      "75 (91, 3)\n",
      "76 (91, 3)\n",
      "77 (91, 3)\n",
      "78 (91, 3)\n",
      "79 (91, 3)\n",
      "80 (91, 3)\n",
      "81 (91, 3)\n",
      "82 (91, 3)\n",
      "83 (91, 3)\n",
      "84 (91, 3)\n",
      "85 (91, 3)\n",
      "86 (91, 3)\n",
      "87 (91, 3)\n",
      "88 (91, 3)\n",
      "89 (91, 3)\n",
      "90 (91, 3)\n",
      "91 (91, 3)\n",
      "92 (91, 3)\n"
     ]
    }
   ],
   "source": [
    "for i in range(93):\n",
    "    print(i, tmp_edge[tmp_edge.source == str(i)].shape)"
   ]
  },
  {
   "cell_type": "code",
   "execution_count": 225,
   "metadata": {},
   "outputs": [
    {
     "name": "stdout",
     "output_type": "stream",
     "text": [
      "yes\n",
      "yes\n",
      "yes\n",
      "yes\n",
      "yes\n",
      "yes\n",
      "yes\n",
      "yes\n",
      "yes\n",
      "yes\n"
     ]
    }
   ],
   "source": [
    "for _ in range(10):\n",
    "    print(\"yes\")"
   ]
  },
  {
   "cell_type": "code",
   "execution_count": 216,
   "metadata": {},
   "outputs": [
    {
     "name": "stdout",
     "output_type": "stream",
     "text": [
      "Checking all the weights on all the edges!\n",
      "Computing the node importance!\n",
      "[['0', '35', '12', '69', '9', '30', '7', '17', '55', '48'], ['2', '51', '28', '18', '13', '28', '22', '1', '85', '83'], ['9', '20', '48', '41', '43', '26', '3', '23', '36', '61'], ['11', '80', '10', '29', '78', '62', '66', '14', '70', '49'], ['13', '4', '25', '25', '75', '45', '6', '3', '35', '48'], ['36', '76', '9', '86', '3', '66', '60', '69', '57', '10'], ['43', '90', '89', '67', '92', '8', '24', '14', '47', '86'], ['47', '54', '31', '30', '43', '82', '49', '50', '35', '58'], ['48', '22', '92', '15', '44', '27', '2', '39', '24', '69'], ['53', '27', '79', '34', '68', '52', '92', '59', '30', '19'], ['54', '47', '81', '46', '8', '30', '2', '41', '9', '15'], ['58', '87', '35', '49', '57', '41', '9', '31', '23', '41'], ['62', '17', '28', '4', '26', '10', '5', '1', '30', '81'], ['63', '39', '79', '28', '7', '62', '86', '56', '67', '10'], ['64', '90', '7', '8', '67', '42', '25', '53', '73', '46'], ['67', '12', '17', '63', '12', '1', '77', '25', '59', '75'], ['68', '76', '55', '15', '75', '14', '77', '22', '58', '42'], ['69', '85', '15', '46', '69', '27', '25', '48', '10', '13'], ['70', '73', '46', '39', '56', '68', '13', '5', '73', '43'], ['71', '37', '23', '23', '45', '50', '78', '71', '45', '41'], ['72', '39', '7', '51', '0', '15', '46', '71', '57', '61'], ['73', '77', '46', '92', '61', '54', '82', '24', '67', '49'], ['74', '17', '78', '6', '4', '80', '66', '78', '34', '91'], ['75', '91', '1', '25', '60', '87', '10', '62', '12', '60'], ['76', '49', '17', '47', '25', '54', '12', '3', '17', '83'], ['77', '4', '10', '12', '5', '17', '55', '30', '30', '5'], ['78', '7', '31', '82', '58', '47', '78', '67', '1', '88'], ['79', '24', '47', '39', '71', '65', '47', '15', '48', '79'], ['89', '46', '8', '6', '31', '46', '10', '2', '0', '0'], ['1', '74', '7', '45', '25', '5', '92', '20', '77', '40'], ['3', '55', '15', '55', '38', '35', '80', '35', '10', '31'], ['17', '82', '57', '55', '47', '72', '68', '81', '26', '46'], ['18', '63', '46', '50', '45', '24', '67', '61', '61', '90'], ['30', '72', '15', '77', '53', '33', '33', '0', '16', '47'], ['31', '63', '70', '58', '13', '76', '58', '86', '13', '27'], ['65', '81', '28', '84', '92', '6', '27', '59', '17', '42'], ['66', '33', '64', '27', '81', '14', '25', '55', '68', '84'], ['80', '82', '27', '76', '58', '66', '26', '13', '77', '58'], ['88', '91', '49', '30', '80', '46', '71', '68', '27', '26'], ['34', '77', '9', '7', '41', '27', '49', '80', '11', '14'], ['35', '29', '3', '73', '34', '26', '3', '44', '26', '11'], ['37', '45', '2', '22', '17', '41', '47', '14', '52', '74'], ['41', '60', '8', '11', '50', '63', '59', '4', '51', '10'], ['46', '6', '59', '63', '24', '9', '72', '80', '27', '11'], ['49', '30', '20', '55', '79', '1', '88', '69', '10', '9'], ['59', '89', '15', '36', '11', '84', '64', '2', '92', '1'], ['91', '48', '54', '81', '77', '10', '2', '71', '55', '12'], ['20', '91', '23', '15', '61', '29', '77', '81', '92', '19'], ['38', '66', '46', '77', '42', '1', '27', '47', '46', '11'], ['42', '7', '25', '28', '23', '35', '91', '49', '48', '67'], ['50', '17', '3', '0', '1', '24', '89', '44', '57', '7'], ['51', '70', '79', '49', '57', '33', '1', '69', '54', '7'], ['81', '45', '48', '80', '58', '92', '44', '7', '0', '22'], ['82', '40', '29', '88', '22', '46', '7', '61', '48', '16'], ['84', '54', '78', '46', '85', '10', '8', '88', '65', '8'], ['87', '4', '9', '89', '6', '11', '49', '83', '10', '28'], ['4', '87', '44', '75', '64', '61', '47', '82', '22', '66'], ['5', '5', '9', '2', '3', '38', '53', '0', '51', '86'], ['6', '54', '6', '7', '46', '65', '54', '77', '8', '68'], ['7', '79', '48', '70', '80', '47', '11', '22', '61', '6'], ['8', '55', '71', '82', '89', '45', '2', '11', '92', '20'], ['10', '84', '41', '2', '56', '0', '29', '66', '52', '18'], ['12', '18', '11', '6', '9', '63', '12', '87', '51', '31'], ['15', '63', '52', '66', '42', '50', '56', '82', '72', '90'], ['19', '38', '48', '81', '48', '10', '10', '5', '5', '26'], ['22', '14', '46', '25', '55', '31', '5', '53', '92', '92'], ['23', '38', '31', '18', '54', '66', '10', '31', '22', '0'], ['24', '27', '87', '54', '62', '84', '61', '49', '49', '58'], ['25', '30', '76', '29', '14', '52', '52', '46', '68', '6'], ['26', '25', '61', '33', '53', '13', '23', '49', '68', '79'], ['27', '62', '57', '41', '91', '44', '0', '26', '12', '23'], ['28', '92', '58', '61', '60', '78', '58', '18', '25', '60'], ['29', '37', '35', '76', '5', '88', '10', '79', '37', '80'], ['44', '66', '6', '31', '67', '38', '50', '79', '59', '60'], ['57', '15', '15', '89', '57', '55', '49', '18', '53', '91'], ['60', '26', '9', '15', '41', '34', '3', '24', '59', '44'], ['85', '68', '49', '73', '60', '59', '7', '36', '82', '46'], ['86', '8', '18', '76', '55', '26', '11', '29', '30', '52'], ['90', '83', '5', '77', '8', '50', '78', '25', '52', '71'], ['92', '80', '49', '1', '90', '82', '82', '26', '23', '5'], ['16', '24', '12', '22', '49', '67', '38', '58', '30', '79'], ['83', '9', '31', '12', '31', '11', '69', '12', '88', '49'], ['52', '81', '23', '36', '7', '59', '16', '70', '48', '79'], ['55', '34', '62', '36', '43', '76', '64', '56', '31', '46'], ['14', '33', '43', '11', '53', '48', '74', '48', '51', '34'], ['39', '47', '78', '42', '29', '10', '25', '15', '0', '10'], ['33', '30', '19', '29', '10', '23', '22', '48', '23', '67'], ['45', '6', '26', '58', '76', '79', '82', '47', '91', '9'], ['56', '85', '6', '31', '2', '83', '7', '83', '84', '51'], ['61', '2', '18', '66', '35', '15', '47', '7', '67', '50'], ['40', '17', '17', '76', '3', '29', '47', '1', '2', '9']]\n"
     ]
    }
   ],
   "source": []
  },
  {
   "cell_type": "code",
   "execution_count": 209,
   "metadata": {},
   "outputs": [
    {
     "name": "stdout",
     "output_type": "stream",
     "text": [
      "['0', '15', '92', '27', '92', '17', '7', '12', '30', '30']\n",
      "['0', '48', '14', '65', '52', '77', '59', '69', '54', '3']\n"
     ]
    }
   ],
   "source": [
    "print(walks['N_1_l_10000_p_0.01_q_1000000'][0][0:10])\n",
    "print(walks['N_1_l_10000_p_1000000_q_0.01'][0][0:10])"
   ]
  },
  {
   "cell_type": "markdown",
   "metadata": {},
   "source": [
    "### Plot loss for different embedding sizes"
   ]
  },
  {
   "cell_type": "code",
   "execution_count": 76,
   "metadata": {},
   "outputs": [
    {
     "data": {
      "text/plain": [
       "[<matplotlib.lines.Line2D at 0x1a4b5772d0>]"
      ]
     },
     "execution_count": 76,
     "metadata": {},
     "output_type": "execute_result"
    },
    {
     "data": {
      "image/png": "[encoded data removed]",
      "text/plain": [
       "<Figure size 432x288 with 1 Axes>"
      ]
     },
     "metadata": {
      "needs_background": "light"
     },
     "output_type": "display_data"
    }
   ],
   "source": [
    "plt.plot(losses['p_1_q_1'])\n",
    "plt.plot(losses['p_1_q_2'])\n",
    "plt.plot(losses['p_2_q_1'])\n",
    "plt.plot(losses['p_0.5_q_2'])\n",
    "plt.plot(losses['p_2_q_0.5'])"
   ]
  },
  {
   "cell_type": "markdown",
   "metadata": {},
   "source": [
    "### Check the difference between MCBOW and CBOW"
   ]
  },
  {
   "cell_type": "code",
   "execution_count": null,
   "metadata": {},
   "outputs": [],
   "source": []
  }
 ],
 "metadata": {
  "kernelspec": {
   "display_name": "py374",
   "language": "python",
   "name": "py374"
  },
  "language_info": {
   "codemirror_mode": {
    "name": "ipython",
    "version": 3
   },
   "file_extension": ".py",
   "mimetype": "text/x-python",
   "name": "python",
   "nbconvert_exporter": "python",
   "pygments_lexer": "ipython3",
   "version": "3.7.4"
  }
 },
 "nbformat": 4,
 "nbformat_minor": 4
}
