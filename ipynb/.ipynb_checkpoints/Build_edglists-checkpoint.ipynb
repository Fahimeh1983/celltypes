{
 "cells": [
  {
   "cell_type": "markdown",
   "metadata": {},
   "source": [
    "## Create all original edge lists (April 7)"
   ]
  },
  {
   "cell_type": "code",
   "execution_count": 67,
   "metadata": {},
   "outputs": [
    {
     "data": {
      "text/plain": [
       "<module 'cell.utils' from '/Users/fahimehb/Documents/git-workspace/celltypes/cell/utils.py'>"
      ]
     },
     "execution_count": 67,
     "metadata": {},
     "output_type": "execute_result"
    }
   ],
   "source": [
    "import os\n",
    "import imp\n",
    "from cell import utils, graph_utils\n",
    "\n",
    "imp.reload(graph_utils)\n",
    "imp.reload(utils)"
   ]
  },
  {
   "cell_type": "code",
   "execution_count": 2,
   "metadata": {},
   "outputs": [],
   "source": [
    "project_name = \"NPP_GNN_project\"\n",
    "roi = \"VISp\"\n",
    "layers = utils.get_npp_visp_layers()"
   ]
  },
  {
   "cell_type": "markdown",
   "metadata": {},
   "source": [
    "### Write the original edge files without any modifications"
   ]
  },
  {
   "cell_type": "code",
   "execution_count": 64,
   "metadata": {
    "collapsed": true,
    "jupyter": {
     "outputs_hidden": true
    }
   },
   "outputs": [
    {
     "name": "stdout",
     "output_type": "stream",
     "text": [
      "Building a directed graph edge list\n",
      "Building a directed graph edge list\n",
      "Building a directed graph edge list\n",
      "Building a directed graph edge list\n",
      "Building a directed graph edge list\n",
      "Building a directed graph edge list\n",
      "Building a directed graph edge list\n",
      "Building a directed graph edge list\n",
      "Building a directed graph edge list\n",
      "Building a directed graph edge list\n",
      "Building a directed graph edge list\n",
      "Building a directed graph edge list\n",
      "Building a directed graph edge list\n",
      "Building a directed graph edge list\n",
      "Building a directed graph edge list\n",
      "Building a directed graph edge list\n",
      "Building a directed graph edge list\n",
      "Building a directed graph edge list\n",
      "Building a directed graph edge list\n",
      "Building a directed graph edge list\n",
      "Building a directed graph edge list\n",
      "Building a directed graph edge list\n",
      "Building a directed graph edge list\n",
      "Building a directed graph edge list\n",
      "Building a directed graph edge list\n",
      "Building a directed graph edge list\n",
      "Building a directed graph edge list\n",
      "Building a directed graph edge list\n",
      "Building a directed graph edge list\n",
      "Building a directed graph edge list\n",
      "Building a directed graph edge list\n",
      "Building a directed graph edge list\n",
      "Building a directed graph edge list\n",
      "Building a directed graph edge list\n",
      "Building a directed graph edge list\n",
      "Building a directed graph edge list\n",
      "Building a directed graph edge list\n"
     ]
    }
   ],
   "source": [
    "for layer in layers:\n",
    "    in_mat = utils.get_npp_visp_interaction_mat_path(layer)\n",
    "    in_mat = pd.read_csv(in_mat, index_col=\"Unnamed: 0\")\n",
    "    source_target_weight = graph_utils.build_edge_list(weight_matrix=in_mat, \n",
    "                                                       threshold=0, \n",
    "                                                       directed=True)\n",
    "    edgelist_filename = \"original_edges.csv\"\n",
    "    edgelist_dir = utils.get_edgelist_dir(roi, project_name, layer)\n",
    "    if not os.path.isdir(edgelist_dir):\n",
    "        os.mkdir(edgelist_dir)     \n",
    "    source_target_weight.to_csv(os.path.join(edgelist_dir , edgelist_filename))"
   ]
  },
  {
   "cell_type": "markdown",
   "metadata": {},
   "source": [
    "### Write edge files with self connections for all the nodes"
   ]
  },
  {
   "cell_type": "code",
   "execution_count": 65,
   "metadata": {
    "collapsed": true,
    "jupyter": {
     "outputs_hidden": true
    }
   },
   "outputs": [
    {
     "name": "stdout",
     "output_type": "stream",
     "text": [
      "Building a directed graph edge list\n",
      "Building a directed graph edge list\n",
      "Building a directed graph edge list\n",
      "Building a directed graph edge list\n",
      "Building a directed graph edge list\n",
      "Building a directed graph edge list\n",
      "Building a directed graph edge list\n",
      "Building a directed graph edge list\n",
      "Building a directed graph edge list\n",
      "Building a directed graph edge list\n",
      "Building a directed graph edge list\n",
      "Building a directed graph edge list\n",
      "Building a directed graph edge list\n",
      "Building a directed graph edge list\n",
      "Building a directed graph edge list\n",
      "Building a directed graph edge list\n",
      "Building a directed graph edge list\n",
      "Building a directed graph edge list\n",
      "Building a directed graph edge list\n",
      "Building a directed graph edge list\n",
      "Building a directed graph edge list\n",
      "Building a directed graph edge list\n",
      "Building a directed graph edge list\n",
      "Building a directed graph edge list\n",
      "Building a directed graph edge list\n",
      "Building a directed graph edge list\n",
      "Building a directed graph edge list\n",
      "Building a directed graph edge list\n",
      "Building a directed graph edge list\n",
      "Building a directed graph edge list\n",
      "Building a directed graph edge list\n",
      "Building a directed graph edge list\n",
      "Building a directed graph edge list\n",
      "Building a directed graph edge list\n",
      "Building a directed graph edge list\n",
      "Building a directed graph edge list\n",
      "Building a directed graph edge list\n"
     ]
    }
   ],
   "source": [
    "for layer in layers:\n",
    "    in_mat = utils.get_npp_visp_interaction_mat_path(layer)\n",
    "    in_mat = pd.read_csv(in_mat, index_col=\"Unnamed: 0\")\n",
    "    source_target_weight = graph_utils.build_edge_list(weight_matrix=in_mat, \n",
    "                                                       threshold=0, \n",
    "                                                       directed=True)\n",
    "    # Add self connection\n",
    "    source_target_weight = graph_utils.fix_self_connection(source_target_weight, \n",
    "                                                           weighted=True)\n",
    "    \n",
    "    edgelist_filename = \"selfconnection_added_edges.csv\"\n",
    "    edgelist_dir = utils.get_edgelist_dir(roi, project_name, layer)\n",
    "    if not os.path.isdir(edgelist_dir):\n",
    "        os.mkdir(edgelist_dir)     \n",
    "    source_target_weight.to_csv(os.path.join(edgelist_dir , edgelist_filename))"
   ]
  },
  {
   "cell_type": "markdown",
   "metadata": {},
   "source": [
    "### Check the difference between two edge file for one example layer"
   ]
  },
  {
   "cell_type": "code",
   "execution_count": 66,
   "metadata": {},
   "outputs": [
    {
     "name": "stdout",
     "output_type": "stream",
     "text": [
      "layer: Pdyn-Oprk1 looks fine\n",
      "layer: Rln1-Rxfp3 looks fine\n",
      "layer: Trh-Trhr2 looks fine\n",
      "layer: Adcyap1-Vipr2 looks fine\n",
      "layer: Tac1-Tacr1 looks fine\n",
      "layer: Sst-Sstr4 looks fine\n",
      "layer: Vip-Vipr1 looks fine\n",
      "layer: Npy-Npy5r looks fine\n",
      "layer: Pdyn-Oprd1 looks fine\n",
      "layer: Adcyap1-Adcyap1r1 looks fine\n",
      "layer: Crh-Crhr1 looks fine\n",
      "layer: Crh-Crhr2 looks fine\n",
      "layer: Sst-Sstr2 looks fine\n",
      "layer: Cck-Cckbr looks fine\n",
      "layer: Pthlh-Pth1r looks fine\n",
      "layer: Rln1-Rxfp2 looks fine\n",
      "layer: Cort-Sstr4 looks fine\n",
      "layer: Cort-Sstr3 looks fine\n",
      "layer: Trh-Trhr looks fine\n",
      "layer: Nmb-Nmbr looks fine\n",
      "layer: Cort-Sstr2 looks fine\n",
      "layer: Tac2-Tacr3 looks fine\n",
      "layer: Adcyap1-Vipr1 looks fine\n",
      "layer: Grp-Grpr looks fine\n",
      "layer: Sst-Sstr1 looks fine\n",
      "layer: Npy-Npy1r looks fine\n",
      "layer: Pnoc-Oprl1 looks fine\n",
      "layer: Sst-Sstr3 looks fine\n",
      "layer: Pdyn-Oprm1 looks fine\n",
      "layer: Penk-Oprd1 looks fine\n",
      "layer: Nts-Ntsr2 looks fine\n",
      "layer: Penk-Oprm1 looks fine\n",
      "layer: Npy-Npy2r looks fine\n",
      "layer: Rln1-Rxfp1 looks fine\n",
      "layer: Nts-Ntsr1 looks fine\n",
      "layer: Vip-Vipr2 looks fine\n",
      "layer: Cort-Sstr1 looks fine\n"
     ]
    }
   ],
   "source": [
    "for layer in layers :\n",
    "    edgelist_dir = utils.get_edgelist_dir(roi, project_name, layer)\n",
    "    in_mat = utils.get_npp_visp_interaction_mat_path(layer)\n",
    "    in_mat = pd.read_csv(in_mat, index_col=\"Unnamed: 0\")\n",
    "    in_mat.index = in_mat.index.astype(str)\n",
    "    in_mat.columns = in_mat.columns.astype(str)\n",
    "\n",
    "    original = pd.read_csv(edgelist_dir + \"/original_edges.csv\")\n",
    "    modified = pd.read_csv(edgelist_dir + \"/selfconnection_added_edges.csv\")\n",
    "    original['source'] = original['source'].astype(str)\n",
    "    original['target'] = original['target'].astype(str)\n",
    "    modified['source'] = modified['source'].astype(str)\n",
    "    modified['target'] = modified['target'].astype(str)\n",
    "\n",
    "\n",
    "    diff = original.merge(modified, \n",
    "                          how='outer',\n",
    "                          indicator=True).loc[lambda x : x['_merge']=='right_only']\n",
    "\n",
    "    missing = 0 \n",
    "    missing_n = []\n",
    "    nodes = (graph_utils.get_node_from_edgelist(original))\n",
    "    for i in nodes:\n",
    "        if (original[(original['source'] == str(i))\n",
    "                                    & (original['target'] == str(i))].empty):\n",
    "            missing_n.append(i)\n",
    "            missing += 1\n",
    "\n",
    "    if missing == len(diff):\n",
    "        print(\"layer:\",layer, \"looks fine\" )\n",
    "    else:\n",
    "        print(\"layer:\",layer, \"looks wrong\" )"
   ]
  },
  {
   "cell_type": "code",
   "execution_count": null,
   "metadata": {},
   "outputs": [],
   "source": []
  }
 ],
 "metadata": {
  "kernelspec": {
   "display_name": "py374",
   "language": "python",
   "name": "py374"
  },
  "language_info": {
   "codemirror_mode": {
    "name": "ipython",
    "version": 3
   },
   "file_extension": ".py",
   "mimetype": "text/x-python",
   "name": "python",
   "nbconvert_exporter": "python",
   "pygments_lexer": "ipython3",
   "version": "3.7.4"
  }
 },
 "nbformat": 4,
 "nbformat_minor": 4
}
