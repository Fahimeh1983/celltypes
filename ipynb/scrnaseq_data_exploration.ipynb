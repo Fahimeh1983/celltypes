{
 "cells": [
  {
   "cell_type": "code",
   "execution_count": 1,
   "metadata": {},
   "outputs": [],
   "source": [
    "import h5py\n",
    "import scipy.sparse as ss\n",
    "import numpy as np\n"
   ]
  },
  {
   "cell_type": "code",
   "execution_count": 2,
   "metadata": {},
   "outputs": [
    {
     "name": "stdout",
     "output_type": "stream",
     "text": [
      "data\n",
      "data/counts\n",
      "data/gene\n",
      "data/samples\n",
      "data/shape\n",
      "------------------------\n",
      "data\n",
      "data/exon\n",
      "data/exon/dims\n",
      "data/exon/i\n",
      "data/exon/p\n",
      "data/exon/x\n",
      "data/intron\n",
      "data/intron/dims\n",
      "data/intron/i\n",
      "data/intron/p\n",
      "data/intron/x\n",
      "data/t_exon\n",
      "data/t_exon/dims\n",
      "data/t_exon/i\n",
      "data/t_exon/p\n",
      "data/t_exon/x\n",
      "data/t_intron\n",
      "data/t_intron/dims\n",
      "data/t_intron/i\n",
      "data/t_intron/p\n",
      "data/t_intron/x\n",
      "data/total_exon_counts\n",
      "data/total_intron_counts\n",
      "gene_names\n",
      "sample_names\n"
     ]
    }
   ],
   "source": [
    "fname_10x = \"/Users/fahimehb/Documents/VAE_GAN_project/dat/CTX_Hip_10x_counts.h5\"\n",
    "fname_ss = \"/Users/fahimehb/Documents/VAE_GAN_project/dat/CTX_Hip_SS_counts.h5\"\n",
    "\n",
    "def print_attrs(name, obj):\n",
    "    print(name)\n",
    "    for key, val in obj.attrs.items():\n",
    "        print(\"    %s: %s\" % (key, val))\n",
    "\n",
    "f_10x = h5py.File(fname_10x, mode='r')\n",
    "f_10x.visititems(print_attrs)\n",
    "\n",
    "print('------------------------')\n",
    "f_ss = h5py.File(fname_ss, mode='r')\n",
    "f_ss.visititems(print_attrs)\n"
   ]
  },
  {
   "cell_type": "markdown",
   "metadata": {},
   "source": [
    "# ss functions"
   ]
  },
  {
   "cell_type": "code",
   "execution_count": 39,
   "metadata": {},
   "outputs": [],
   "source": [
    "def extract_sparse_mat(h5f, data_path):\n",
    "    \n",
    "    data = h5f[data_path]\n",
    "    x = data['x']\n",
    "    i = data['i']\n",
    "    p = data['p']\n",
    "    dims = data['dims']\n",
    "    \n",
    "    sparse_mat = ss.csc_matrix((x[0:x.len()],\n",
    "                               i[0:i.len()],\n",
    "                               p[0:p.len()]),\n",
    "                               shape = (dims[0],dims[1]))\n",
    "    return sparse_mat\n",
    "\n",
    "def extract_gene_names(h5f, data_path):\n",
    "    data = h5f[data_path]\n",
    "    gene_names = data[:].astype(str).tolist()\n",
    "    return gene_names\n"
   ]
  },
  {
   "cell_type": "code",
   "execution_count": null,
   "metadata": {},
   "outputs": [],
   "source": [
    "h5f = h5py.File(fname_ss,'r')\n",
    "exons = extract_sparse_mat(h5f,'/data/exon/')\n",
    "introns = extract_sparse_mat(h5f,'/data/intron/')\n",
    "X = exons + introns\n",
    "X = X.todense()"
   ]
  },
  {
   "cell_type": "code",
   "execution_count": 45,
   "metadata": {},
   "outputs": [],
   "source": [
    "gene_names = extract_gene_names(h5f, 'gene_names')\n",
    "req_genes = ['Sst', 'Vip']"
   ]
  },
  {
   "cell_type": "code",
   "execution_count": 49,
   "metadata": {},
   "outputs": [],
   "source": [
    "req_gene_indices = [gene_names.index(i) for i in req_genes]"
   ]
  },
  {
   "cell_type": "code",
   "execution_count": 51,
   "metadata": {},
   "outputs": [
    {
     "ename": "TypeError",
     "evalue": "slice indices must be integers or None or have an __index__ method",
     "output_type": "error",
     "traceback": [
      "\u001b[0;31m---------------------------------------------------------------------------\u001b[0m",
      "\u001b[0;31mTypeError\u001b[0m                                 Traceback (most recent call last)",
      "\u001b[0;32m<ipython-input-51-be4c2f89b2b0>\u001b[0m in \u001b[0;36m<module>\u001b[0;34m\u001b[0m\n\u001b[0;32m----> 1\u001b[0;31m \u001b[0mX\u001b[0m\u001b[0;34m[\u001b[0m\u001b[0;34m:\u001b[0m\u001b[0mreq_gene_indices\u001b[0m\u001b[0;34m]\u001b[0m\u001b[0;34m\u001b[0m\u001b[0;34m\u001b[0m\u001b[0m\n\u001b[0m",
      "\u001b[0;32m~/anaconda3/envs/py374/lib/python3.7/site-packages/numpy/matrixlib/defmatrix.py\u001b[0m in \u001b[0;36m__getitem__\u001b[0;34m(self, index)\u001b[0m\n\u001b[1;32m    193\u001b[0m \u001b[0;34m\u001b[0m\u001b[0m\n\u001b[1;32m    194\u001b[0m         \u001b[0;32mtry\u001b[0m\u001b[0;34m:\u001b[0m\u001b[0;34m\u001b[0m\u001b[0;34m\u001b[0m\u001b[0m\n\u001b[0;32m--> 195\u001b[0;31m             \u001b[0mout\u001b[0m \u001b[0;34m=\u001b[0m \u001b[0mN\u001b[0m\u001b[0;34m.\u001b[0m\u001b[0mndarray\u001b[0m\u001b[0;34m.\u001b[0m\u001b[0m__getitem__\u001b[0m\u001b[0;34m(\u001b[0m\u001b[0mself\u001b[0m\u001b[0;34m,\u001b[0m \u001b[0mindex\u001b[0m\u001b[0;34m)\u001b[0m\u001b[0;34m\u001b[0m\u001b[0;34m\u001b[0m\u001b[0m\n\u001b[0m\u001b[1;32m    196\u001b[0m         \u001b[0;32mfinally\u001b[0m\u001b[0;34m:\u001b[0m\u001b[0;34m\u001b[0m\u001b[0;34m\u001b[0m\u001b[0m\n\u001b[1;32m    197\u001b[0m             \u001b[0mself\u001b[0m\u001b[0;34m.\u001b[0m\u001b[0m_getitem\u001b[0m \u001b[0;34m=\u001b[0m \u001b[0;32mFalse\u001b[0m\u001b[0;34m\u001b[0m\u001b[0;34m\u001b[0m\u001b[0m\n",
      "\u001b[0;31mTypeError\u001b[0m: slice indices must be integers or None or have an __index__ method"
     ]
    }
   ],
   "source": [
    "X[:req_gene_indices]"
   ]
  },
  {
   "cell_type": "markdown",
   "metadata": {},
   "source": [
    "# 10X functions"
   ]
  },
  {
   "cell_type": "code",
   "execution_count": null,
   "metadata": {},
   "outputs": [],
   "source": [
    "def get_cellxgene_mat(h5f,gene_idx_sorted,n_samples, data_path):\n",
    "    X = h5f[data_path][gene_idx_sorted, 0:n_samples]\n",
    "    X = np.transpose(X)\n",
    "    return X\n",
    "\n",
    "def get_gene_names(h5f,gene_idx_sorted, gene_path):\n",
    "    gene_list = h5f[gene_path][gene_idx_sorted].astype(str).tolist()\n",
    "    return gene_list"
   ]
  },
  {
   "cell_type": "code",
   "execution_count": 20,
   "metadata": {},
   "outputs": [],
   "source": [
    "# 10X\n",
    "\n",
    "fname = fname_10x\n",
    "data_path = 'data/counts/'\n",
    "gene_path = 'data/gene/'\n",
    "\n",
    "h5f = h5py.File(fname,'r')\n",
    "n_samples = 10\n",
    "gene_idx = np.array([0,1,2,3,4])\n",
    "gene_idx_sorted = np.sort(gene_idx) #Required for slicing data in h5 file\n",
    "\n",
    "X = get_cellxgene_mat(h5f,gene_idx_sorted,n_samples, data_path)\n",
    "genes = get_gene_names(h5f, gene_idx_sorted, gene_path)"
   ]
  },
  {
   "cell_type": "code",
   "execution_count": 23,
   "metadata": {},
   "outputs": [
    {
     "name": "stdout",
     "output_type": "stream",
     "text": [
      "[[ 8  0  0  0  0]\n",
      " [13  2  0  0  0]\n",
      " [ 8  0  0  0  0]\n",
      " [11  0  0  0  0]\n",
      " [10  1  0  0  0]\n",
      " [ 0  0  0  0  0]\n",
      " [ 5  0  0  0  0]\n",
      " [30  0  0  0  0]\n",
      " [17  0  0  0  0]\n",
      " [14  0  0  0  0]]\n",
      "['Xkr4', 'Gm1992', 'Gm37381', 'Rp1', 'Sox17']\n"
     ]
    }
   ],
   "source": [
    "print(X)\n",
    "print(genes)"
   ]
  }
 ],
 "metadata": {
  "kernelspec": {
   "display_name": "py374",
   "language": "python",
   "name": "py374"
  },
  "language_info": {
   "codemirror_mode": {
    "name": "ipython",
    "version": 3
   },
   "file_extension": ".py",
   "mimetype": "text/x-python",
   "name": "python",
   "nbconvert_exporter": "python",
   "pygments_lexer": "ipython3",
   "version": "3.7.4"
  }
 },
 "nbformat": 4,
 "nbformat_minor": 4
}
