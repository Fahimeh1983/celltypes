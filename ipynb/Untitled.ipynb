{
 "cells": [
  {
   "cell_type": "code",
   "execution_count": 3,
   "metadata": {},
   "outputs": [],
   "source": [
    "import csv\n",
    "import os\n",
    "import random\n",
    "import logging \n",
    "import umap\n",
    "\n",
    "import numpy as np\n",
    "import pandas as pd\n",
    "import seaborn as sns\n",
    "import networkx as nx\n",
    "import scipy.spatial as ss\n",
    "import matplotlib.pylab as plt\n",
    "\n",
    "from gensim.models import Word2Vec\n",
    "from sklearn.decomposition import PCA\n",
    "from sklearn import preprocessing\n",
    "from stellargraph import StellarDiGraph, StellarGraph\n"
   ]
  },
  {
   "cell_type": "code",
   "execution_count": 4,
   "metadata": {},
   "outputs": [
    {
     "data": {
      "text/plain": [
       "<module 'umap' from '/Users/fahimehb/anaconda3/envs/py374/lib/python3.7/site-packages/umap/__init__.py'>"
      ]
     },
     "execution_count": 4,
     "metadata": {},
     "output_type": "execute_result"
    }
   ],
   "source": [
    "import imp\n",
    "from cell import plot_utils, graph_utils, analysis, utils, math_utils, word2vec_utils\n",
    "import cell.BiasedDirectedWeightedWalk as BDWW\n",
    "\n",
    "imp.reload(plot_utils)\n",
    "imp.reload(graph_utils)\n",
    "imp.reload(analysis)\n",
    "imp.reload(utils)\n",
    "imp.reload(math_utils)\n",
    "imp.reload(umap)\n"
   ]
  },
  {
   "cell_type": "markdown",
   "metadata": {},
   "source": [
    "### Read edgelist"
   ]
  },
  {
   "cell_type": "code",
   "execution_count": 4,
   "metadata": {},
   "outputs": [],
   "source": [
    "edgelist_dir = utils.get_edgelist_dir(roi= \"VISp\", \n",
    "                                      layer_class= \"test_layer\", \n",
    "                                      project_name= \"NPP_GNN_project\")\n",
    "edge_list = pd.read_csv(edgelist_dir + \"/\" + \"edgelist0.csv\")\n",
    "edge_list.source = edge_list.source.apply(str)\n",
    "edge_list.target = edge_list.target.apply(str)"
   ]
  },
  {
   "cell_type": "markdown",
   "metadata": {},
   "source": [
    "### Create undirected graph"
   ]
  },
  {
   "cell_type": "code",
   "execution_count": 5,
   "metadata": {},
   "outputs": [],
   "source": [
    "nxg = graph_utils.build_nx_graph(edge_list, directed=False)\n",
    "snxg = StellarGraph(nxg)"
   ]
  },
  {
   "cell_type": "code",
   "execution_count": 6,
   "metadata": {},
   "outputs": [
    {
     "data": {
      "text/plain": [
       "False"
      ]
     },
     "execution_count": 6,
     "metadata": {},
     "output_type": "execute_result"
    }
   ],
   "source": [
    "snxg.is_directed()"
   ]
  },
  {
   "cell_type": "code",
   "execution_count": 10,
   "metadata": {},
   "outputs": [
    {
     "data": {
      "text/plain": [
       "Index(['0', '1', '2', '3', '4', '5', '6', '7', '8', '9', '10', '11', '12',\n",
       "       '13', '14', '15', '16', '17', '18', '19', '20', '21', '22', '23', '24',\n",
       "       '25', '26', '27', '28', '29', '30', '31', '32', '33', '34', '35', '36',\n",
       "       '37', '38', '39', '40', '41', '42', '43', '44', '45', '46', '47', '48',\n",
       "       '49', '50', '51', '52', '53', '54', '55', '56', '57', '58', '59', '60',\n",
       "       '61', '62', '63', '64', '65', '66', '67', '68', '69', '70', '71', '72',\n",
       "       '73', '74', '75', '76', '77', '78', '79', '80', '81', '82', '83', '84',\n",
       "       '85', '86', '87', '88', '89', '90', '91', '92'],\n",
       "      dtype='object')"
      ]
     },
     "execution_count": 10,
     "metadata": {},
     "output_type": "execute_result"
    }
   ],
   "source": [
    "snxg.nodes()"
   ]
  },
  {
   "cell_type": "code",
   "execution_count": 11,
   "metadata": {},
   "outputs": [
    {
     "data": {
      "text/plain": [
       "False"
      ]
     },
     "execution_count": 11,
     "metadata": {},
     "output_type": "execute_result"
    }
   ],
   "source": [
    "snxg.is_directed()"
   ]
  },
  {
   "cell_type": "markdown",
   "metadata": {},
   "source": [
    "### Read the walks"
   ]
  },
  {
   "cell_type": "code",
   "execution_count": 20,
   "metadata": {},
   "outputs": [],
   "source": [
    "layer = \"test_layer\"\n",
    "walk_type = \"Undirected_Weighted_node2vec\"\n",
    "length = 1000\n",
    "p = 1\n",
    "q = 1\n",
    "n = 1\n",
    "\n",
    "\n",
    "walk_dir = utils.get_walk_dir(\n",
    "    length=length, \n",
    "    p=p,\n",
    "    q=q, \n",
    "    layer_class=layer, \n",
    "    walk_type= walk_type, \n",
    "    roi=\"VISP\",\n",
    "    project_name = \"NPP_GNN_project\"\n",
    ")\n",
    "\n",
    "walks = []\n",
    "for i in range(20):\n",
    "    filename = \"walk\" + str(i) + \".csv\"\n",
    "    tmp = utils.read_list_of_lists_from_csv(path=walk_dir, filename=filename)\n",
    "    walks = walks + tmp"
   ]
  },
  {
   "cell_type": "code",
   "execution_count": 21,
   "metadata": {},
   "outputs": [
    {
     "data": {
      "text/plain": [
       "1860"
      ]
     },
     "execution_count": 21,
     "metadata": {},
     "output_type": "execute_result"
    }
   ],
   "source": [
    "len(walks)"
   ]
  },
  {
   "cell_type": "markdown",
   "metadata": {},
   "source": [
    "### Train the model"
   ]
  },
  {
   "cell_type": "code",
   "execution_count": 22,
   "metadata": {},
   "outputs": [
    {
     "name": "stdout",
     "output_type": "stream",
     "text": [
      "size_10_iter_10_window_2_mincount_0_sg_0.csv\n"
     ]
    }
   ],
   "source": [
    "size = 10\n",
    "sg = 0\n",
    "min_count = 0\n",
    "iter = 10\n",
    "window = 2\n",
    "\n",
    "model_dir = utils.get_model_dir(\n",
    "    length= length, \n",
    "    p=p, \n",
    "    q=q, \n",
    "    layer_class=layer, \n",
    "    walk_type= walk_type, \n",
    "    roi=\"VISP\",\n",
    "    project_name = \"NPP_GNN_project\"\n",
    ")\n",
    "\n",
    "loss_filename = utils.get_loss_filename(\n",
    "    size= size, \n",
    "    sg=sg, \n",
    "    iter=iter, \n",
    "    window=window,\n",
    "    min_count= min_count\n",
    ")\n",
    "\n",
    "if not os.path.isdir(model_dir):\n",
    "    os.mkdir(model_dir)\n",
    "    \n",
    "if os.path.isfile(model_dir + \"/\" + loss_filename):\n",
    "    os.remove(model_dir + \"/\" + loss_filename)\n",
    "    \n",
    "random.shuffle(walks)\n",
    "\n",
    "print(loss_filename)\n",
    "\n",
    "model = Word2Vec(\n",
    "    walks,         \n",
    "    size=size,      \n",
    "    sg=sg,          \n",
    "    workers=4, \n",
    "    min_count=min_count,                            \n",
    "    iter= iter,                               \n",
    "    window=window,                                \n",
    "    compute_loss=True,                       \n",
    "    callbacks=[word2vec_utils.callback(\n",
    "        filename=loss_filename, \n",
    "        filedir=model_dir\n",
    "    )]\n",
    ")"
   ]
  },
  {
   "cell_type": "markdown",
   "metadata": {},
   "source": [
    "### Plot the loss"
   ]
  },
  {
   "cell_type": "code",
   "execution_count": 23,
   "metadata": {},
   "outputs": [
    {
     "data": {
      "text/plain": [
       "<module 'matplotlib.pylab' from '/Users/fahimehb/anaconda3/envs/py374/lib/python3.7/site-packages/matplotlib/pylab.py'>"
      ]
     },
     "execution_count": 23,
     "metadata": {},
     "output_type": "execute_result"
    },
    {
     "data": {
      "image/png": "[encoded data removed]",
      "text/plain": [
       "<Figure size 720x360 with 1 Axes>"
      ]
     },
     "metadata": {
      "needs_background": "light"
     },
     "output_type": "display_data"
    }
   ],
   "source": [
    "plot_utils.plot_loss(loss_filename, model_dir)"
   ]
  },
  {
   "cell_type": "code",
   "execution_count": 35,
   "metadata": {},
   "outputs": [
    {
     "data": {
      "text/plain": [
       "(93, 10)"
      ]
     },
     "execution_count": 35,
     "metadata": {},
     "output_type": "execute_result"
    }
   ],
   "source": [
    "(model.trainables.syn1neg * model.wv.vectors).shape"
   ]
  },
  {
   "cell_type": "code",
   "execution_count": 28,
   "metadata": {},
   "outputs": [
    {
     "data": {
      "image/png": "[encoded data removed]",
      "text/plain": [
       "<Figure size 1440x360 with 1 Axes>"
      ]
     },
     "metadata": {
      "needs_background": "light"
     },
     "output_type": "display_data"
    }
   ],
   "source": [
    "scaled_data = preprocessing.StandardScaler().fit_transform(model.wv.vectors)\n",
    "pca = PCA(n_components=10)\n",
    "pca.fit(scaled_data)\n",
    "pca_data = pca.transform(scaled_data)\n",
    "\n",
    "per_var = np.round(pca.explained_variance_ratio_* 100, decimals=1)\n",
    "labels = ['PC' + str(x) for x in range(1, len(per_var)+1)]\n",
    "\n",
    "plt.figure(figsize=(20,5))\n",
    "plt.bar(x=range(1, len(per_var)+1), height=per_var, tick_label= labels)\n",
    "plt.xticks(rotation = 90)\n",
    "plt.show()"
   ]
  },
  {
   "cell_type": "code",
   "execution_count": null,
   "metadata": {},
   "outputs": [],
   "source": []
  }
 ],
 "metadata": {
  "kernelspec": {
   "display_name": "py374",
   "language": "python",
   "name": "py374"
  },
  "language_info": {
   "codemirror_mode": {
    "name": "ipython",
    "version": 3
   },
   "file_extension": ".py",
   "mimetype": "text/x-python",
   "name": "python",
   "nbconvert_exporter": "python",
   "pygments_lexer": "ipython3",
   "version": "3.7.4"
  }
 },
 "nbformat": 4,
 "nbformat_minor": 4
}
