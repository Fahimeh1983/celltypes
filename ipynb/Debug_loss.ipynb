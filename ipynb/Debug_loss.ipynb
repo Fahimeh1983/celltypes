{
 "cells": [
  {
   "cell_type": "markdown",
   "metadata": {},
   "source": [
    "### I am running different models to see how loss changes"
   ]
  },
  {
   "cell_type": "markdown",
   "metadata": {},
   "source": [
    "#### load libraries"
   ]
  },
  {
   "cell_type": "code",
   "execution_count": 3,
   "metadata": {},
   "outputs": [],
   "source": [
    "import os\n",
    "import time\n",
    "import torch\n",
    "import numpy as np\n",
    "import torch.nn as nn\n",
    "\n",
    "os.environ['KMP_DUPLICATE_LIB_OK']='True'\n",
    "device = torch.device('cuda' if torch.cuda.is_available() else 'cpu')"
   ]
  },
  {
   "cell_type": "code",
   "execution_count": 98,
   "metadata": {},
   "outputs": [
    {
     "name": "stderr",
     "output_type": "stream",
     "text": [
      "/Users/fahimehb/anaconda3/envs/py374/lib/python3.7/site-packages/tensorflow/python/framework/dtypes.py:516: FutureWarning: Passing (type, 1) or '1type' as a synonym of type is deprecated; in a future version of numpy, it will be understood as (type, (1,)) / '(1,)type'.\n",
      "  _np_qint8 = np.dtype([(\"qint8\", np.int8, 1)])\n",
      "/Users/fahimehb/anaconda3/envs/py374/lib/python3.7/site-packages/tensorflow/python/framework/dtypes.py:517: FutureWarning: Passing (type, 1) or '1type' as a synonym of type is deprecated; in a future version of numpy, it will be understood as (type, (1,)) / '(1,)type'.\n",
      "  _np_quint8 = np.dtype([(\"quint8\", np.uint8, 1)])\n",
      "/Users/fahimehb/anaconda3/envs/py374/lib/python3.7/site-packages/tensorflow/python/framework/dtypes.py:518: FutureWarning: Passing (type, 1) or '1type' as a synonym of type is deprecated; in a future version of numpy, it will be understood as (type, (1,)) / '(1,)type'.\n",
      "  _np_qint16 = np.dtype([(\"qint16\", np.int16, 1)])\n",
      "/Users/fahimehb/anaconda3/envs/py374/lib/python3.7/site-packages/tensorflow/python/framework/dtypes.py:519: FutureWarning: Passing (type, 1) or '1type' as a synonym of type is deprecated; in a future version of numpy, it will be understood as (type, (1,)) / '(1,)type'.\n",
      "  _np_quint16 = np.dtype([(\"quint16\", np.uint16, 1)])\n",
      "/Users/fahimehb/anaconda3/envs/py374/lib/python3.7/site-packages/tensorflow/python/framework/dtypes.py:520: FutureWarning: Passing (type, 1) or '1type' as a synonym of type is deprecated; in a future version of numpy, it will be understood as (type, (1,)) / '(1,)type'.\n",
      "  _np_qint32 = np.dtype([(\"qint32\", np.int32, 1)])\n",
      "/Users/fahimehb/anaconda3/envs/py374/lib/python3.7/site-packages/tensorflow/python/framework/dtypes.py:525: FutureWarning: Passing (type, 1) or '1type' as a synonym of type is deprecated; in a future version of numpy, it will be understood as (type, (1,)) / '(1,)type'.\n",
      "  np_resource = np.dtype([(\"resource\", np.ubyte, 1)])\n",
      "/Users/fahimehb/anaconda3/envs/py374/lib/python3.7/site-packages/tensorboard/compat/tensorflow_stub/dtypes.py:541: FutureWarning: Passing (type, 1) or '1type' as a synonym of type is deprecated; in a future version of numpy, it will be understood as (type, (1,)) / '(1,)type'.\n",
      "  _np_qint8 = np.dtype([(\"qint8\", np.int8, 1)])\n",
      "/Users/fahimehb/anaconda3/envs/py374/lib/python3.7/site-packages/tensorboard/compat/tensorflow_stub/dtypes.py:542: FutureWarning: Passing (type, 1) or '1type' as a synonym of type is deprecated; in a future version of numpy, it will be understood as (type, (1,)) / '(1,)type'.\n",
      "  _np_quint8 = np.dtype([(\"quint8\", np.uint8, 1)])\n",
      "/Users/fahimehb/anaconda3/envs/py374/lib/python3.7/site-packages/tensorboard/compat/tensorflow_stub/dtypes.py:543: FutureWarning: Passing (type, 1) or '1type' as a synonym of type is deprecated; in a future version of numpy, it will be understood as (type, (1,)) / '(1,)type'.\n",
      "  _np_qint16 = np.dtype([(\"qint16\", np.int16, 1)])\n",
      "/Users/fahimehb/anaconda3/envs/py374/lib/python3.7/site-packages/tensorboard/compat/tensorflow_stub/dtypes.py:544: FutureWarning: Passing (type, 1) or '1type' as a synonym of type is deprecated; in a future version of numpy, it will be understood as (type, (1,)) / '(1,)type'.\n",
      "  _np_quint16 = np.dtype([(\"quint16\", np.uint16, 1)])\n",
      "/Users/fahimehb/anaconda3/envs/py374/lib/python3.7/site-packages/tensorboard/compat/tensorflow_stub/dtypes.py:545: FutureWarning: Passing (type, 1) or '1type' as a synonym of type is deprecated; in a future version of numpy, it will be understood as (type, (1,)) / '(1,)type'.\n",
      "  _np_qint32 = np.dtype([(\"qint32\", np.int32, 1)])\n",
      "/Users/fahimehb/anaconda3/envs/py374/lib/python3.7/site-packages/tensorboard/compat/tensorflow_stub/dtypes.py:550: FutureWarning: Passing (type, 1) or '1type' as a synonym of type is deprecated; in a future version of numpy, it will be understood as (type, (1,)) / '(1,)type'.\n",
      "  np_resource = np.dtype([(\"resource\", np.ubyte, 1)])\n"
     ]
    },
    {
     "data": {
      "text/plain": [
       "<module 'cell.plot_utils' from '/Users/fahimehb/Documents/git-workspace/celltypes/cell/plot_utils.py'>"
      ]
     },
     "execution_count": 98,
     "metadata": {},
     "output_type": "execute_result"
    }
   ],
   "source": [
    "import imp\n",
    "from cell import  utils, plot_utils, analysis, graph_utils\n",
    "\n",
    "imp.reload(utils)\n",
    "imp.reload(plot_utils)"
   ]
  },
  {
   "cell_type": "markdown",
   "metadata": {},
   "source": [
    "### run properties"
   ]
  },
  {
   "cell_type": "code",
   "execution_count": 5,
   "metadata": {},
   "outputs": [],
   "source": [
    "#walk properties\n",
    "N = 1\n",
    "p = 1\n",
    "q = 1\n",
    "length = 10000\n",
    "\n",
    "#walk filename\n",
    "walk_filename = \"walk_node_21_32_removed.csv\"\n",
    "\n",
    "#Directories\n",
    "roi = \"VISp\"\n",
    "layer_class = \"single_layer\"\n",
    "project_name = \"NPP_GNN_project\"\n",
    "layer = \"base_unnormalized_allcombined\"\n",
    "walk_type = \"Directed_Weighted_node2vec\"\n",
    "\n",
    "#run hyperparams\n",
    "window = 2\n",
    "n_epochs = 100\n",
    "num_workers = 4\n",
    "batch_size = 2000\n",
    "embedding_size = 10\n",
    "learning_rate = 0.001\n",
    "opt_add = \"node_21_32_removed\""
   ]
  },
  {
   "cell_type": "markdown",
   "metadata": {},
   "source": [
    "### Get model and loss file path"
   ]
  },
  {
   "cell_type": "code",
   "execution_count": 52,
   "metadata": {},
   "outputs": [],
   "source": [
    "def read_loss(embedding_size, project_name, roi, N, p, q, layer, layer_class, walk_type, \n",
    "              n_epochs, window, learning_rate, batch_size, opt_add):\n",
    "    \n",
    "    model_dir = utils.get_model_dir(project_name=project_name, \n",
    "                                    roi=roi, \n",
    "                                    length=length,\n",
    "                                    N=N,\n",
    "                                    p=p, \n",
    "                                    q=q, \n",
    "                                    layer=layer, \n",
    "                                    layer_class=layer_class, \n",
    "                                    walk_type=walk_type)\n",
    "\n",
    "    model_name = utils.get_model_name(size=embedding_size, \n",
    "                                      iter=n_epochs, \n",
    "                                      window=window, \n",
    "                                      lr=learning_rate, \n",
    "                                      batch_size=batch_size, \n",
    "                                      opt_add=opt_add)\n",
    "\n",
    "    loss_name = utils.get_loss_filename(size=embedding_size,\n",
    "                                        iter=n_epochs, \n",
    "                                        window=window, \n",
    "                                        lr=learning_rate, \n",
    "                                        batch_size=batch_size,\n",
    "                                        opt_add=opt_add)\n",
    "\n",
    "    model_path = os.path.join(model_dir, model_name)\n",
    "    loss_path = os.path.join(model_dir, loss_name)\n",
    "    loss = utils.read_list_from_csv(loss_path)\n",
    "    loss = [float(i) for i in loss]\n",
    "    print(model_path)\n",
    "    \n",
    "    return loss"
   ]
  },
  {
   "cell_type": "code",
   "execution_count": 45,
   "metadata": {},
   "outputs": [],
   "source": [
    "loss = {}\n",
    "for emb_size in [2,5,10]:\n",
    "    embedding_size = emb_size\n",
    "    loss[emb_size] = read_loss(embedding_size, project_name, roi, N, p, q, layer, layer_class, \n",
    "                               walk_type, n_epochs, window, learning_rate, batch_size, opt_add)\n",
    "    "
   ]
  },
  {
   "cell_type": "markdown",
   "metadata": {},
   "source": [
    "### Plot loss for different embedding sizes"
   ]
  },
  {
   "cell_type": "code",
   "execution_count": 46,
   "metadata": {},
   "outputs": [
    {
     "data": {
      "text/plain": [
       "<matplotlib.legend.Legend at 0x1a3677fe90>"
      ]
     },
     "execution_count": 46,
     "metadata": {},
     "output_type": "execute_result"
    },
    {
     "data": {
      "image/png": "[encoded data removed]",
      "text/plain": [
       "<Figure size 432x288 with 1 Axes>"
      ]
     },
     "metadata": {
      "needs_background": "light"
     },
     "output_type": "display_data"
    }
   ],
   "source": [
    "plt.plot(loss[2], label=\"2\")\n",
    "plt.plot(loss[5], label=\"5\")\n",
    "plt.plot(loss[10], label=\"10\")\n",
    "plt.legend(loc=\"upper right\")"
   ]
  },
  {
   "cell_type": "markdown",
   "metadata": {},
   "source": [
    "#### Loss is decreasing by increasing the embedding dimension"
   ]
  },
  {
   "cell_type": "code",
   "execution_count": 61,
   "metadata": {},
   "outputs": [
    {
     "name": "stdout",
     "output_type": "stream",
     "text": [
      "//Users/fahimehb/Documents/NPP_GNN_project/models/VISp/single_layer/Directed_Weighted_node2vec/N_1_l_10000_p_1_q_1/base_unnormalized_allcombined/model_size_10_iter_100_window_2_lr_0.001_bs_2000_node_21_32_removed.csv\n",
      "//Users/fahimehb/Documents/NPP_GNN_project/models/VISp/single_layer/Directed_Weighted_node2vec/N_1_l_10000_p_1_q_1/base_unnormalized_allcombined/model_size_10_iter_100_window_2_lr_0.001_bs_2000.csv\n"
     ]
    }
   ],
   "source": [
    "loss = {}\n",
    "embedding_size = 10\n",
    "opt_add = \"node_21_32_removed\"\n",
    "\n",
    "loss[1] = read_loss(embedding_size, project_name, roi, N, p, q, layer, layer_class, walk_type,\n",
    "                    n_epochs, window, learning_rate, batch_size, opt_add)\n",
    "\n",
    "opt_add = None\n",
    "loss[2] = read_loss(embedding_size, project_name, roi, N, p, q, layer, layer_class, walk_type,\n",
    "                    n_epochs, window, learning_rate, batch_size, opt_add)"
   ]
  },
  {
   "cell_type": "markdown",
   "metadata": {},
   "source": [
    "### Plot loss for runs with different number of nodes"
   ]
  },
  {
   "cell_type": "code",
   "execution_count": 62,
   "metadata": {},
   "outputs": [
    {
     "data": {
      "text/plain": [
       "<matplotlib.legend.Legend at 0x1a392509d0>"
      ]
     },
     "execution_count": 62,
     "metadata": {},
     "output_type": "execute_result"
    },
    {
     "data": {
      "image/png": "[encoded data removed]",
      "text/plain": [
       "<Figure size 432x288 with 1 Axes>"
      ]
     },
     "metadata": {
      "needs_background": "light"
     },
     "output_type": "display_data"
    }
   ],
   "source": [
    "plt.plot(loss[1], label=\"91 nodes\")\n",
    "plt.plot(loss[2], label=\"93 nodes\")\n",
    "plt.ylim(0,10)\n",
    "plt.legend(loc=\"upper right\")"
   ]
  },
  {
   "cell_type": "markdown",
   "metadata": {},
   "source": [
    "#### Loss decrease by increasing the number of nodes in a run"
   ]
  },
  {
   "cell_type": "markdown",
   "metadata": {},
   "source": [
    "### Lets look at their edgelists"
   ]
  },
  {
   "cell_type": "code",
   "execution_count": 63,
   "metadata": {},
   "outputs": [
    {
     "data": {
      "text/plain": [
       "'//Users/fahimehb/Documents/NPP_GNN_project/dat/edgelists/VISp/base_unnormalized_allcombined'"
      ]
     },
     "execution_count": 63,
     "metadata": {},
     "output_type": "execute_result"
    }
   ],
   "source": [
    "utils.get_edgelist_dir(roi, project_name, layer)"
   ]
  },
  {
   "cell_type": "code",
   "execution_count": 80,
   "metadata": {},
   "outputs": [],
   "source": [
    "edgelist_filename = \"selfconnection_added_edges.csv\"\n",
    "edgelist_dir = utils.get_edgelist_dir(roi, project_name, layer)\n",
    "edgelist_path = os.path.join(edgelist_dir, edgelist_filename)"
   ]
  },
  {
   "cell_type": "code",
   "execution_count": 81,
   "metadata": {},
   "outputs": [],
   "source": [
    "edgelist = pd.read_csv(edgelist_path, index_col=\"Unnamed: 0\")"
   ]
  },
  {
   "cell_type": "code",
   "execution_count": 106,
   "metadata": {},
   "outputs": [
    {
     "data": {
      "text/html": [
       "<div>\n",
       "<style scoped>\n",
       "    .dataframe tbody tr th:only-of-type {\n",
       "        vertical-align: middle;\n",
       "    }\n",
       "\n",
       "    .dataframe tbody tr th {\n",
       "        vertical-align: top;\n",
       "    }\n",
       "\n",
       "    .dataframe thead th {\n",
       "        text-align: right;\n",
       "    }\n",
       "</style>\n",
       "<table border=\"1\" class=\"dataframe\">\n",
       "  <thead>\n",
       "    <tr style=\"text-align: right;\">\n",
       "      <th></th>\n",
       "      <th>source</th>\n",
       "      <th>target</th>\n",
       "      <th>weight</th>\n",
       "    </tr>\n",
       "  </thead>\n",
       "  <tbody>\n",
       "    <tr>\n",
       "      <th>0</th>\n",
       "      <td>0</td>\n",
       "      <td>2</td>\n",
       "      <td>0.959233</td>\n",
       "    </tr>\n",
       "    <tr>\n",
       "      <th>1</th>\n",
       "      <td>0</td>\n",
       "      <td>9</td>\n",
       "      <td>1.165541</td>\n",
       "    </tr>\n",
       "    <tr>\n",
       "      <th>2</th>\n",
       "      <td>0</td>\n",
       "      <td>11</td>\n",
       "      <td>0.896152</td>\n",
       "    </tr>\n",
       "    <tr>\n",
       "      <th>3</th>\n",
       "      <td>0</td>\n",
       "      <td>13</td>\n",
       "      <td>0.577894</td>\n",
       "    </tr>\n",
       "    <tr>\n",
       "      <th>4</th>\n",
       "      <td>0</td>\n",
       "      <td>36</td>\n",
       "      <td>0.278507</td>\n",
       "    </tr>\n",
       "    <tr>\n",
       "      <th>...</th>\n",
       "      <td>...</td>\n",
       "      <td>...</td>\n",
       "      <td>...</td>\n",
       "    </tr>\n",
       "    <tr>\n",
       "      <th>8510</th>\n",
       "      <td>15</td>\n",
       "      <td>32</td>\n",
       "      <td>0.038961</td>\n",
       "    </tr>\n",
       "    <tr>\n",
       "      <th>8511</th>\n",
       "      <td>86</td>\n",
       "      <td>32</td>\n",
       "      <td>0.281690</td>\n",
       "    </tr>\n",
       "    <tr>\n",
       "      <th>8512</th>\n",
       "      <td>15</td>\n",
       "      <td>21</td>\n",
       "      <td>0.045455</td>\n",
       "    </tr>\n",
       "    <tr>\n",
       "      <th>8513</th>\n",
       "      <td>21</td>\n",
       "      <td>21</td>\n",
       "      <td>0.000006</td>\n",
       "    </tr>\n",
       "    <tr>\n",
       "      <th>8514</th>\n",
       "      <td>32</td>\n",
       "      <td>32</td>\n",
       "      <td>0.000004</td>\n",
       "    </tr>\n",
       "  </tbody>\n",
       "</table>\n",
       "<p>8515 rows × 3 columns</p>\n",
       "</div>"
      ],
      "text/plain": [
       "      source  target    weight\n",
       "0          0       2  0.959233\n",
       "1          0       9  1.165541\n",
       "2          0      11  0.896152\n",
       "3          0      13  0.577894\n",
       "4          0      36  0.278507\n",
       "...      ...     ...       ...\n",
       "8510      15      32  0.038961\n",
       "8511      86      32  0.281690\n",
       "8512      15      21  0.045455\n",
       "8513      21      21  0.000006\n",
       "8514      32      32  0.000004\n",
       "\n",
       "[8515 rows x 3 columns]"
      ]
     },
     "execution_count": 106,
     "metadata": {},
     "output_type": "execute_result"
    }
   ],
   "source": [
    "edgelist"
   ]
  },
  {
   "cell_type": "markdown",
   "metadata": {},
   "source": [
    "### let me remove one of the nodes with many outgoing "
   ]
  },
  {
   "cell_type": "code",
   "execution_count": 102,
   "metadata": {},
   "outputs": [],
   "source": [
    "new_edgelist = graph_utils.remove_nodes_from_edglist(edgelist, [\"40\"])"
   ]
  },
  {
   "cell_type": "code",
   "execution_count": 105,
   "metadata": {},
   "outputs": [],
   "source": [
    "new_edgelist_filename = \"selfconnection_added_edges_node40_removed.csv\"\n",
    "new_edgelist_path = os.path.join(edgelist_dir, new_edgelist_filename)\n",
    "new_edgelist.to_csv(new_edgelist_path)"
   ]
  },
  {
   "cell_type": "code",
   "execution_count": 107,
   "metadata": {},
   "outputs": [],
   "source": [
    "edgelist.to_csv(os.path.join(edgelist_dir, \"selfconnection_added_edges.csv\"))"
   ]
  },
  {
   "cell_type": "code",
   "execution_count": 108,
   "metadata": {},
   "outputs": [
    {
     "data": {
      "text/html": [
       "<div>\n",
       "<style scoped>\n",
       "    .dataframe tbody tr th:only-of-type {\n",
       "        vertical-align: middle;\n",
       "    }\n",
       "\n",
       "    .dataframe tbody tr th {\n",
       "        vertical-align: top;\n",
       "    }\n",
       "\n",
       "    .dataframe thead th {\n",
       "        text-align: right;\n",
       "    }\n",
       "</style>\n",
       "<table border=\"1\" class=\"dataframe\">\n",
       "  <thead>\n",
       "    <tr style=\"text-align: right;\">\n",
       "      <th></th>\n",
       "      <th>source</th>\n",
       "      <th>target</th>\n",
       "      <th>weight</th>\n",
       "    </tr>\n",
       "  </thead>\n",
       "  <tbody>\n",
       "    <tr>\n",
       "      <th>0</th>\n",
       "      <td>0</td>\n",
       "      <td>2</td>\n",
       "      <td>0.959233</td>\n",
       "    </tr>\n",
       "    <tr>\n",
       "      <th>1</th>\n",
       "      <td>0</td>\n",
       "      <td>9</td>\n",
       "      <td>1.165541</td>\n",
       "    </tr>\n",
       "    <tr>\n",
       "      <th>2</th>\n",
       "      <td>0</td>\n",
       "      <td>11</td>\n",
       "      <td>0.896152</td>\n",
       "    </tr>\n",
       "    <tr>\n",
       "      <th>3</th>\n",
       "      <td>0</td>\n",
       "      <td>13</td>\n",
       "      <td>0.577894</td>\n",
       "    </tr>\n",
       "    <tr>\n",
       "      <th>4</th>\n",
       "      <td>0</td>\n",
       "      <td>36</td>\n",
       "      <td>0.278507</td>\n",
       "    </tr>\n",
       "    <tr>\n",
       "      <th>...</th>\n",
       "      <td>...</td>\n",
       "      <td>...</td>\n",
       "      <td>...</td>\n",
       "    </tr>\n",
       "    <tr>\n",
       "      <th>8510</th>\n",
       "      <td>15</td>\n",
       "      <td>32</td>\n",
       "      <td>0.038961</td>\n",
       "    </tr>\n",
       "    <tr>\n",
       "      <th>8511</th>\n",
       "      <td>86</td>\n",
       "      <td>32</td>\n",
       "      <td>0.281690</td>\n",
       "    </tr>\n",
       "    <tr>\n",
       "      <th>8512</th>\n",
       "      <td>15</td>\n",
       "      <td>21</td>\n",
       "      <td>0.045455</td>\n",
       "    </tr>\n",
       "    <tr>\n",
       "      <th>8513</th>\n",
       "      <td>21</td>\n",
       "      <td>21</td>\n",
       "      <td>0.000006</td>\n",
       "    </tr>\n",
       "    <tr>\n",
       "      <th>8514</th>\n",
       "      <td>32</td>\n",
       "      <td>32</td>\n",
       "      <td>0.000004</td>\n",
       "    </tr>\n",
       "  </tbody>\n",
       "</table>\n",
       "<p>8515 rows × 3 columns</p>\n",
       "</div>"
      ],
      "text/plain": [
       "      source  target    weight\n",
       "0          0       2  0.959233\n",
       "1          0       9  1.165541\n",
       "2          0      11  0.896152\n",
       "3          0      13  0.577894\n",
       "4          0      36  0.278507\n",
       "...      ...     ...       ...\n",
       "8510      15      32  0.038961\n",
       "8511      86      32  0.281690\n",
       "8512      15      21  0.045455\n",
       "8513      21      21  0.000006\n",
       "8514      32      32  0.000004\n",
       "\n",
       "[8515 rows x 3 columns]"
      ]
     },
     "execution_count": 108,
     "metadata": {},
     "output_type": "execute_result"
    }
   ],
   "source": [
    "edgelist"
   ]
  },
  {
   "cell_type": "code",
   "execution_count": 109,
   "metadata": {},
   "outputs": [
    {
     "name": "stdout",
     "output_type": "stream",
     "text": [
      "//Users/fahimehb/Documents/NPP_GNN_project/models/VISp/single_layer/Directed_Weighted_node2vec/N_1_l_10000_p_1_q_1/base_unnormalized_allcombined/model_size_2_iter_100_window_2_lr_0.001_bs_2000_node40_removed.csv\n",
      "//Users/fahimehb/Documents/NPP_GNN_project/models/VISp/single_layer/Directed_Weighted_node2vec/N_1_l_10000_p_1_q_1/base_unnormalized_allcombined/model_size_2_iter_100_window_2_lr_0.001_bs_2000.csv\n"
     ]
    }
   ],
   "source": [
    "loss = {}\n",
    "embedding_size = 2\n",
    "opt_add = \"node40_removed\"\n",
    "\n",
    "loss[1] = read_loss(embedding_size, project_name, roi, N, p, q, layer, layer_class, walk_type,\n",
    "                    n_epochs, window, learning_rate, batch_size, opt_add)\n",
    "\n",
    "opt_add = None\n",
    "loss[2] = read_loss(embedding_size, project_name, roi, N, p, q, layer, layer_class, walk_type,\n",
    "                    n_epochs, window, learning_rate, batch_size, opt_add)"
   ]
  },
  {
   "cell_type": "code",
   "execution_count": 115,
   "metadata": {},
   "outputs": [
    {
     "data": {
      "text/plain": [
       "<matplotlib.legend.Legend at 0x1a500b4cd0>"
      ]
     },
     "execution_count": 115,
     "metadata": {},
     "output_type": "execute_result"
    },
    {
     "data": {
      "image/png": "[encoded data removed]",
      "text/plain": [
       "<Figure size 432x288 with 1 Axes>"
      ]
     },
     "metadata": {
      "needs_background": "light"
     },
     "output_type": "display_data"
    }
   ],
   "source": [
    "plt.plot(loss[1], label=\"92 nodes\")\n",
    "plt.plot(loss[2], label=\"93 nodes\")\n",
    "plt.ylim(0,5)\n",
    "plt.legend(loc=\"upper right\")"
   ]
  },
  {
   "cell_type": "code",
   "execution_count": null,
   "metadata": {},
   "outputs": [],
   "source": []
  }
 ],
 "metadata": {
  "kernelspec": {
   "display_name": "py374",
   "language": "python",
   "name": "py374"
  },
  "language_info": {
   "codemirror_mode": {
    "name": "ipython",
    "version": 3
   },
   "file_extension": ".py",
   "mimetype": "text/x-python",
   "name": "python",
   "nbconvert_exporter": "python",
   "pygments_lexer": "ipython3",
   "version": "3.7.4"
  }
 },
 "nbformat": 4,
 "nbformat_minor": 4
}
