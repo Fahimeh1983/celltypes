{
 "cells": [
  {
   "cell_type": "markdown",
   "metadata": {},
   "source": [
    "### Implementing coupled word2vec idea"
   ]
  },
  {
   "cell_type": "markdown",
   "metadata": {},
   "source": [
    "For this implementation which is specific for the directed graph, we take one node before and one node after a specific node. For example lets assume we have a walk from i to j to k. In our case, this means that i has emmited and j has received a signal. Then j has emitted and k has received a signal. We will try to reconstruct two embeddings, one for emitters and one for receivers and we call them E and R correspondingly. In this implementation, we will give j as input and will try to predict i on one arm of the machine and k on another arm. Then in the loss function we will try to minimize the distance between the emmitor representation of i and receiver representation of j as well as the distance between emmitor representation of j and receivor representation of k."
   ]
  },
  {
   "cell_type": "code",
   "execution_count": 2,
   "metadata": {},
   "outputs": [],
   "source": [
    "import torch\n",
    "import os\n",
    "import time\n",
    "import torch.nn as nn\n",
    "from cell import graph_utils, utils\n",
    "from cell.Word2vec import prepare_vocab, dataloader, wv\n",
    "from stellargraph import StellarGraph\n",
    "from torch.nn import functional as F\n",
    "from stellargraph.data import BiasedRandomWalk\n",
    "\n",
    "os.environ['KMP_DUPLICATE_LIB_OK']='True'\n",
    "device = torch.device('cuda' if torch.cuda.is_available() else 'cpu')"
   ]
  },
  {
   "cell_type": "code",
   "execution_count": 3,
   "metadata": {},
   "outputs": [
    {
     "data": {
      "text/plain": [
       "<module 'cell.Word2vec.prepare_vocab' from '/Users/fahimehb/Documents/git-workspace/celltypes/cell/Word2vec/prepare_vocab.py'>"
      ]
     },
     "execution_count": 3,
     "metadata": {},
     "output_type": "execute_result"
    }
   ],
   "source": [
    "import imp\n",
    "from cell import  utils, analysis, plot_utils\n",
    "from cell.Word2vec import prepare_vocab, dataloader, wv\n",
    "\n",
    "\n",
    "imp.reload(utils)\n",
    "imp.reload(prepare_vocab)"
   ]
  },
  {
   "cell_type": "markdown",
   "metadata": {},
   "source": [
    "### Load one walk on the test_all_combined communication network"
   ]
  },
  {
   "cell_type": "code",
   "execution_count": 4,
   "metadata": {},
   "outputs": [],
   "source": [
    "length = 10000\n",
    "p = 1\n",
    "q = 1\n",
    "N = 1\n",
    "batch_size = 2000\n",
    "walk_filename = \"walk_node21_32_removed.csv\"\n",
    "roi = \"VISp\"\n",
    "project_name = \"NPP_GNN_project\"\n",
    "layer_class = \"single_layer\"\n",
    "layer = \"base_unnormalized_allcombined\"\n",
    "walk_type= \"Directed_Weighted_node2vec\"\n",
    "\n",
    "walk_dir = utils.get_walk_dir(roi,\n",
    "                              project_name, \n",
    "                              N, \n",
    "                              length, \n",
    "                              p, \n",
    "                              q, \n",
    "                              layer_class, \n",
    "                              layer, \n",
    "                              walk_type) \n"
   ]
  },
  {
   "cell_type": "markdown",
   "metadata": {},
   "source": [
    "#### Prepare vocab"
   ]
  },
  {
   "cell_type": "code",
   "execution_count": 5,
   "metadata": {},
   "outputs": [
    {
     "name": "stdout",
     "output_type": "stream",
     "text": [
      "lenght of vocabulary: 91\n"
     ]
    }
   ],
   "source": [
    "corpus = utils.read_list_of_lists_from_csv(os.path.join(walk_dir, walk_filename))\n",
    "vocabulary = prepare_vocab.get_vocabulary(corpus)\n",
    "\n",
    "print(f'lenght of vocabulary: {len(vocabulary)}')\n",
    "\n",
    "word_2_index = prepare_vocab.get_word2idx(vocabulary, padding=False)\n",
    "index_2_word = prepare_vocab.get_idx2word(vocabulary, padding=False)"
   ]
  },
  {
   "cell_type": "code",
   "execution_count": 6,
   "metadata": {},
   "outputs": [
    {
     "data": {
      "text/plain": [
       "['0', '71', '34', '10', '5', '35', '17', '59', '27', '14']"
      ]
     },
     "execution_count": 6,
     "metadata": {},
     "output_type": "execute_result"
    }
   ],
   "source": [
    "corpus[0][0:10]"
   ]
  },
  {
   "cell_type": "code",
   "execution_count": 7,
   "metadata": {},
   "outputs": [
    {
     "data": {
      "text/plain": [
       "10000"
      ]
     },
     "execution_count": 7,
     "metadata": {},
     "output_type": "execute_result"
    }
   ],
   "source": [
    "len(corpus[0])"
   ]
  },
  {
   "cell_type": "markdown",
   "metadata": {},
   "source": [
    "#### Create the context-target tuples"
   ]
  },
  {
   "cell_type": "code",
   "execution_count": 8,
   "metadata": {},
   "outputs": [
    {
     "name": "stdout",
     "output_type": "stream",
     "text": [
      "There are 909818 pairs of receiver target and context words\n",
      "There are 909909 pairs of emitter target and context words\n"
     ]
    }
   ],
   "source": [
    "receiver_tuples, emitter_tuples = prepare_vocab.emitter_receiver_get_word_context_tuples(corpus)"
   ]
  },
  {
   "cell_type": "code",
   "execution_count": 9,
   "metadata": {},
   "outputs": [
    {
     "name": "stdout",
     "output_type": "stream",
     "text": [
      "[('71', '0'), ('34', '71'), ('10', '34'), ('5', '10'), ('35', '5'), ('17', '35'), ('59', '17'), ('27', '59'), ('14', '27'), ('56', '14')]\n",
      "[('71', '34'), ('34', '10'), ('10', '5'), ('5', '35'), ('35', '17'), ('17', '59'), ('59', '27'), ('27', '14'), ('14', '56'), ('56', '79')]\n"
     ]
    }
   ],
   "source": [
    "print(emitter_tuples[0:10])\n",
    "print(receiver_tuples[0:10])"
   ]
  },
  {
   "cell_type": "markdown",
   "metadata": {},
   "source": [
    "### Create dataloader"
   ]
  },
  {
   "cell_type": "code",
   "execution_count": 10,
   "metadata": {},
   "outputs": [],
   "source": [
    "datasets = {}\n",
    "\n",
    "datasets['E'] = []\n",
    "emitter_dataset = dataloader.EmitterReceiverDataset(emitter_tuples, word_2_index)\n",
    "emitter_v_size = prepare_vocab.get_vocab_size_from_list_of_tuples(emitter_tuples)\n",
    "datasets['E'].append(emitter_dataset)\n",
    "datasets['E'].append(emitter_v_size)\n",
    "\n",
    "datasets['R'] = []\n",
    "receiver_dataset = dataloader.EmitterReceiverDataset(receiver_tuples, word_2_index)\n",
    "receiver_v_size = prepare_vocab.get_vocab_size_from_list_of_tuples(receiver_tuples)\n",
    "datasets['R'].append(receiver_dataset)\n",
    "datasets['R'].append(receiver_v_size)"
   ]
  },
  {
   "cell_type": "code",
   "execution_count": 11,
   "metadata": {},
   "outputs": [
    {
     "data": {
      "text/plain": [
       "{'E': [<cell.Word2vec.dataloader.EmitterReceiverDataset at 0x7fa4dff9a9d0>,\n",
       "  91],\n",
       " 'R': [<cell.Word2vec.dataloader.EmitterReceiverDataset at 0x7fa4dff9a690>,\n",
       "  91]}"
      ]
     },
     "execution_count": 11,
     "metadata": {},
     "output_type": "execute_result"
    }
   ],
   "source": [
    "datasets"
   ]
  },
  {
   "cell_type": "code",
   "execution_count": 12,
   "metadata": {},
   "outputs": [
    {
     "name": "stdout",
     "output_type": "stream",
     "text": [
      "tensor([64, 51, 70, 54, 90,  8, 24, 58,  0, 56]) tensor([53, 64, 51, 70, 54, 90,  8, 24, 58,  0])\n"
     ]
    }
   ],
   "source": [
    "print(datasets['E'][0].context[0:10], datasets['E'][0].target[0:10])"
   ]
  },
  {
   "cell_type": "code",
   "execution_count": 13,
   "metadata": {},
   "outputs": [
    {
     "name": "stdout",
     "output_type": "stream",
     "text": [
      "tensor([64, 51, 70, 54, 90,  8, 24, 58,  0, 56]) tensor([51, 70, 54, 90,  8, 24, 58,  0, 56, 45])\n"
     ]
    }
   ],
   "source": [
    "print(datasets['R'][0].context[0:10], datasets['R'][0].target[0:10])"
   ]
  },
  {
   "cell_type": "code",
   "execution_count": 14,
   "metadata": {},
   "outputs": [
    {
     "data": {
      "text/plain": [
       "[53, 64, 51, 70, 54, 90, 8, 24, 58, 0]"
      ]
     },
     "execution_count": 14,
     "metadata": {},
     "output_type": "execute_result"
    }
   ],
   "source": [
    "[word_2_index[k] for k in [j for (i, j) in emitter_tuples[0:10]]]"
   ]
  },
  {
   "cell_type": "code",
   "execution_count": 15,
   "metadata": {},
   "outputs": [
    {
     "data": {
      "text/plain": [
       "[51, 70, 54, 90, 8, 24, 58, 0, 56, 45]"
      ]
     },
     "execution_count": 15,
     "metadata": {},
     "output_type": "execute_result"
    }
   ],
   "source": [
    "[word_2_index[k] for k in [j for (i, j) in receiver_tuples[0:10]]]"
   ]
  },
  {
   "cell_type": "code",
   "execution_count": 16,
   "metadata": {},
   "outputs": [],
   "source": [
    "class ConcatDataset(torch.utils.data.Dataset):\n",
    "    def __init__(self, *datasets):\n",
    "        self.datasets = datasets\n",
    "\n",
    "    def __getitem__(self, i):\n",
    "        return tuple(d[i] for d in self.datasets)\n",
    "\n",
    "    def __len__(self):\n",
    "        return min(len(d) for d in self.datasets)"
   ]
  },
  {
   "cell_type": "code",
   "execution_count": 17,
   "metadata": {},
   "outputs": [],
   "source": [
    "def build_data_loader(datasets, batch_size, shuffle=True, drop_last=True, num_workers=1):\n",
    "    data_loader = torch.utils.data.DataLoader(\n",
    "        ConcatDataset(*[datasets[k][0] for k in datasets.keys()]),\n",
    "        batch_size=batch_size, \n",
    "        shuffle=shuffle,\n",
    "        drop_last=drop_last,\n",
    "        num_workers=num_workers)\n",
    "    return {k:i for i,k in enumerate(datasets.keys())}, data_loader"
   ]
  },
  {
   "cell_type": "code",
   "execution_count": 18,
   "metadata": {},
   "outputs": [],
   "source": [
    "arm_keys, data_loader = build_data_loader(datasets, batch_size=2000, shuffle=False)"
   ]
  },
  {
   "cell_type": "code",
   "execution_count": 19,
   "metadata": {},
   "outputs": [
    {
     "name": "stdout",
     "output_type": "stream",
     "text": [
      "[tensor([64, 51, 70,  ..., 49, 75, 29]), tensor([53, 64, 51,  ..., 10, 49, 75])] [tensor([64, 51, 70,  ..., 49, 75, 29]), tensor([51, 70, 54,  ..., 75, 29, 37])]\n"
     ]
    }
   ],
   "source": [
    "for batch_idx, (data1, data2) in enumerate(data_loader):\n",
    "    print(data1, data2)\n",
    "    break"
   ]
  },
  {
   "cell_type": "code",
   "execution_count": 20,
   "metadata": {},
   "outputs": [
    {
     "data": {
      "text/plain": [
       "{'E': 0, 'R': 1}"
      ]
     },
     "execution_count": 20,
     "metadata": {},
     "output_type": "execute_result"
    }
   ],
   "source": [
    "arm_keys"
   ]
  },
  {
   "cell_type": "markdown",
   "metadata": {},
   "source": [
    "### Model"
   ]
  },
  {
   "cell_type": "code",
   "execution_count": 21,
   "metadata": {},
   "outputs": [],
   "source": [
    "class EmitterReceiver_Word2Vec(nn.Module):\n",
    "    \"\"\"\n",
    "    \"\"\"\n",
    "    def __init__(self, vocab_size=[93], embedding_size=2, n_arm=1):\n",
    "        \"\"\"\n",
    "        \"\"\"\n",
    "        super(EmitterReceiver_Word2Vec, self).__init__()\n",
    "        self.vocab_size = vocab_size\n",
    "        self.embedding_size = embedding_size\n",
    "        self.n_arm = n_arm\n",
    "        \n",
    "        self.embeddings = nn.ModuleList([nn.Embedding(vocab_size[i],\n",
    "                                                      embedding_size) \n",
    "                                         for i in range(n_arm)])\n",
    "        \n",
    "        self.linear = nn.ModuleList([nn.Linear(embedding_size,\n",
    "                                               vocab_size[i]) \n",
    "                                     for i in range(n_arm)])\n",
    "        \n",
    "#         self.batch_norm = nn.ModuleList([nn.BatchNorm1d(num_features=embedding_size,\n",
    "#                                                         eps=1e-10, \n",
    "#                                                         momentum=0.1, \n",
    "#                                                         affine=False) \n",
    "#                                          for i in range(n_arm)])\n",
    "                        \n",
    "\n",
    "    def encoder(self, context_word, arm):\n",
    "        h1 = self.embeddings[arm](context_word)\n",
    "        node_embeddings = [self.embeddings[arm](torch.tensor(i)) for i \n",
    "                           in range(self.vocab_size[arm])]\n",
    "        return node_embeddings, h1\n",
    "\n",
    "    def decoder(self, context_word_embedding, arm):\n",
    "        h2 = self.linear[arm](context_word_embedding)\n",
    "        return h2\n",
    "\n",
    "    def forward(self, context_word):\n",
    "        emb = [None] * self.n_arm\n",
    "        predictions = [None] * self.n_arm\n",
    "\n",
    "        for arm in range(self.n_arm):\n",
    "            node_embeddings, context_word_embedding  = self.encoder(context_word[arm], arm)\n",
    "            emb[arm] = node_embeddings\n",
    "            predictions[arm] = self.decoder(context_word_embedding, arm)\n",
    "            \n",
    "        return emb, predictions\n"
   ]
  },
  {
   "cell_type": "markdown",
   "metadata": {},
   "source": [
    "### Loss"
   ]
  },
  {
   "cell_type": "code",
   "execution_count": 22,
   "metadata": {},
   "outputs": [],
   "source": [
    "def loss_emitter_receiver(prediction, target, context, emb, n_arm):\n",
    "    E = emb[0]\n",
    "    R = emb[1]\n",
    "\n",
    "    emitter_target = target[0]\n",
    "    receiver_target = target[1]\n",
    "\n",
    "    emitter_context = torch.reshape(context[0], (2000,))\n",
    "    receiver_context = torch.reshape(context[1], (2000,))\n",
    "\n",
    "    E_i = [E[i] for i in emitter_target]\n",
    "    R_k = [R[i] for i in receiver_target]\n",
    "\n",
    "    E_j = [E[i] for i in emitter_context]\n",
    "    R_j = [R[i] for i in receiver_context]\n",
    "    \n",
    "    loss_indep = [None] * n_arm\n",
    "    \n",
    "    for arm, (k, v) in enumerate(arm_keys.items()):\n",
    "        predict[arm] = torch.reshape(prediction[arm], (2000,91))\n",
    "        loss_indep[arm] = F.cross_entropy(prediction[arm], target[arm])\n",
    "        \n",
    "    emitter_loss = F.mse_loss(torch.stack(E_i), torch.stack(R_j))\n",
    "    receiver_loss = F.mse_loss(torch.stack(E_j), torch.stack(R_k))\n",
    "        \n",
    "    loss = sum(loss_indep) + emitter_loss + receiver_loss\n",
    "\n",
    "    return loss"
   ]
  },
  {
   "cell_type": "code",
   "execution_count": 23,
   "metadata": {},
   "outputs": [],
   "source": [
    "embedding_size = 2\n",
    "learning_rate = 0.001\n",
    "n_epochs = 100\n",
    "n_arm=2"
   ]
  },
  {
   "cell_type": "code",
   "execution_count": 24,
   "metadata": {},
   "outputs": [
    {
     "name": "stdout",
     "output_type": "stream",
     "text": [
      "time is 55.13\n",
      "epoch: 1/100, loss:12.3102\n",
      "time is 55.55\n",
      "epoch: 2/100, loss:10.5684\n",
      "time is 55.64\n",
      "epoch: 3/100, loss:9.7370\n",
      "time is 59.32\n",
      "epoch: 4/100, loss:9.3121\n",
      "time is 58.19\n",
      "epoch: 5/100, loss:9.0933\n",
      "time is 70.69\n",
      "epoch: 6/100, loss:8.9818\n",
      "time is 63.59\n",
      "epoch: 7/100, loss:8.9256\n",
      "time is 65.72\n",
      "epoch: 8/100, loss:8.8965\n",
      "time is 60.32\n",
      "epoch: 9/100, loss:8.8781\n",
      "time is 60.92\n",
      "epoch: 10/100, loss:8.8620\n",
      "time is 59.41\n",
      "epoch: 11/100, loss:8.8466\n",
      "time is 59.25\n",
      "epoch: 12/100, loss:8.8331\n",
      "time is 64.29\n",
      "epoch: 13/100, loss:8.8219\n",
      "time is 81.83\n",
      "epoch: 14/100, loss:8.8128\n",
      "time is 61.01\n",
      "epoch: 15/100, loss:8.8052\n",
      "time is 58.10\n",
      "epoch: 16/100, loss:8.7986\n",
      "time is 56.11\n",
      "epoch: 17/100, loss:8.7928\n",
      "time is 55.33\n",
      "epoch: 18/100, loss:8.7876\n",
      "time is 58.88\n",
      "epoch: 19/100, loss:8.7827\n",
      "time is 55.09\n",
      "epoch: 20/100, loss:8.7780\n",
      "time is 54.97\n",
      "epoch: 21/100, loss:8.7735\n",
      "time is 54.67\n",
      "epoch: 22/100, loss:8.7695\n",
      "time is 55.16\n",
      "epoch: 23/100, loss:8.7659\n",
      "time is 54.91\n",
      "epoch: 24/100, loss:8.7628\n",
      "time is 54.83\n",
      "epoch: 25/100, loss:8.7601\n",
      "time is 54.69\n",
      "epoch: 26/100, loss:8.7578\n",
      "time is 54.68\n",
      "epoch: 27/100, loss:8.7557\n",
      "time is 54.92\n",
      "epoch: 28/100, loss:8.7539\n",
      "time is 54.85\n",
      "epoch: 29/100, loss:8.7523\n",
      "time is 57.14\n",
      "epoch: 30/100, loss:8.7508\n",
      "time is 54.70\n",
      "epoch: 31/100, loss:8.7495\n",
      "time is 54.76\n",
      "epoch: 32/100, loss:8.7484\n",
      "time is 54.55\n",
      "epoch: 33/100, loss:8.7473\n",
      "time is 54.84\n",
      "epoch: 34/100, loss:8.7463\n",
      "time is 54.07\n",
      "epoch: 35/100, loss:8.7454\n",
      "time is 55.96\n",
      "epoch: 36/100, loss:8.7446\n",
      "time is 54.78\n",
      "epoch: 37/100, loss:8.7438\n",
      "time is 54.81\n",
      "epoch: 38/100, loss:8.7431\n",
      "time is 55.02\n",
      "epoch: 39/100, loss:8.7424\n",
      "time is 54.87\n",
      "epoch: 40/100, loss:8.7418\n",
      "time is 54.60\n",
      "epoch: 41/100, loss:8.7412\n",
      "time is 54.54\n",
      "epoch: 42/100, loss:8.7407\n",
      "time is 53.76\n",
      "epoch: 43/100, loss:8.7402\n",
      "time is 54.39\n",
      "epoch: 44/100, loss:8.7397\n",
      "time is 54.72\n",
      "epoch: 45/100, loss:8.7393\n",
      "time is 54.88\n",
      "epoch: 46/100, loss:8.7388\n",
      "time is 54.57\n",
      "epoch: 47/100, loss:8.7384\n",
      "time is 54.70\n",
      "epoch: 48/100, loss:8.7381\n",
      "time is 54.65\n",
      "epoch: 49/100, loss:8.7377\n",
      "time is 54.81\n",
      "epoch: 50/100, loss:8.7374\n",
      "time is 56.23\n",
      "epoch: 51/100, loss:8.7371\n",
      "time is 54.70\n",
      "epoch: 52/100, loss:8.7367\n",
      "time is 53.62\n",
      "epoch: 53/100, loss:8.7365\n",
      "time is 53.96\n",
      "epoch: 54/100, loss:8.7362\n",
      "time is 53.83\n",
      "epoch: 55/100, loss:8.7359\n",
      "time is 53.76\n",
      "epoch: 56/100, loss:8.7357\n",
      "time is 53.75\n",
      "epoch: 57/100, loss:8.7354\n",
      "time is 53.79\n",
      "epoch: 58/100, loss:8.7352\n",
      "time is 53.72\n",
      "epoch: 59/100, loss:8.7350\n",
      "time is 53.86\n",
      "epoch: 60/100, loss:8.7347\n",
      "time is 53.84\n",
      "epoch: 61/100, loss:8.7345\n",
      "time is 53.86\n",
      "epoch: 62/100, loss:8.7343\n",
      "time is 54.39\n",
      "epoch: 63/100, loss:8.7341\n",
      "time is 54.36\n",
      "epoch: 64/100, loss:8.7340\n",
      "time is 54.65\n",
      "epoch: 65/100, loss:8.7338\n",
      "time is 53.90\n",
      "epoch: 66/100, loss:8.7336\n",
      "time is 55.70\n",
      "epoch: 67/100, loss:8.7335\n",
      "time is 54.07\n",
      "epoch: 68/100, loss:8.7333\n",
      "time is 53.58\n",
      "epoch: 69/100, loss:8.7331\n",
      "time is 53.49\n",
      "epoch: 70/100, loss:8.7330\n",
      "time is 53.74\n",
      "epoch: 71/100, loss:8.7328\n",
      "time is 53.88\n",
      "epoch: 72/100, loss:8.7327\n",
      "time is 53.82\n",
      "epoch: 73/100, loss:8.7326\n",
      "time is 54.55\n",
      "epoch: 74/100, loss:8.7324\n",
      "time is 53.85\n",
      "epoch: 75/100, loss:8.7323\n",
      "time is 53.85\n",
      "epoch: 76/100, loss:8.7322\n",
      "time is 53.80\n",
      "epoch: 77/100, loss:8.7321\n",
      "time is 53.76\n",
      "epoch: 78/100, loss:8.7320\n",
      "time is 53.89\n",
      "epoch: 79/100, loss:8.7318\n",
      "time is 53.42\n",
      "epoch: 80/100, loss:8.7317\n",
      "time is 53.77\n",
      "epoch: 81/100, loss:8.7316\n",
      "time is 53.64\n",
      "epoch: 82/100, loss:8.7315\n",
      "time is 54.82\n",
      "epoch: 83/100, loss:8.7314\n",
      "time is 55.27\n",
      "epoch: 84/100, loss:8.7313\n",
      "time is 54.20\n",
      "epoch: 85/100, loss:8.7312\n",
      "time is 53.67\n",
      "epoch: 86/100, loss:8.7311\n",
      "time is 53.96\n",
      "epoch: 87/100, loss:8.7310\n",
      "time is 53.82\n",
      "epoch: 88/100, loss:8.7310\n",
      "time is 53.88\n",
      "epoch: 89/100, loss:8.7309\n",
      "time is 54.08\n",
      "epoch: 90/100, loss:8.7308\n",
      "time is 53.75\n",
      "epoch: 91/100, loss:8.7307\n",
      "time is 53.77\n",
      "epoch: 92/100, loss:8.7306\n",
      "time is 53.74\n",
      "epoch: 93/100, loss:8.7305\n",
      "time is 53.91\n",
      "epoch: 94/100, loss:8.7305\n",
      "time is 53.79\n",
      "epoch: 95/100, loss:8.7304\n",
      "time is 54.52\n",
      "epoch: 96/100, loss:8.7303\n",
      "time is 53.70\n",
      "epoch: 97/100, loss:8.7303\n",
      "time is 53.78\n",
      "epoch: 98/100, loss:8.7302\n",
      "time is 53.70\n",
      "epoch: 99/100, loss:8.7301\n",
      "time is 54.10\n",
      "epoch: 100/100, loss:8.7300\n"
     ]
    }
   ],
   "source": [
    "model = EmitterReceiver_Word2Vec(embedding_size=embedding_size, \n",
    "                        vocab_size=[v[1] for (k, v) in datasets.items()],\n",
    "                        n_arm=n_arm).to(device)\n",
    "\n",
    "optimizer = torch.optim.Adam(model.parameters(), lr=learning_rate)\n",
    "    \n",
    "training_loss = []\n",
    "\n",
    "\n",
    "for epoch in range(n_epochs):\n",
    "    losses = []\n",
    "    t0 = time.time()\n",
    "    for batch_idx, all_data in enumerate(data_loader):\n",
    "        target_data = [data[1].to(device) for data in all_data]\n",
    "        context_data = [data[0].to(device) for data in all_data]\n",
    "        context_data = [torch.reshape(context_data[i], (batch_size, 1)) for i in range(len(context_data))]\n",
    "        optimizer.zero_grad()\n",
    "        emb, predict = model(context_data)\n",
    "        loss = loss_emitter_receiver(predict, target_data, context_data, emb, n_arm)\n",
    "        loss.backward(retain_graph=True)\n",
    "        optimizer.step()\n",
    "        losses.append(loss.item())\n",
    "        \n",
    "    t1 = time.time()\n",
    "    print('time is %.2f' % (t1 - t0))\n",
    "        \n",
    "    training_loss.append(np.mean(losses)) \n",
    "    print(f'epoch: {epoch+1}/{n_epochs}, loss:{np.mean(losses):.4f}')"
   ]
  },
  {
   "cell_type": "code",
   "execution_count": 25,
   "metadata": {},
   "outputs": [
    {
     "name": "stdout",
     "output_type": "stream",
     "text": [
      "Reading cldf from: //Users/fahimehb/Documents/NPP_GNN_project/dat/cl_df_VISp_annotation.csv\n"
     ]
    },
    {
     "data": {
      "image/png": "[encoded data removed]",
      "text/plain": [
       "<Figure size 360x360 with 1 Axes>"
      ]
     },
     "metadata": {
      "needs_background": "light"
     },
     "output_type": "display_data"
    }
   ],
   "source": [
    "cldf = utils.read_visp_npp_cldf()\n",
    "vectors = pd.DataFrame(model.embeddings[0].weight.detach().numpy(), index=index_2_word.values())\n",
    "vectors.index.name = \"cluster_id\"\n",
    "vectors.columns = [\"Z0\", \"Z1\"]\n",
    "cldf.index = cldf.index.astype(str)\n",
    "emb = vectors.merge(cldf, on=\"cluster_id\")\n",
    "fig = plot_utils.plot_embedding(data=emb, plot_dim=2, plot_size=(5,5))"
   ]
  },
  {
   "cell_type": "code",
   "execution_count": 26,
   "metadata": {},
   "outputs": [
    {
     "name": "stdout",
     "output_type": "stream",
     "text": [
      "Reading cldf from: //Users/fahimehb/Documents/NPP_GNN_project/dat/cl_df_VISp_annotation.csv\n"
     ]
    },
    {
     "data": {
      "image/png": "[encoded data removed]",
      "text/plain": [
       "<Figure size 360x360 with 1 Axes>"
      ]
     },
     "metadata": {
      "needs_background": "light"
     },
     "output_type": "display_data"
    }
   ],
   "source": [
    "cldf = utils.read_visp_npp_cldf()\n",
    "vectors = pd.DataFrame(model.embeddings[1].weight.detach().numpy(), index=index_2_word.values())\n",
    "vectors.index.name = \"cluster_id\"\n",
    "vectors.columns = [\"Z0\", \"Z1\"]\n",
    "cldf.index = cldf.index.astype(str)\n",
    "emb = vectors.merge(cldf, on=\"cluster_id\")\n",
    "fig = plot_utils.plot_embedding(data=emb, plot_dim=2, plot_size=(5,5))"
   ]
  },
  {
   "cell_type": "code",
   "execution_count": null,
   "metadata": {},
   "outputs": [],
   "source": []
  }
 ],
 "metadata": {
  "kernelspec": {
   "display_name": "py374",
   "language": "python",
   "name": "py374"
  },
  "language_info": {
   "codemirror_mode": {
    "name": "ipython",
    "version": 3
   },
   "file_extension": ".py",
   "mimetype": "text/x-python",
   "name": "python",
   "nbconvert_exporter": "python",
   "pygments_lexer": "ipython3",
   "version": "3.7.4"
  }
 },
 "nbformat": 4,
 "nbformat_minor": 4
}
