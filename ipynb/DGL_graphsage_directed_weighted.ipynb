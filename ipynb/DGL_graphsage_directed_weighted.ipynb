{
 "cells": [
  {
   "cell_type": "code",
   "execution_count": 1,
   "metadata": {},
   "outputs": [
    {
     "name": "stderr",
     "output_type": "stream",
     "text": [
      "Using backend: pytorch\n"
     ]
    }
   ],
   "source": [
    "import dgl\n",
    "import torch\n",
    "import networkx as nx\n",
    "import torch.nn as nn\n",
    "import torch.nn.functional as F\n",
    "from dgl.nn.pytorch import conv as dgl_conv\n",
    "from dgl import backend as dgl_F"
   ]
  },
  {
   "cell_type": "code",
   "execution_count": 3,
   "metadata": {},
   "outputs": [],
   "source": [
    "from cell import utils, graph_utils, plot_utils\n",
    "from dgl import DGLGraph"
   ]
  },
  {
   "cell_type": "markdown",
   "metadata": {},
   "source": [
    "### Read all the interactions and concat them"
   ]
  },
  {
   "cell_type": "code",
   "execution_count": 4,
   "metadata": {},
   "outputs": [],
   "source": [
    "all_layers = utils.get_npp_visp_layers()\n",
    "all_int_mat = np.zeros((93,93))\n",
    "\n",
    "for l in all_layers:\n",
    "    intraction_matrix_filename = utils.get_intraction_matrix_filename(roi= \"VISp\",\n",
    "                                                                      layer= l,\n",
    "                                                                      project_name= \"NPP_GNN_project\")\n",
    "\n",
    "    all_int_mat = all_int_mat + np.array(pd.read_csv(intraction_matrix_filename , index_col=\"Unnamed: 0\"))\n",
    "    "
   ]
  },
  {
   "cell_type": "code",
   "execution_count": 5,
   "metadata": {},
   "outputs": [],
   "source": [
    "all_int_mat = pd.DataFrame(all_int_mat)\n",
    "new_all_int_mat = np.zeros((93,93))\n",
    "for r,c in all_int_mat.iterrows():\n",
    "    sorted_vals = np.argsort(-all_int_mat[r])[0:5] \n",
    "    #random_index = np.random.randint(0, 93, size=5)\n",
    "    for m in sorted_vals:\n",
    "        new_all_int_mat[int(r)][m] = all_int_mat[r][m]\n",
    "        "
   ]
  },
  {
   "cell_type": "code",
   "execution_count": 6,
   "metadata": {},
   "outputs": [
    {
     "data": {
      "image/png": "[encoded data removed]",
      "text/plain": [
       "<Figure size 432x360 with 2 Axes>"
      ]
     },
     "metadata": {
      "needs_background": "light"
     },
     "output_type": "display_data"
    }
   ],
   "source": [
    "fig = plt.figure(figsize=(6,5))\n",
    "ax = sns.heatmap(new_all_int_mat)\n",
    "ax.tick_params(labelsize=8)\n",
    "ax.invert_yaxis()"
   ]
  },
  {
   "cell_type": "code",
   "execution_count": 7,
   "metadata": {},
   "outputs": [
    {
     "data": {
      "text/plain": [
       "(93, 93)"
      ]
     },
     "execution_count": 7,
     "metadata": {},
     "output_type": "execute_result"
    }
   ],
   "source": [
    "new_all_int_mat.shape"
   ]
  },
  {
   "cell_type": "markdown",
   "metadata": {},
   "source": [
    "## Build nx directed weighted graph"
   ]
  },
  {
   "cell_type": "code",
   "execution_count": 8,
   "metadata": {},
   "outputs": [],
   "source": [
    "class NPPDataset(object):\n",
    "    def __init__(self, edge_list, communication_df, self_loop=False):\n",
    "        self_loop_str = \"\"\n",
    "        if self_loop:\n",
    "            self_loop_str = \"_self_loop\"\n",
    "        \n",
    "        # graph\n",
    "        G = nx.DiGraph()\n",
    "        G.add_weighted_edges_from([tuple(x) for x in edge_list.values])\n",
    "        node_labels = [i for i in G.nodes]\n",
    "        self.graph = dgl.DGLGraph()\n",
    "        self.graph.from_networkx(G, edge_attrs=['weight']) \n",
    "        self.graph.readonly()\n",
    "        \n",
    "        #node features\n",
    "        communication_df = communication_df.loc[node_labels][node_labels] \n",
    "        self.features = np.array(communication_df)\n",
    "        self.labels = [int(i) for i in node_labels]\n",
    "        self.num_labels = len(np.unique(node_labels))\n",
    "        \n",
    "        print('Finished data loading.')\n",
    "        print('  NumNodes: {}'.format(self.graph.number_of_nodes()))\n",
    "        print('  NumEdges: {}'.format(self.graph.number_of_edges()))\n",
    "        print('  NumFeats: {}'.format(self.features.shape[1]))\n",
    "        print('  NumClasses: {}'.format(self.num_labels))\n",
    "\n",
    "    def __getitem__(self, idx):\n",
    "        assert idx == 0, \"NPP Dataset only has one graph\"\n",
    "        g = self.graph\n",
    "        g.ndata['feat'] = self.features\n",
    "        g.ndata['label'] = self.labels\n",
    "        return g\n",
    "    \n",
    "    def __len__(self):\n",
    "        return 1"
   ]
  },
  {
   "cell_type": "code",
   "execution_count": 9,
   "metadata": {},
   "outputs": [
    {
     "name": "stdout",
     "output_type": "stream",
     "text": [
      "Building a directed graph edge list\n",
      "Finished data loading.\n",
      "  NumNodes: 93\n",
      "  NumEdges: 465\n",
      "  NumFeats: 93\n",
      "  NumClasses: 93\n"
     ]
    }
   ],
   "source": [
    "def prepare_input(edge_list, communication_df):\n",
    "    \n",
    "    data = NPPDataset(edge_list=edge_list, \n",
    "                      communication_df=communication_df)\n",
    "    \n",
    "    features = torch.FloatTensor(data.features)\n",
    "    in_feats = features.shape[1]\n",
    "    labels = torch.LongTensor(data.labels)\n",
    "    n_classes = data.num_labels\n",
    "    g = data.graph\n",
    "    return data, features, in_feats, labels, n_classes, g\n",
    "\n",
    "\n",
    "mat = new_all_int_mat\n",
    "\n",
    "communication_df = pd.DataFrame(mat, \n",
    "                                 index=[str(i) for i in range(mat.shape[0])],\n",
    "                                 columns=[str(i) for i in range(mat.shape[0])])\n",
    "\n",
    "edge_list = graph_utils.build_edge_list(communication_df, \n",
    "                                        threshold=None, \n",
    "                                        directed=True)\n",
    "edge_list = edge_list[edge_list['weight']!=0] \n",
    "\n",
    "data, features, in_feats, labels, n_classes, g = prepare_input(\n",
    "    edge_list=edge_list, \n",
    "    communication_df=communication_df)"
   ]
  },
  {
   "cell_type": "markdown",
   "metadata": {},
   "source": [
    "## Define graph convolution model"
   ]
  },
  {
   "cell_type": "code",
   "execution_count": 10,
   "metadata": {},
   "outputs": [],
   "source": [
    "class GraphSAGEModel(nn.Module):\n",
    "    def __init__(self,\n",
    "                 in_feats,\n",
    "                 n_hidden,\n",
    "                 out_dim,\n",
    "                 n_layers,\n",
    "                 activation,\n",
    "                 dropout,\n",
    "                 aggregator_type):\n",
    "        super(GraphSAGEModel, self).__init__()\n",
    "        self.layers = nn.ModuleList()\n",
    "\n",
    "        # input layer\n",
    "        self.layers.append(dgl_conv.SAGEConv(in_feats, n_hidden, aggregator_type,\n",
    "                                         feat_drop=dropout, activation=activation))\n",
    "        # hidden layers\n",
    "        for i in range(n_layers - 1):\n",
    "            self.layers.append(dgl_conv.SAGEConv(n_hidden, n_hidden, aggregator_type,\n",
    "                                             feat_drop=dropout, activation=activation))\n",
    "        # output layer\n",
    "        self.layers.append(dgl_conv.SAGEConv(n_hidden, out_dim, aggregator_type,\n",
    "                                         feat_drop=dropout, activation=None))\n",
    "\n",
    "    def forward(self, g, features):\n",
    "        h = features\n",
    "        for layer in self.layers:\n",
    "            h = layer(g, h)\n",
    "        return h"
   ]
  },
  {
   "cell_type": "markdown",
   "metadata": {},
   "source": [
    "## Link prediction task"
   ]
  },
  {
   "cell_type": "code",
   "execution_count": 11,
   "metadata": {},
   "outputs": [],
   "source": [
    "# NCE loss\n",
    "def NCE_loss(pos_score, neg_score, neg_sample_size):\n",
    "    pos_score = F.logsigmoid(pos_score)\n",
    "    neg_score = F.logsigmoid(-neg_score).reshape(-1, neg_sample_size)\n",
    "    return -pos_score - torch.sum(neg_score, dim=1)\n",
    "\n",
    "\n",
    "class LinkPrediction(nn.Module):\n",
    "    def __init__(self, gconv_model):\n",
    "        super(LinkPrediction, self).__init__()\n",
    "        self.gconv_model = gconv_model\n",
    "\n",
    "    def forward(self, g, features, neg_sample_size):\n",
    "        emb = self.gconv_model(g, features)\n",
    "        pos_g, neg_g = edge_sampler(g, neg_sample_size, return_false_neg=False)\n",
    "        pos_score = score_func(pos_g, emb)\n",
    "        neg_score = score_func(neg_g, emb)\n",
    "        return torch.mean(NCE_loss(pos_score, neg_score, neg_sample_size))"
   ]
  },
  {
   "cell_type": "markdown",
   "metadata": {},
   "source": [
    "## Edge sampler"
   ]
  },
  {
   "cell_type": "code",
   "execution_count": 12,
   "metadata": {},
   "outputs": [],
   "source": [
    "def edge_sampler(g, neg_sample_size, edges=None, return_false_neg=True, edge_weight=None):\n",
    "    sampler = dgl.contrib.sampling.EdgeSampler(g, batch_size=int(g.number_of_edges()/10),\n",
    "                                               seed_edges=edges,\n",
    "                                               neg_sample_size=neg_sample_size,\n",
    "                                               negative_mode='tail',\n",
    "                                               shuffle=True,\n",
    "                                               return_false_neg=return_false_neg)\n",
    "    sampler = iter(sampler)\n",
    "    return next(sampler)"
   ]
  },
  {
   "cell_type": "code",
   "execution_count": 13,
   "metadata": {},
   "outputs": [],
   "source": [
    "# data, features, in_feats, labels, n_classes, g = prepare_input(pd.DataFrame(new_all_int_mat))\n",
    "# train_eids, valid_eids, test_eids, train_g = prepare_train_test_valid(g)"
   ]
  },
  {
   "cell_type": "code",
   "execution_count": 14,
   "metadata": {},
   "outputs": [],
   "source": [
    "# g.out_degrees()"
   ]
  },
  {
   "cell_type": "code",
   "execution_count": 15,
   "metadata": {},
   "outputs": [],
   "source": [
    "# g.in_degrees()"
   ]
  },
  {
   "cell_type": "code",
   "execution_count": 16,
   "metadata": {},
   "outputs": [],
   "source": [
    "# p1, n1 = edge_sampler(g, 1, torch.tensor([i for i in range(g.number_of_edges())]), edge_weight= g.edata['weight'])\n",
    "# p2, n2 = edge_sampler(g, 1, torch.tensor([i for i in range(g.number_of_edges())]))"
   ]
  },
  {
   "cell_type": "code",
   "execution_count": 17,
   "metadata": {},
   "outputs": [],
   "source": [
    "# p1"
   ]
  },
  {
   "cell_type": "code",
   "execution_count": 18,
   "metadata": {},
   "outputs": [],
   "source": [
    "# p2"
   ]
  },
  {
   "cell_type": "code",
   "execution_count": 19,
   "metadata": {},
   "outputs": [],
   "source": [
    "# n1"
   ]
  },
  {
   "cell_type": "code",
   "execution_count": 20,
   "metadata": {},
   "outputs": [],
   "source": [
    "# n2"
   ]
  },
  {
   "cell_type": "code",
   "execution_count": 21,
   "metadata": {},
   "outputs": [],
   "source": [
    "# g.edata['weight']"
   ]
  },
  {
   "cell_type": "markdown",
   "metadata": {},
   "source": [
    "## Score function"
   ]
  },
  {
   "cell_type": "code",
   "execution_count": 22,
   "metadata": {},
   "outputs": [],
   "source": [
    "def score_func(g, emb, parent_graph=False):\n",
    "    src_nid, dst_nid = g.all_edges(order='eid')\n",
    "    # Get the node Ids in the parent graph.\n",
    "    if not parent_graph:\n",
    "        src_nid = g.parent_nid[src_nid]\n",
    "        dst_nid = g.parent_nid[dst_nid]\n",
    "    # Read the node embeddings of the source nodes and destination nodes.\n",
    "    pos_heads = emb[src_nid]\n",
    "    pos_tails = emb[dst_nid]\n",
    "    return torch.sum(pos_heads * pos_tails, dim=1)"
   ]
  },
  {
   "cell_type": "markdown",
   "metadata": {},
   "source": [
    "## Evaluation"
   ]
  },
  {
   "cell_type": "code",
   "execution_count": 23,
   "metadata": {},
   "outputs": [],
   "source": [
    "def LPEvaluate(gconv_model, g, features, eval_eids, neg_sample_size):\n",
    "    gconv_model.eval()\n",
    "    with torch.no_grad():\n",
    "        emb = gconv_model(g, features)\n",
    "        \n",
    "        pos_g, neg_g = edge_sampler(g, neg_sample_size, eval_eids, return_false_neg=True)\n",
    "        pos_score = score_func(pos_g, emb)\n",
    "        neg_score = score_func(neg_g, emb).reshape(-1, neg_sample_size)\n",
    "        filter_bias = neg_g.edata['false_neg'].reshape(-1, neg_sample_size)\n",
    "\n",
    "        pos_score = F.logsigmoid(pos_score)\n",
    "        neg_score = F.logsigmoid(neg_score)\n",
    "        neg_score -= filter_bias.float()\n",
    "        pos_score = pos_score.unsqueeze(1)\n",
    "        rankings = torch.sum(neg_score >= (pos_score), dim=1) + 1\n",
    "        return np.mean(1.0/rankings.cpu().numpy())"
   ]
  },
  {
   "cell_type": "markdown",
   "metadata": {},
   "source": [
    "## Prepare train, validation and test"
   ]
  },
  {
   "cell_type": "code",
   "execution_count": 24,
   "metadata": {},
   "outputs": [],
   "source": [
    "def get_edge_weights(g, eids):\n",
    "    return [g.edata['weight'][idx].numpy().tolist() for idx in eids] "
   ]
  },
  {
   "cell_type": "code",
   "execution_count": 25,
   "metadata": {},
   "outputs": [],
   "source": [
    "def prepare_train_test_valid(g):\n",
    "    eids = np.random.permutation(g.number_of_edges())\n",
    "    train_eids = eids[:int(len(eids) * 0.8)]\n",
    "    valid_eids = eids[int(len(eids) * 0.8):int(len(eids) * 0.9)]\n",
    "    test_eids = eids[int(len(eids) * 0.9):]\n",
    "    train_g = g.edge_subgraph(train_eids, preserve_nodes=True)\n",
    "    train_g_edata = get_edge_weights(g, train_eids)\n",
    "    train_g.edata['weight'] = torch.tensor(train_g_edata)\n",
    "    return train_eids, valid_eids, test_eids, train_g"
   ]
  },
  {
   "cell_type": "markdown",
   "metadata": {},
   "source": [
    "## Training"
   ]
  },
  {
   "cell_type": "code",
   "execution_count": 26,
   "metadata": {},
   "outputs": [],
   "source": [
    "def training(in_feats, features, n_hidden, n_layers, dropout, aggregator_type, lr, \n",
    "          weight_decay, g, n_epochs, neg_sample_size):\n",
    "    \n",
    "    #Sage model\n",
    "    gconv_model = GraphSAGEModel(in_feats,\n",
    "                                 n_hidden,\n",
    "                                 n_hidden,\n",
    "                                 n_layers,\n",
    "                                 F.relu,\n",
    "                                 dropout,\n",
    "                                 aggregator_type)\n",
    "    \n",
    "    # Model for link prediction\n",
    "    model = LinkPrediction(gconv_model)\n",
    "\n",
    "    # use optimizer\n",
    "    optimizer = torch.optim.Adam(model.parameters(), lr=lr, weight_decay=weight_decay)\n",
    "    train_eids, valid_eids, test_eids, train_g = prepare_train_test_valid(g)\n",
    "\n",
    "    # initialize graph\n",
    "    dur = []\n",
    "    for epoch in range(n_epochs):\n",
    "        model.train()\n",
    "        loss = model(train_g, features, neg_sample_size)\n",
    "        optimizer.zero_grad()\n",
    "        loss.backward()\n",
    "    \n",
    "        optimizer.step()\n",
    "        if epoch % 500 == 0 :\n",
    "            acc = LPEvaluate(gconv_model, g, features, torch.tensor(valid_eids), neg_sample_size)\n",
    "            print(\"Epoch {:05d} | Loss {:.4f} | MRR {:.4f}\".format(epoch, loss.item(), acc))\n",
    "\n",
    "    print()\n",
    "    # Let's save the trained node embeddings.\n",
    "    acc = LPEvaluate(gconv_model, g, features, torch.tensor(test_eids), neg_sample_size)\n",
    "    print(\"Test MRR {:.4f}\".format(acc))\n",
    "    return gconv_model"
   ]
  },
  {
   "cell_type": "markdown",
   "metadata": {},
   "source": [
    "## Plot output"
   ]
  },
  {
   "cell_type": "code",
   "execution_count": 27,
   "metadata": {},
   "outputs": [],
   "source": [
    "def plot_pca_importance(h, n_hidden):\n",
    "    vectors = h.detach().numpy()\n",
    "    pca = PCA(n_components=n_hidden)\n",
    "    pca.fit(vectors)\n",
    "    pca_data = pca.transform(vectors)\n",
    "    \n",
    "    per_var = np.round(pca.explained_variance_ratio_* 100, decimals=1)\n",
    "    labels = ['PC' + str(x) for x in range(1, len(per_var)+1)]\n",
    "    \n",
    "    plt.figure(figsize=(20,5))\n",
    "    plt.bar(x=range(1, len(per_var)+1), height=per_var, tick_label= labels)\n",
    "    plt.xticks(rotation = 90)\n",
    "    plt.show()"
   ]
  },
  {
   "cell_type": "code",
   "execution_count": 28,
   "metadata": {},
   "outputs": [],
   "source": [
    "def plot_emb(h, n_hidden, data, cldf, plot_dim, plot_size=(8,8), annotation=False):\n",
    "    \n",
    "    emb = h.detach().numpy()\n",
    "    emb = pd.DataFrame(emb, columns=[\"Z\"+str(i) for i in range(n_hidden)])\n",
    "    emb['cluster_id'] = [str(i) for i in data.labels]\n",
    "    emb = emb.merge(cldf, on = \"cluster_id\")\n",
    "    emb = emb.set_index(\"cluster_id\", drop=True)\n",
    "    plot_utils.plot_embedding(emb, plot_dim= plot_dim, plot_size=plot_size, annotation=annotation)\n",
    "\n",
    "    plt.show()"
   ]
  },
  {
   "cell_type": "code",
   "execution_count": 29,
   "metadata": {},
   "outputs": [],
   "source": [
    "def get_emb(gconv_model, g, features):\n",
    "    gconv_model.eval()\n",
    "    with torch.no_grad():\n",
    "        emb = gconv_model(g, features)\n",
    "    return emb"
   ]
  },
  {
   "cell_type": "markdown",
   "metadata": {},
   "source": [
    "### Using adj as the attributes"
   ]
  },
  {
   "cell_type": "code",
   "execution_count": 40,
   "metadata": {},
   "outputs": [
    {
     "name": "stdout",
     "output_type": "stream",
     "text": [
      "Epoch 00000 | Loss 21.8645 | MRR 0.7174\n",
      "Epoch 00500 | Loss 1.3188 | MRR 0.8913\n",
      "Epoch 01000 | Loss 1.2312 | MRR 0.9239\n",
      "Epoch 01500 | Loss 1.3190 | MRR 0.8804\n",
      "Epoch 02000 | Loss 1.3243 | MRR 0.9022\n",
      "Epoch 02500 | Loss 1.2472 | MRR 0.8913\n",
      "Epoch 03000 | Loss 1.2495 | MRR 0.9239\n",
      "Epoch 03500 | Loss 1.3676 | MRR 0.8261\n",
      "Epoch 04000 | Loss 1.2675 | MRR 0.9130\n",
      "Epoch 04500 | Loss 1.3205 | MRR 0.9457\n",
      "Epoch 05000 | Loss 1.3065 | MRR 0.9457\n",
      "Epoch 05500 | Loss 1.2903 | MRR 0.9239\n",
      "Epoch 06000 | Loss 1.2774 | MRR 0.8478\n",
      "Epoch 06500 | Loss 1.2584 | MRR 0.9457\n",
      "Epoch 07000 | Loss 1.3578 | MRR 0.9130\n",
      "Epoch 07500 | Loss 1.3392 | MRR 0.9457\n",
      "Epoch 08000 | Loss 1.2313 | MRR 0.9239\n",
      "Epoch 08500 | Loss 1.6073 | MRR 0.8804\n",
      "Epoch 09000 | Loss 1.2913 | MRR 0.8913\n",
      "Epoch 09500 | Loss 1.2996 | MRR 0.9130\n",
      "\n",
      "Test MRR 0.8913\n"
     ]
    }
   ],
   "source": [
    "n_hidden = 30\n",
    "n_layers = 1\n",
    "dropout = 0\n",
    "aggregator_type = 'gcn'\n",
    "\n",
    "# Training hyperparameters\n",
    "weight_decay = 5e-4\n",
    "n_epochs = 10000\n",
    "lr = 2e-3\n",
    "neg_sample_size = 1\n",
    "\n",
    "# data, features, in_feats, labels, n_classes, g = prepare_input(pd.DataFrame(all_int_mat))\n",
    "gconv = training(in_feats, features, n_hidden, n_layers, dropout,\n",
    "                 aggregator_type, lr, weight_decay, g, n_epochs, neg_sample_size)"
   ]
  },
  {
   "cell_type": "code",
   "execution_count": 41,
   "metadata": {},
   "outputs": [
    {
     "name": "stdout",
     "output_type": "stream",
     "text": [
      "Reading cldf from: //Users/fahimehb/Documents/NPP_GNN_project/dat/cl_df_VISp_annotation.csv\n"
     ]
    },
    {
     "data": {
      "image/png": "[encoded data removed]",
      "text/plain": [
       "<Figure size 720x720 with 1 Axes>"
      ]
     },
     "metadata": {
      "needs_background": "light"
     },
     "output_type": "display_data"
    }
   ],
   "source": [
    "cldf = utils.read_visp_npp_cldf()\n",
    "h = get_emb(gconv, g, features)\n",
    "\n",
    "#plot_pca_importance(h, n_hidden)\n",
    "plot_emb(h, n_hidden, data, cldf, 2, annotation=False, plot_size=(10,10))"
   ]
  },
  {
   "cell_type": "code",
   "execution_count": 43,
   "metadata": {},
   "outputs": [
    {
     "name": "stdout",
     "output_type": "stream",
     "text": [
      "closest nodes to : Sst Chodl\n",
      "------------------------------------------\n",
      "\n",
      "                     cluster_label\n",
      "cluster_id                        \n",
      "21                 L6 CT Nxph2 Sla\n",
      "61               Vip Col15a1 Pde1a\n",
      "16          L5 PT VISp C1ql2 Ptgfr\n",
      "20             L5 NP VISp Trhr Met\n",
      "19           L5 NP VISp Trhr Cpne7\n"
     ]
    },
    {
     "data": {
      "text/plain": [
       "['L6 CT Nxph2 Sla',\n",
       " 'Vip Col15a1 Pde1a',\n",
       " 'L5 PT VISp C1ql2 Ptgfr',\n",
       " 'L5 NP VISp Trhr Met',\n",
       " 'L5 NP VISp Trhr Cpne7']"
      ]
     },
     "execution_count": 43,
     "metadata": {},
     "output_type": "execute_result"
    }
   ],
   "source": [
    "from cell import analysis\n",
    "analysis.get_closest_node_label(h, [str(i) for i in range(93)], \"62\", 5, cldf )"
   ]
  },
  {
   "cell_type": "code",
   "execution_count": 54,
   "metadata": {},
   "outputs": [
    {
     "name": "stdout",
     "output_type": "stream",
     "text": [
      "closest nodes to : L5 PT VISp Chrna6\n",
      "------------------------------------------\n",
      "\n",
      "                   cluster_label\n",
      "cluster_id                      \n",
      "83                  Pvalb Gabrg1\n",
      "23          L6 CT VISp Nxph2 Wls\n",
      "18              L5 PT VISp Krt80\n",
      "1           L2/3 IT VISp Adamts2\n",
      "46              Vip Igfbp6 Car10\n"
     ]
    },
    {
     "data": {
      "text/plain": [
       "['Pvalb Gabrg1',\n",
       " 'L6 CT VISp Nxph2 Wls',\n",
       " 'L5 PT VISp Krt80',\n",
       " 'L2/3 IT VISp Adamts2',\n",
       " 'Vip Igfbp6 Car10']"
      ]
     },
     "execution_count": 54,
     "metadata": {},
     "output_type": "execute_result"
    }
   ],
   "source": [
    "analysis.get_closest_node_label(h, [str(i) for i in range(93)], \"14\", 5, cldf )"
   ]
  },
  {
   "cell_type": "code",
   "execution_count": 82,
   "metadata": {},
   "outputs": [],
   "source": [
    "from scipy.spatial.distance import squareform\n",
    "from scipy.spatial.distance import pdist\n",
    "\n",
    "emb = h\n",
    "dist = squareform(pdist(emb))\n",
    "dist = pd.DataFrame(dist, index=[str(i) for i in range(93)], columns=[str(i) for i in range(93)])\n",
    "dist.values[np.arange(dist.shape[0]),np.arange(dist.shape[0])] = dist.max(axis=1)\n",
    "idx = np.argsort(dist.loc['1'].tolist())\n",
    "# sorted_indices = [index[i] for i in idx]"
   ]
  },
  {
   "cell_type": "code",
   "execution_count": 53,
   "metadata": {},
   "outputs": [
    {
     "data": {
      "text/html": [
       "<div>\n",
       "<style scoped>\n",
       "    .dataframe tbody tr th:only-of-type {\n",
       "        vertical-align: middle;\n",
       "    }\n",
       "\n",
       "    .dataframe tbody tr th {\n",
       "        vertical-align: top;\n",
       "    }\n",
       "\n",
       "    .dataframe thead th {\n",
       "        text-align: right;\n",
       "    }\n",
       "</style>\n",
       "<table border=\"1\" class=\"dataframe\">\n",
       "  <thead>\n",
       "    <tr style=\"text-align: right;\">\n",
       "      <th></th>\n",
       "      <th>dendcluster_id</th>\n",
       "      <th>cluster_label</th>\n",
       "      <th>colors</th>\n",
       "      <th>cluster_color</th>\n",
       "      <th>subclass_id</th>\n",
       "      <th>subclass_label</th>\n",
       "      <th>subclass_color</th>\n",
       "      <th>class_id</th>\n",
       "      <th>class_label</th>\n",
       "      <th>class_color</th>\n",
       "    </tr>\n",
       "    <tr>\n",
       "      <th>cluster_id</th>\n",
       "      <th></th>\n",
       "      <th></th>\n",
       "      <th></th>\n",
       "      <th></th>\n",
       "      <th></th>\n",
       "      <th></th>\n",
       "      <th></th>\n",
       "      <th></th>\n",
       "      <th></th>\n",
       "      <th></th>\n",
       "    </tr>\n",
       "  </thead>\n",
       "  <tbody>\n",
       "    <tr>\n",
       "      <th>14</th>\n",
       "      <td>29</td>\n",
       "      <td>L5 PT VISp Chrna6</td>\n",
       "      <td>#0000FF</td>\n",
       "      <td>#0000FF</td>\n",
       "      <td>11</td>\n",
       "      <td>L5 PT</td>\n",
       "      <td>#0D5B78</td>\n",
       "      <td>2</td>\n",
       "      <td>Glutamatergic</td>\n",
       "      <td>#27AAE1</td>\n",
       "    </tr>\n",
       "    <tr>\n",
       "      <th>15</th>\n",
       "      <td>30</td>\n",
       "      <td>L5 PT VISp Lgr5</td>\n",
       "      <td>#22737F</td>\n",
       "      <td>#22737F</td>\n",
       "      <td>11</td>\n",
       "      <td>L5 PT</td>\n",
       "      <td>#0D5B78</td>\n",
       "      <td>2</td>\n",
       "      <td>Glutamatergic</td>\n",
       "      <td>#27AAE1</td>\n",
       "    </tr>\n",
       "    <tr>\n",
       "      <th>16</th>\n",
       "      <td>31</td>\n",
       "      <td>L5 PT VISp C1ql2 Ptgfr</td>\n",
       "      <td>#247740</td>\n",
       "      <td>#247740</td>\n",
       "      <td>11</td>\n",
       "      <td>L5 PT</td>\n",
       "      <td>#0D5B78</td>\n",
       "      <td>2</td>\n",
       "      <td>Glutamatergic</td>\n",
       "      <td>#27AAE1</td>\n",
       "    </tr>\n",
       "    <tr>\n",
       "      <th>17</th>\n",
       "      <td>32</td>\n",
       "      <td>L5 PT VISp C1ql2 Cdh13</td>\n",
       "      <td>#00A863</td>\n",
       "      <td>#00A863</td>\n",
       "      <td>11</td>\n",
       "      <td>L5 PT</td>\n",
       "      <td>#0D5B78</td>\n",
       "      <td>2</td>\n",
       "      <td>Glutamatergic</td>\n",
       "      <td>#27AAE1</td>\n",
       "    </tr>\n",
       "    <tr>\n",
       "      <th>18</th>\n",
       "      <td>33</td>\n",
       "      <td>L5 PT VISp Krt80</td>\n",
       "      <td>#29E043</td>\n",
       "      <td>#29E043</td>\n",
       "      <td>11</td>\n",
       "      <td>L5 PT</td>\n",
       "      <td>#0D5B78</td>\n",
       "      <td>2</td>\n",
       "      <td>Glutamatergic</td>\n",
       "      <td>#27AAE1</td>\n",
       "    </tr>\n",
       "  </tbody>\n",
       "</table>\n",
       "</div>"
      ],
      "text/plain": [
       "            dendcluster_id           cluster_label   colors cluster_color  \\\n",
       "cluster_id                                                                  \n",
       "14                      29       L5 PT VISp Chrna6  #0000FF       #0000FF   \n",
       "15                      30         L5 PT VISp Lgr5  #22737F       #22737F   \n",
       "16                      31  L5 PT VISp C1ql2 Ptgfr  #247740       #247740   \n",
       "17                      32  L5 PT VISp C1ql2 Cdh13  #00A863       #00A863   \n",
       "18                      33        L5 PT VISp Krt80  #29E043       #29E043   \n",
       "\n",
       "            subclass_id subclass_label subclass_color  class_id  \\\n",
       "cluster_id                                                        \n",
       "14                   11          L5 PT        #0D5B78         2   \n",
       "15                   11          L5 PT        #0D5B78         2   \n",
       "16                   11          L5 PT        #0D5B78         2   \n",
       "17                   11          L5 PT        #0D5B78         2   \n",
       "18                   11          L5 PT        #0D5B78         2   \n",
       "\n",
       "              class_label class_color  \n",
       "cluster_id                             \n",
       "14          Glutamatergic     #27AAE1  \n",
       "15          Glutamatergic     #27AAE1  \n",
       "16          Glutamatergic     #27AAE1  \n",
       "17          Glutamatergic     #27AAE1  \n",
       "18          Glutamatergic     #27AAE1  "
      ]
     },
     "execution_count": 53,
     "metadata": {},
     "output_type": "execute_result"
    }
   ],
   "source": [
    "cldf[cldf.subclass_label == \"L5 PT\"]"
   ]
  },
  {
   "cell_type": "markdown",
   "metadata": {},
   "source": [
    "In my opinion, this method is less dependent on the"
   ]
  }
 ],
 "metadata": {
  "kernelspec": {
   "display_name": "py374",
   "language": "python",
   "name": "py374"
  },
  "language_info": {
   "codemirror_mode": {
    "name": "ipython",
    "version": 3
   },
   "file_extension": ".py",
   "mimetype": "text/x-python",
   "name": "python",
   "nbconvert_exporter": "python",
   "pygments_lexer": "ipython3",
   "version": "3.7.4"
  }
 },
 "nbformat": 4,
 "nbformat_minor": 4
}
