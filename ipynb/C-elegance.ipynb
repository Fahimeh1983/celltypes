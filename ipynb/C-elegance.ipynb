{
 "cells": [
  {
   "cell_type": "code",
   "execution_count": 1,
   "metadata": {},
   "outputs": [],
   "source": [
    "import warnings; warnings.simplefilter('ignore')\n",
    "\n",
    "import random\n",
    "import os\n",
    "import time\n",
    "import itertools\n",
    "import collections\n",
    "import scipy as sp\n",
    "import pandas as pd\n",
    "from cell import graph_utils, utils, math_utils, analysis, plot_utils\n",
    "from stellargraph import StellarDiGraph\n",
    "import cell.BiasedDirectedWeightedWalk as BDWW\n",
    "from mpl_toolkits import mplot3d\n",
    "import seaborn as sns\n",
    "\n",
    "os.environ['KMP_DUPLICATE_LIB_OK']='True'"
   ]
  },
  {
   "cell_type": "code",
   "execution_count": 2,
   "metadata": {},
   "outputs": [],
   "source": [
    "connectome_filename = \"SI_5_Connectome_adjacency_matrices_corrected_July2020.xlsx\"\n",
    "cell_list_filename = \"SI_4_Cell_lists.xlsx\"\n",
    "path = \"/Users/fahimehb/Documents/C-elegance/dat/Connectomes/\""
   ]
  },
  {
   "cell_type": "code",
   "execution_count": 3,
   "metadata": {},
   "outputs": [],
   "source": [
    "pharynx = pd.read_excel(path + cell_list_filename, sheet_name=\"pharynx\", index_col=\"Unnamed: 0\")\n",
    "pharynx_shared_neurons = pharynx[pharynx[\"cell type\"].isin([\"interneuron\", \"motorneuron\"])].index.tolist()\n",
    "\n",
    "sex = pd.read_excel(path + cell_list_filename, sheet_name=\"sex-shared\", index_col=\"Unnamed: 0\")\n",
    "sex_shared_neurons = sex[sex[\"cell type\"].isin([\"interneuron\", \"motorneuron\", \"sensory\", \"neuron\"])].index.tolist()\n",
    "\n",
    "hermaphrodite_specific = pd.read_excel(path + cell_list_filename, sheet_name=\"hermaphrodite specific\", index_col=\"Unnamed: 0\")\n",
    "hermaphrodite_specific_neurons = hermaphrodite_specific[hermaphrodite_specific[\"cell type\"].isin([\"motorneuron\"])].index.tolist()\n",
    "herm_neurons = sex_shared_neurons + pharynx_shared_neurons + hermaphrodite_specific_neurons \n",
    "\n",
    "male_specific = pd.read_excel(path + cell_list_filename, sheet_name=\"male-specific\", index_col=\"name\")\n",
    "male_specific_neurons = male_specific[male_specific[\"cell type\"].isin([\"interneuron\", \"sensory neuron\"])].index.tolist()\n",
    "male_neurons = sex_shared_neurons + pharynx_shared_neurons + male_specific_neurons "
   ]
  },
  {
   "cell_type": "code",
   "execution_count": 4,
   "metadata": {},
   "outputs": [
    {
     "name": "stdout",
     "output_type": "stream",
     "text": [
      "Number of herm neurons\n",
      "302\n",
      "Number of herm neurons\n",
      "385\n"
     ]
    }
   ],
   "source": [
    "print(\"Number of herm neurons\")\n",
    "print(len(herm_neurons))\n",
    "\n",
    "\n",
    "print(\"Number of herm neurons\")\n",
    "print(len(male_neurons))\n"
   ]
  },
  {
   "cell_type": "code",
   "execution_count": 5,
   "metadata": {},
   "outputs": [],
   "source": [
    "cldf_herm = pd.read_excel(path + connectome_filename, sheet_name=\"anno_hermaphrodite_chem\")\n",
    "cldf_herm.cluster_id = cldf_herm.cluster_id.astype('str')\n",
    "cldf_herm.class_id = cldf_herm.class_id.astype('str')\n",
    "cldf_herm.subclass_id = cldf_herm.subclass_id.astype('str')\n",
    "cldf_herm[\"herm_neuron\"] = np.nan\n",
    "cldf_herm[\"male_neuron\"] = np.nan\n",
    "cldf_herm.loc[cldf_herm[\"cluster_label\"].isin(herm_neurons), \"herm_neuron\"] =True\n",
    "cldf_herm.loc[cldf_herm[\"cluster_label\"].isin(male_neurons), \"male_neuron\"] =True"
   ]
  },
  {
   "cell_type": "code",
   "execution_count": 6,
   "metadata": {},
   "outputs": [
    {
     "data": {
      "text/plain": [
       "(473, 12)"
      ]
     },
     "execution_count": 6,
     "metadata": {},
     "output_type": "execute_result"
    }
   ],
   "source": [
    "cldf_herm.shape"
   ]
  },
  {
   "cell_type": "code",
   "execution_count": 7,
   "metadata": {},
   "outputs": [],
   "source": [
    "herm_neurons = cldf_herm[cldf_herm[\"herm_neuron\"]==True][\"cluster_label\"].tolist()\n",
    "male_neurons = cldf_herm[cldf_herm[\"male_neuron\"]==True][\"cluster_label\"].tolist()"
   ]
  },
  {
   "cell_type": "code",
   "execution_count": 8,
   "metadata": {},
   "outputs": [],
   "source": [
    "herm_neurons.remove('CANL')\n",
    "herm_neurons.remove('CANR')"
   ]
  },
  {
   "cell_type": "code",
   "execution_count": 9,
   "metadata": {},
   "outputs": [
    {
     "data": {
      "text/plain": [
       "300"
      ]
     },
     "execution_count": 9,
     "metadata": {},
     "output_type": "execute_result"
    }
   ],
   "source": [
    "len(herm_neurons)"
   ]
  },
  {
   "cell_type": "markdown",
   "metadata": {},
   "source": [
    "# Read Chem and gap junction and add them for herm"
   ]
  },
  {
   "cell_type": "markdown",
   "metadata": {},
   "source": [
    "Open the following cell if you need to see the codes"
   ]
  },
  {
   "cell_type": "code",
   "execution_count": 10,
   "metadata": {},
   "outputs": [],
   "source": [
    "herm_chem = pd.read_excel(path + connectome_filename, sheet_name=\"hermaphrodite chemical\", \n",
    "                          header=2, index_col=\"Unnamed: 2\", nrows=300)\n",
    "herm_gj = pd.read_excel(path + connectome_filename, sheet_name=\"hermaphrodite gap jn symmetric\", \n",
    "                        header=2, index_col=\"Unnamed: 2\", nrows=469)\n",
    "\n",
    "herm_chem = herm_chem.drop(labels=[\"Unnamed: 0\", \"Unnamed: 1\", \"Unnamed: 457\"], axis=1)\n",
    "herm_gj = herm_gj.drop(labels=[\"Unnamed: 0\", \"Unnamed: 1\", \"Unnamed: 472\"], axis=1)\n",
    "\n",
    "herm_chem = herm_chem.fillna(0)\n",
    "herm_gj = herm_gj.fillna(0)\n",
    "\n",
    "#Making chem square matrix\n",
    "#herm_chem_index = herm_chem.index.tolist()\n",
    "#missing_index = [i for i in herm_chem.columns.tolist() if i not in herm_chem_index]\n",
    "#missing_df = pd.DataFrame(0, index=missing_index, columns=herm_chem.columns.tolist())\n",
    "#herm_chem = pd.concat((herm_chem, missing_df))\n",
    "#herm_chem = herm_chem.loc[herm_chem.columns.tolist()][herm_chem.columns.tolist()]\n",
    "herm_chem = herm_chem.loc[herm_neurons][herm_neurons]\n",
    "herm_gj = herm_gj.loc[herm_neurons][herm_neurons]\n",
    "\n",
    "# #Check which cells are missing in each matrix\n",
    "# herm_chem_cells = herm_chem.index.tolist()\n",
    "# herm_gj_cells = herm_gj.index.tolist()\n",
    "# cells_toadd_to_gj = [i for i in herm_chem_cells if i not in herm_gj_cells]\n",
    "# cells_toadd_to_chem = [i for i in herm_gj_cells if i not in herm_chem_cells]\n",
    "\n",
    "# #Add missing rows to each matrix\n",
    "# missing_df = pd.DataFrame(0, index=cells_toadd_to_gj, columns=herm_gj.columns.tolist())\n",
    "# herm_gj = pd.concat((herm_gj, missing_df))\n",
    "# missing_df = pd.DataFrame(0, index=cells_toadd_to_chem, columns=herm_chem.columns.tolist())\n",
    "# herm_chem = pd.concat((herm_chem, missing_df))\n",
    "\n",
    "# #Add missing columns to each matrix\n",
    "# for cell in cells_toadd_to_gj:\n",
    "#     herm_gj[cell] = np.nan\n",
    "# for cell in cells_toadd_to_chem:\n",
    "#     herm_chem[cell] = np.nan\n",
    "    \n",
    "# print(herm_chem.shape)\n",
    "# print(herm_gj.shape)\n",
    "\n",
    "# #Put both matrix to the same order\n",
    "# herm_chem = herm_chem.loc[herm_gj.index.tolist()][herm_gj.columns.tolist()]\n",
    "\n",
    "# herm_chem = herm_chem.fillna(0)\n",
    "# herm_gj = herm_gj.fillna(0)\n",
    "\n",
    "# #Threshold\n",
    "# herm_chem[herm_chem>30]=30\n",
    "# herm_gj[herm_gj>30]=30\n",
    "\n",
    "# # Add the two matrices \n",
    "\n",
    "connectome = herm_chem.add(herm_gj)\n",
    "index_column_names = connectome.index.copy()\n",
    "connectome = connectome.loc[index_column_names][index_column_names]\n",
    "connectome = connectome.reset_index().rename(columns={\"index\": \"cluster_label\"}, errors=\"raise\")\n",
    "connectome = connectome.merge(cldf_herm[[\"cluster_label\", \"cluster_id\"]], on=\"cluster_label\")\n",
    "connectome = connectome.set_index(\"cluster_id\")\n",
    "connectome = connectome.drop(columns=\"cluster_label\")\n",
    "connectome = connectome[index_column_names]\n",
    "connectome.columns = connectome.index\n",
    "connectome.columns.name = None"
   ]
  },
  {
   "cell_type": "code",
   "execution_count": 12,
   "metadata": {},
   "outputs": [],
   "source": [
    "# %matplotlib qt5\n",
    "# sns.heatmap(connectome)"
   ]
  },
  {
   "cell_type": "code",
   "execution_count": 12,
   "metadata": {},
   "outputs": [
    {
     "data": {
      "text/plain": [
       "<matplotlib.axes._subplots.AxesSubplot at 0x7fd901a979d0>"
      ]
     },
     "execution_count": 12,
     "metadata": {},
     "output_type": "execute_result"
    },
    {
     "data": {
      "image/png": "[encoded data removed]",
      "text/plain": [
       "<Figure size 432x288 with 2 Axes>"
      ]
     },
     "metadata": {
      "needs_background": "light"
     },
     "output_type": "display_data"
    }
   ],
   "source": [
    "percentile = 0.3\n",
    "connectome_masked = graph_utils.keep_k_percentile_of_each_col_and_each_row(connectome, percentile)\n",
    "sns.heatmap(connectome_masked)"
   ]
  },
  {
   "cell_type": "code",
   "execution_count": 23,
   "metadata": {},
   "outputs": [
    {
     "data": {
      "text/plain": [
       "<matplotlib.axes._subplots.AxesSubplot at 0x7fd8e7c8a7d0>"
      ]
     },
     "execution_count": 23,
     "metadata": {},
     "output_type": "execute_result"
    },
    {
     "data": {
      "image/png": "[encoded data removed]",
      "text/plain": [
       "<Figure size 432x288 with 2 Axes>"
      ]
     },
     "metadata": {
      "needs_background": "light"
     },
     "output_type": "display_data"
    }
   ],
   "source": [
    "#%matplotlib qt5\n",
    "# plt.figure(figsize=(20,15))\n",
    "connectome_double_stochastic = graph_utils.apply_doubly_stochastic(connectome_masked)\n",
    "sns.heatmap(connectome_double_stochastic)"
   ]
  },
  {
   "cell_type": "code",
   "execution_count": 20,
   "metadata": {},
   "outputs": [
    {
     "data": {
      "image/png": "[encoded data removed]",
      "text/plain": [
       "<Figure size 1440x1080 with 2 Axes>"
      ]
     },
     "metadata": {
      "needs_background": "light"
     },
     "output_type": "display_data"
    }
   ],
   "source": [
    "fig = plt.figure(figsize=(30,23))\n",
    "sns.heatmap(tmp)\n",
    "fig.savefig(\"/Users/fahimehb/Documents/NPP_GNN_project/dat/fig/double_stochastic_c_elegance.pdf\")"
   ]
  },
  {
   "cell_type": "code",
   "execution_count": 17,
   "metadata": {},
   "outputs": [
    {
     "data": {
      "text/plain": [
       "<matplotlib.axes._subplots.AxesSubplot at 0x7f7fddb35050>"
      ]
     },
     "execution_count": 17,
     "metadata": {},
     "output_type": "execute_result"
    },
    {
     "data": {
      "image/png": "[encoded data removed]",
      "text/plain": [
       "<Figure size 432x288 with 2 Axes>"
      ]
     },
     "metadata": {
      "needs_background": "light"
     },
     "output_type": "display_data"
    }
   ],
   "source": [
    "percentile = 0.5\n",
    "connectome_masked = graph_utils.keep_k_percentile_of_each_row(connectome, percentile)\n",
    "# sns.heatmap(connectome_masked)\n",
    "# plt.figure(figsize=(20,15))\n",
    "connectome_masked = connectome_masked + 0.00001\n",
    "connectome_row_normalized = graph_utils.Divide_each_Row_by_colsum(connectome_masked)\n",
    "sns.heatmap(connectome_row_normalized)"
   ]
  },
  {
   "cell_type": "code",
   "execution_count": 24,
   "metadata": {},
   "outputs": [],
   "source": [
    "# connectome_double_stochastic.to_csv(\"/Users/fahimehb/Documents/C-elegance/dat/Connectomes/herm_chem_gj_neuron_only_double_stochastic_no_threshold_50p_dynamic_nn.csv\")"
   ]
  },
  {
   "cell_type": "code",
   "execution_count": 303,
   "metadata": {},
   "outputs": [],
   "source": [
    "# connectome_row_normalized.to_csv(\"/Users/fahimehb/Documents/C-elegance/dat/Connectomes/herm_chem_gj_neuron_only_row_normalized_no_threshold_30p_dynamic_nn.csv\")"
   ]
  },
  {
   "cell_type": "code",
   "execution_count": 18,
   "metadata": {},
   "outputs": [],
   "source": [
    "# edges = graph_utils.build_edge_list(weight_matrix=connectome_row_normalized, threshold=None, directed=True)\n",
    "# nxg = graph_utils.build_nx_graph(source_target_weight=edges, directed=True)\n",
    "\n",
    "# # 2) Create stellar Di graphs\n",
    "# sdg = StellarDiGraph(nxg)\n",
    "# BDWW.BeginWalk(sdg, begin_checks=True, weighted=True, directed=True)\n",
    "# rw = BDWW.BiasedDirectedRandomWalk(sdg, directed=True, weighted=True, begin_checks=False)\n",
    "\n",
    "# nodes = list(sdg.nodes())\n",
    "# walks = rw.run(nodes=nodes, length=100, n=100, p=1, q=1, weighted=True, directed=True)\n",
    "\n",
    "# utils.write_list_of_lists_to_csv(path + \"/walk_herm_chem_gj_neuron_only_row_normalized_no_threshold_50p_dynamic_nn.csv\", walks)"
   ]
  },
  {
   "cell_type": "code",
   "execution_count": 28,
   "metadata": {},
   "outputs": [],
   "source": [
    "prefix = \"celegance_run7\"\n",
    "finished_epoch = 2900 + 100\n",
    "nandcg_E = []\n",
    "nandcg_R = []\n",
    "for e in range(0, finished_epoch, 100):\n",
    "    epoch = e\n",
    "    n_emb = 5\n",
    "\n",
    "    E = pd.read_csv(\"/Users/fahimehb/Documents/C-elegance/dat/run_results/\" + \n",
    "                    prefix + \"_\" + str(epoch) + \"_E_w1_\" + str(n_emb) + \"d.csv\", index_col=\"Unnamed: 0\")\n",
    "    R = pd.read_csv(\"/Users/fahimehb/Documents/C-elegance/dat/run_results/\" + \n",
    "                    prefix + \"_\" + str(epoch) + \"_R_w1_\" + str(n_emb) + \"d.csv\", index_col=\"Unnamed: 0\")\n",
    "\n",
    "    E.index = E.index.astype(str)\n",
    "    R.index = R.index.astype(str)\n",
    "\n",
    "    E_to_R_dist = analysis.get_distance_between_eachrow_of_one_df_with_all_rows_of_other_df(E[[\"Z\" + str(i) for i in range(n_emb)]], \n",
    "                                                                                            R[[\"Z\" + str(i) for i in range(n_emb)]])\n",
    "    nandcg_E.append(analysis.Compute_node_average_ndcg(adj=connectome_double_stochastic, e_to_r=E_to_R_dist, k=3))   \n",
    "    nandcg_R.append(analysis.Compute_node_average_ndcg(adj=connectome_double_stochastic.T, e_to_r=E_to_R_dist.T, k=3))   "
   ]
  },
  {
   "cell_type": "code",
   "execution_count": 41,
   "metadata": {},
   "outputs": [],
   "source": [
    "fig = plt.figure(figsize=(15,8))\n",
    "plt.scatter([i for i in range(0, finished_epoch, 100)],nandcg_E, color='blue')\n",
    "plt.plot([i for i in range(0, finished_epoch, 100)], nandcg_E, color='blue', label='nandcg_E')\n",
    "plt.scatter([i for i in range(0, finished_epoch, 100)],nandcg_R, color='red')\n",
    "plt.plot([i for i in range(0, finished_epoch, 100)], nandcg_R, color='red', label='nandcg_R')\n",
    "plt.xlabel(\"epochs\")\n",
    "plt.ylabel(\"nandcg@3\")\n",
    "plt.legend()\n",
    "fig.savefig(\"/Users/fahimehb/Documents/NPP_GNN_project/dat/fig/C-eleganse_nandcg.pdf\")\n"
   ]
  },
  {
   "cell_type": "code",
   "execution_count": 30,
   "metadata": {},
   "outputs": [
    {
     "data": {
      "text/plain": [
       "<mpl_toolkits.mplot3d.art3d.Path3DCollection at 0x7fd8e8d7e750>"
      ]
     },
     "execution_count": 30,
     "metadata": {},
     "output_type": "execute_result"
    }
   ],
   "source": [
    "%matplotlib qt5\n",
    "fig=plt.figure()\n",
    "ax = fig.add_subplot(111, projection='3d')\n",
    "ax.scatter(E['Z0'], E['Z1'], E[\"Z2\"])\n",
    "ax.scatter(R['Z0'], R['Z1'], R[\"Z2\"], c=\"red\")"
   ]
  },
  {
   "cell_type": "code",
   "execution_count": 32,
   "metadata": {},
   "outputs": [],
   "source": [
    "E.index.name = \"cluster_id\"\n",
    "R.index.name = \"cluster_id\"\n",
    "E = E.merge(cldf_herm, on='cluster_id')\n",
    "R = R.merge(cldf_herm, on='cluster_id')\n",
    "E = E.set_index(\"cluster_id\")\n",
    "R = R.set_index(\"cluster_id\")"
   ]
  },
  {
   "cell_type": "code",
   "execution_count": 33,
   "metadata": {},
   "outputs": [],
   "source": [
    "E[\"node_act\"] = \"E\"\n",
    "R['node_act'] = \"R\""
   ]
  },
  {
   "cell_type": "code",
   "execution_count": 197,
   "metadata": {},
   "outputs": [],
   "source": [
    "# E_to_R_dist.index.name = \"cluster_label\"\n",
    "# new_index = E_to_R_dist.merge(cldf_herm.reset_index(), on=\"cluster_label\")[\"cluster_id\"].tolist()\n",
    "# E_to_R_dist.index = new_index\n",
    "# E_to_R_dist.columns = new_index"
   ]
  },
  {
   "cell_type": "code",
   "execution_count": 207,
   "metadata": {},
   "outputs": [],
   "source": [
    "# connectome_double_stochastic.index.name = \"cluster_label\"\n",
    "# new_index = connectome_double_stochastic.merge(cldf_herm.reset_index(), on=\"cluster_label\")[\"cluster_id\"].tolist()\n",
    "# connectome_double_stochastic.index = new_index\n",
    "# connectome_double_stochastic.columns = new_index"
   ]
  },
  {
   "cell_type": "code",
   "execution_count": 34,
   "metadata": {},
   "outputs": [],
   "source": [
    "tmp, _ = plot_utils.plot_node_average_ndcg(adj=connectome_double_stochastic, e_to_r=E_to_R_dist, k=3, figsize=(25,5))\n",
    "# tmp1, _ = plot_utils.plot_node_average_ndcg(adj=connectome_masked, e_to_r=E_to_R_dist, k=3, figsize=(25,5))"
   ]
  },
  {
   "cell_type": "code",
   "execution_count": 263,
   "metadata": {},
   "outputs": [],
   "source": [
    "plot_utils.plot_multiple_dict({\"Double_stochastic\":tmp, \"Original\":tmp1})"
   ]
  },
  {
   "cell_type": "code",
   "execution_count": 35,
   "metadata": {},
   "outputs": [],
   "source": [
    "emb_umap = analysis.Compute_umap(pd.concat((E, R)), 5)\n",
    "em = emb_umap[emb_umap['node_act']==\"E\"]\n",
    "em = em.set_index('cluster_id')\n",
    "\n",
    "re = emb_umap[emb_umap['node_act']==\"R\"]\n",
    "re = re.set_index('cluster_id')"
   ]
  },
  {
   "cell_type": "code",
   "execution_count": 40,
   "metadata": {},
   "outputs": [],
   "source": [
    "\n",
    "fig = plot_utils.plot_ER(emitter=em, \n",
    "                   receiver=re, \n",
    "                   figsize=(12,5), \n",
    "                   plot_dim=2, \n",
    "                   annotation=False, \n",
    "                   annotation_label=\"cluster_label\",\n",
    "                   E_marker='o', \n",
    "                   R_marker='x', \n",
    "                   resolution=\"cluster_label\",\n",
    "                   side_by_side=True,\n",
    "#                    E_sublist_to_color=em[em['cluster_label']==\"ADEL\"],\n",
    "#                    R_sublist_to_color=re[re['cluster_label'].isin([\"RIGL\", \"RIGR\", \"IL2L\"])]\n",
    "                        )"
   ]
  },
  {
   "cell_type": "code",
   "execution_count": 41,
   "metadata": {},
   "outputs": [
    {
     "name": "stdout",
     "output_type": "stream",
     "text": [
      "\n",
      "Closet neighbors of cluster_label AVKL\n",
      "______________________________________\n"
     ]
    },
    {
     "data": {
      "text/html": [
       "<div>\n",
       "<style scoped>\n",
       "    .dataframe tbody tr th:only-of-type {\n",
       "        vertical-align: middle;\n",
       "    }\n",
       "\n",
       "    .dataframe tbody tr th {\n",
       "        vertical-align: top;\n",
       "    }\n",
       "\n",
       "    .dataframe thead th {\n",
       "        text-align: right;\n",
       "    }\n",
       "</style>\n",
       "<table border=\"1\" class=\"dataframe\">\n",
       "  <thead>\n",
       "    <tr style=\"text-align: right;\">\n",
       "      <th></th>\n",
       "      <th>predicted_neighbors_weights</th>\n",
       "      <th>predicted_closest_neighbors_index</th>\n",
       "      <th>predicted_closest_neighbors_label</th>\n",
       "      <th>Actual_neighbor_weights</th>\n",
       "      <th>Actual_neighbor_index</th>\n",
       "      <th>Actual_neighbor_label</th>\n",
       "      <th>match</th>\n",
       "    </tr>\n",
       "  </thead>\n",
       "  <tbody>\n",
       "    <tr>\n",
       "      <th>0</th>\n",
       "      <td>0.2444</td>\n",
       "      <td>188</td>\n",
       "      <td>AVKR</td>\n",
       "      <td>0.2444</td>\n",
       "      <td>188</td>\n",
       "      <td>AVKR</td>\n",
       "      <td>1</td>\n",
       "    </tr>\n",
       "    <tr>\n",
       "      <th>1</th>\n",
       "      <td>0.0000</td>\n",
       "      <td>165</td>\n",
       "      <td>PVPL</td>\n",
       "      <td>0.2443</td>\n",
       "      <td>95</td>\n",
       "      <td>DVA</td>\n",
       "      <td>1</td>\n",
       "    </tr>\n",
       "    <tr>\n",
       "      <th>2</th>\n",
       "      <td>0.0000</td>\n",
       "      <td>75</td>\n",
       "      <td>BAGL</td>\n",
       "      <td>0.2116</td>\n",
       "      <td>85</td>\n",
       "      <td>AQR</td>\n",
       "      <td>0</td>\n",
       "    </tr>\n",
       "    <tr>\n",
       "      <th>3</th>\n",
       "      <td>0.2443</td>\n",
       "      <td>95</td>\n",
       "      <td>DVA</td>\n",
       "      <td>0.0028</td>\n",
       "      <td>6</td>\n",
       "      <td>I4</td>\n",
       "      <td>0</td>\n",
       "    </tr>\n",
       "    <tr>\n",
       "      <th>4</th>\n",
       "      <td>0.0007</td>\n",
       "      <td>65</td>\n",
       "      <td>AFDL</td>\n",
       "      <td>0.0028</td>\n",
       "      <td>6</td>\n",
       "      <td>I4</td>\n",
       "      <td>0</td>\n",
       "    </tr>\n",
       "    <tr>\n",
       "      <th>5</th>\n",
       "      <td>0.0000</td>\n",
       "      <td>166</td>\n",
       "      <td>PVPR</td>\n",
       "      <td>0.0028</td>\n",
       "      <td>6</td>\n",
       "      <td>I4</td>\n",
       "      <td>0</td>\n",
       "    </tr>\n",
       "    <tr>\n",
       "      <th>6</th>\n",
       "      <td>0.0000</td>\n",
       "      <td>100</td>\n",
       "      <td>PDEL</td>\n",
       "      <td>0.0028</td>\n",
       "      <td>6</td>\n",
       "      <td>I4</td>\n",
       "      <td>0</td>\n",
       "    </tr>\n",
       "  </tbody>\n",
       "</table>\n",
       "</div>"
      ],
      "text/plain": [
       "   predicted_neighbors_weights predicted_closest_neighbors_index  \\\n",
       "0                       0.2444                               188   \n",
       "1                       0.0000                               165   \n",
       "2                       0.0000                                75   \n",
       "3                       0.2443                                95   \n",
       "4                       0.0007                                65   \n",
       "5                       0.0000                               166   \n",
       "6                       0.0000                               100   \n",
       "\n",
       "  predicted_closest_neighbors_label  Actual_neighbor_weights  \\\n",
       "0                              AVKR                   0.2444   \n",
       "1                              PVPL                   0.2443   \n",
       "2                              BAGL                   0.2116   \n",
       "3                               DVA                   0.0028   \n",
       "4                              AFDL                   0.0028   \n",
       "5                              PVPR                   0.0028   \n",
       "6                              PDEL                   0.0028   \n",
       "\n",
       "  Actual_neighbor_index Actual_neighbor_label  match  \n",
       "0                   188                  AVKR      1  \n",
       "1                    95                   DVA      1  \n",
       "2                    85                   AQR      0  \n",
       "3                     6                    I4      0  \n",
       "4                     6                    I4      0  \n",
       "5                     6                    I4      0  \n",
       "6                     6                    I4      0  "
      ]
     },
     "execution_count": 41,
     "metadata": {},
     "output_type": "execute_result"
    }
   ],
   "source": [
    "node_act = 'E'\n",
    "node_id = '187'#150\n",
    "node_label = None\n",
    "analysis.get_closest_nodes_info(node_label=node_label, \n",
    "                                node_id=node_id,\n",
    "                                E_to_R_dist=E_to_R_dist, \n",
    "                                adjacency=connectome_double_stochastic, \n",
    "                                topn=7, \n",
    "                                cldf=cldf_herm, \n",
    "                                resolution=\"cluster_label\", \n",
    "                                node_action=node_act)"
   ]
  },
  {
   "cell_type": "code",
   "execution_count": 42,
   "metadata": {},
   "outputs": [
    {
     "name": "stdout",
     "output_type": "stream",
     "text": [
      "\n",
      "Closet neighbors of cluster_label AVKL\n",
      "______________________________________\n"
     ]
    },
    {
     "data": {
      "text/html": [
       "<div>\n",
       "<style scoped>\n",
       "    .dataframe tbody tr th:only-of-type {\n",
       "        vertical-align: middle;\n",
       "    }\n",
       "\n",
       "    .dataframe tbody tr th {\n",
       "        vertical-align: top;\n",
       "    }\n",
       "\n",
       "    .dataframe thead th {\n",
       "        text-align: right;\n",
       "    }\n",
       "</style>\n",
       "<table border=\"1\" class=\"dataframe\">\n",
       "  <thead>\n",
       "    <tr style=\"text-align: right;\">\n",
       "      <th></th>\n",
       "      <th>predicted_neighbors_weights</th>\n",
       "      <th>predicted_closest_neighbors_index</th>\n",
       "      <th>predicted_closest_neighbors_label</th>\n",
       "      <th>Actual_neighbor_weights</th>\n",
       "      <th>Actual_neighbor_index</th>\n",
       "      <th>Actual_neighbor_label</th>\n",
       "      <th>match</th>\n",
       "    </tr>\n",
       "  </thead>\n",
       "  <tbody>\n",
       "    <tr>\n",
       "      <th>0</th>\n",
       "      <td>0.8389</td>\n",
       "      <td>95</td>\n",
       "      <td>DVA</td>\n",
       "      <td>0.8389</td>\n",
       "      <td>95</td>\n",
       "      <td>DVA</td>\n",
       "      <td>1</td>\n",
       "    </tr>\n",
       "    <tr>\n",
       "      <th>1</th>\n",
       "      <td>0.0000</td>\n",
       "      <td>201</td>\n",
       "      <td>RIMR</td>\n",
       "      <td>0.1427</td>\n",
       "      <td>176</td>\n",
       "      <td>RIGR</td>\n",
       "      <td>0</td>\n",
       "    </tr>\n",
       "    <tr>\n",
       "      <th>2</th>\n",
       "      <td>0.0000</td>\n",
       "      <td>125</td>\n",
       "      <td>OLQDR</td>\n",
       "      <td>0.0002</td>\n",
       "      <td>4</td>\n",
       "      <td>I2R</td>\n",
       "      <td>0</td>\n",
       "    </tr>\n",
       "  </tbody>\n",
       "</table>\n",
       "</div>"
      ],
      "text/plain": [
       "   predicted_neighbors_weights predicted_closest_neighbors_index  \\\n",
       "0                       0.8389                                95   \n",
       "1                       0.0000                               201   \n",
       "2                       0.0000                               125   \n",
       "\n",
       "  predicted_closest_neighbors_label  Actual_neighbor_weights  \\\n",
       "0                               DVA                   0.8389   \n",
       "1                              RIMR                   0.1427   \n",
       "2                             OLQDR                   0.0002   \n",
       "\n",
       "  Actual_neighbor_index Actual_neighbor_label  match  \n",
       "0                    95                   DVA      1  \n",
       "1                   176                  RIGR      0  \n",
       "2                     4                   I2R      0  "
      ]
     },
     "execution_count": 42,
     "metadata": {},
     "output_type": "execute_result"
    }
   ],
   "source": [
    "node_act = 'R'\n",
    "node_label = None\n",
    "analysis.get_closest_nodes_info(node_label=node_label, \n",
    "                                node_id=node_id,\n",
    "                                E_to_R_dist=E_to_R_dist, \n",
    "                                adjacency=connectome_double_stochastic, \n",
    "                                topn=3, \n",
    "                                cldf=cldf_herm, \n",
    "                                resolution=\"cluster_label\", \n",
    "                                node_action=node_act)"
   ]
  },
  {
   "cell_type": "code",
   "execution_count": null,
   "metadata": {},
   "outputs": [],
   "source": []
  },
  {
   "cell_type": "code",
   "execution_count": 159,
   "metadata": {},
   "outputs": [
    {
     "data": {
      "text/plain": [
       "['61', '62', '63', '64', '65', '66', '67', '68', '69', '70']"
      ]
     },
     "execution_count": 159,
     "metadata": {},
     "output_type": "execute_result"
    }
   ],
   "source": [
    "cldf_herm[cldf_herm.class_label == \"SENSORY NEURONS\"][\"cluster_id\"].tolist()[10:20]"
   ]
  },
  {
   "cell_type": "code",
   "execution_count": 162,
   "metadata": {},
   "outputs": [
    {
     "data": {
      "text/html": [
       "<div>\n",
       "<style scoped>\n",
       "    .dataframe tbody tr th:only-of-type {\n",
       "        vertical-align: middle;\n",
       "    }\n",
       "\n",
       "    .dataframe tbody tr th {\n",
       "        vertical-align: top;\n",
       "    }\n",
       "\n",
       "    .dataframe thead th {\n",
       "        text-align: right;\n",
       "    }\n",
       "</style>\n",
       "<table border=\"1\" class=\"dataframe\">\n",
       "  <thead>\n",
       "    <tr style=\"text-align: right;\">\n",
       "      <th></th>\n",
       "      <th>cluster_id</th>\n",
       "      <th>cluster_label</th>\n",
       "      <th>cluster_color</th>\n",
       "      <th>subclass_label</th>\n",
       "      <th>subclass_id</th>\n",
       "      <th>subclass_color</th>\n",
       "      <th>class_id</th>\n",
       "      <th>class_label</th>\n",
       "      <th>class_color</th>\n",
       "      <th>herm_neuron</th>\n",
       "      <th>male_neuron</th>\n",
       "    </tr>\n",
       "  </thead>\n",
       "  <tbody>\n",
       "    <tr>\n",
       "      <th>136</th>\n",
       "      <td>137</td>\n",
       "      <td>AIMR</td>\n",
       "      <td>#A1BFFF</td>\n",
       "      <td>INTERNEURONS 4</td>\n",
       "      <td>8</td>\n",
       "      <td>#A1BFFF</td>\n",
       "      <td>3.0</td>\n",
       "      <td>INTERNEURONS</td>\n",
       "      <td>#A1BFFF</td>\n",
       "      <td>True</td>\n",
       "      <td>True</td>\n",
       "    </tr>\n",
       "    <tr>\n",
       "      <th>438</th>\n",
       "      <td>439</td>\n",
       "      <td>HSNL</td>\n",
       "      <td>#DC27F2</td>\n",
       "      <td>SEX-SPECIFIC CELLS 1</td>\n",
       "      <td>17</td>\n",
       "      <td>#DC27F2</td>\n",
       "      <td>7.0</td>\n",
       "      <td>SEX-SPECIFIC CELLS</td>\n",
       "      <td>#DC27F2</td>\n",
       "      <td>True</td>\n",
       "      <td>NaN</td>\n",
       "    </tr>\n",
       "  </tbody>\n",
       "</table>\n",
       "</div>"
      ],
      "text/plain": [
       "    cluster_id cluster_label cluster_color        subclass_label subclass_id  \\\n",
       "136        137          AIMR       #A1BFFF        INTERNEURONS 4           8   \n",
       "438        439          HSNL       #DC27F2  SEX-SPECIFIC CELLS 1          17   \n",
       "\n",
       "    subclass_color class_id         class_label class_color herm_neuron  \\\n",
       "136        #A1BFFF      3.0        INTERNEURONS     #A1BFFF        True   \n",
       "438        #DC27F2      7.0  SEX-SPECIFIC CELLS     #DC27F2        True   \n",
       "\n",
       "    male_neuron  \n",
       "136        True  \n",
       "438         NaN  "
      ]
     },
     "execution_count": 162,
     "metadata": {},
     "output_type": "execute_result"
    }
   ],
   "source": [
    "cldf_herm[cldf_herm.cluster_label.isin([\"AIMR\", \"HSNL\"])]"
   ]
  },
  {
   "cell_type": "code",
   "execution_count": 76,
   "metadata": {},
   "outputs": [
    {
     "data": {
      "text/plain": [
       "array(['BODY MOTOR NEURONS', 'HEAD MOTOR NEURONS', 'INTERNEURONS 1',\n",
       "       'INTERNEURONS 2', 'INTERNEURONS 3', 'INTERNEURONS 4',\n",
       "       'OTHER END ORGANS 1', 'PHARYNX', 'SENSORY NEURONS 1',\n",
       "       'SENSORY NEURONS 2', 'SENSORY NEURONS 3', 'SENSORY NEURONS 4',\n",
       "       'SENSORY NEURONS 5', 'SENSORY NEURONS 6', 'SEX-SPECIFIC CELLS 1',\n",
       "       'SUBLATERAL MOTOR NEURONS'], dtype=object)"
      ]
     },
     "execution_count": 76,
     "metadata": {},
     "output_type": "execute_result"
    }
   ],
   "source": [
    "np.unique(cldf_herm[cldf_herm.herm_neuron==True][\"subclass_label\"])"
   ]
  },
  {
   "cell_type": "code",
   "execution_count": 40,
   "metadata": {},
   "outputs": [
    {
     "data": {
      "text/html": [
       "<div>\n",
       "<style scoped>\n",
       "    .dataframe tbody tr th:only-of-type {\n",
       "        vertical-align: middle;\n",
       "    }\n",
       "\n",
       "    .dataframe tbody tr th {\n",
       "        vertical-align: top;\n",
       "    }\n",
       "\n",
       "    .dataframe thead th {\n",
       "        text-align: right;\n",
       "    }\n",
       "</style>\n",
       "<table border=\"1\" class=\"dataframe\">\n",
       "  <thead>\n",
       "    <tr style=\"text-align: right;\">\n",
       "      <th></th>\n",
       "      <th>cluster_id</th>\n",
       "      <th>cluster_label</th>\n",
       "      <th>cluster_color</th>\n",
       "      <th>subclass_label</th>\n",
       "      <th>subclass_id</th>\n",
       "      <th>subclass_color</th>\n",
       "      <th>class_id</th>\n",
       "      <th>class_label</th>\n",
       "      <th>class_color</th>\n",
       "      <th>herm_neuron</th>\n",
       "      <th>male_neuron</th>\n",
       "    </tr>\n",
       "  </thead>\n",
       "  <tbody>\n",
       "    <tr>\n",
       "      <th>186</th>\n",
       "      <td>187</td>\n",
       "      <td>AVKL</td>\n",
       "      <td>#0000FF</td>\n",
       "      <td>INTERNEURONS 2</td>\n",
       "      <td>10</td>\n",
       "      <td>#0000FF</td>\n",
       "      <td>3.0</td>\n",
       "      <td>INTERNEURONS</td>\n",
       "      <td>#A1BFFF</td>\n",
       "      <td>True</td>\n",
       "      <td>True</td>\n",
       "    </tr>\n",
       "  </tbody>\n",
       "</table>\n",
       "</div>"
      ],
      "text/plain": [
       "    cluster_id cluster_label cluster_color  subclass_label subclass_id  \\\n",
       "186        187          AVKL       #0000FF  INTERNEURONS 2          10   \n",
       "\n",
       "    subclass_color class_id   class_label class_color herm_neuron male_neuron  \n",
       "186        #0000FF      3.0  INTERNEURONS     #A1BFFF        True        True  "
      ]
     },
     "execution_count": 40,
     "metadata": {},
     "output_type": "execute_result"
    }
   ],
   "source": [
    "cldf_herm[cldf_herm.cluster_label == \"AVKL\"]"
   ]
  },
  {
   "cell_type": "code",
   "execution_count": 43,
   "metadata": {},
   "outputs": [
    {
     "data": {
      "text/html": [
       "<div>\n",
       "<style scoped>\n",
       "    .dataframe tbody tr th:only-of-type {\n",
       "        vertical-align: middle;\n",
       "    }\n",
       "\n",
       "    .dataframe tbody tr th {\n",
       "        vertical-align: top;\n",
       "    }\n",
       "\n",
       "    .dataframe thead th {\n",
       "        text-align: right;\n",
       "    }\n",
       "</style>\n",
       "<table border=\"1\" class=\"dataframe\">\n",
       "  <thead>\n",
       "    <tr style=\"text-align: right;\">\n",
       "      <th></th>\n",
       "      <th>cluster_id</th>\n",
       "      <th>cluster_label</th>\n",
       "      <th>cluster_color</th>\n",
       "      <th>subclass_label</th>\n",
       "      <th>subclass_id</th>\n",
       "      <th>subclass_color</th>\n",
       "      <th>class_id</th>\n",
       "      <th>class_label</th>\n",
       "      <th>class_color</th>\n",
       "      <th>herm_neuron</th>\n",
       "      <th>male_neuron</th>\n",
       "    </tr>\n",
       "  </thead>\n",
       "  <tbody>\n",
       "    <tr>\n",
       "      <th>94</th>\n",
       "      <td>95</td>\n",
       "      <td>DVA</td>\n",
       "      <td>#EC2D46</td>\n",
       "      <td>SENSORY NEURONS 3</td>\n",
       "      <td>5</td>\n",
       "      <td>#EC2D46</td>\n",
       "      <td>2.0</td>\n",
       "      <td>SENSORY NEURONS</td>\n",
       "      <td>#C60C0F</td>\n",
       "      <td>True</td>\n",
       "      <td>True</td>\n",
       "    </tr>\n",
       "    <tr>\n",
       "      <th>164</th>\n",
       "      <td>165</td>\n",
       "      <td>PVPL</td>\n",
       "      <td>#9A85EC</td>\n",
       "      <td>INTERNEURONS 3</td>\n",
       "      <td>9</td>\n",
       "      <td>#9A85EC</td>\n",
       "      <td>3.0</td>\n",
       "      <td>INTERNEURONS</td>\n",
       "      <td>#A1BFFF</td>\n",
       "      <td>True</td>\n",
       "      <td>True</td>\n",
       "    </tr>\n",
       "    <tr>\n",
       "      <th>187</th>\n",
       "      <td>188</td>\n",
       "      <td>AVKR</td>\n",
       "      <td>#0000FF</td>\n",
       "      <td>INTERNEURONS 2</td>\n",
       "      <td>10</td>\n",
       "      <td>#0000FF</td>\n",
       "      <td>3.0</td>\n",
       "      <td>INTERNEURONS</td>\n",
       "      <td>#A1BFFF</td>\n",
       "      <td>True</td>\n",
       "      <td>True</td>\n",
       "    </tr>\n",
       "  </tbody>\n",
       "</table>\n",
       "</div>"
      ],
      "text/plain": [
       "    cluster_id cluster_label cluster_color     subclass_label subclass_id  \\\n",
       "94          95           DVA       #EC2D46  SENSORY NEURONS 3           5   \n",
       "164        165          PVPL       #9A85EC     INTERNEURONS 3           9   \n",
       "187        188          AVKR       #0000FF     INTERNEURONS 2          10   \n",
       "\n",
       "    subclass_color class_id      class_label class_color herm_neuron  \\\n",
       "94         #EC2D46      2.0  SENSORY NEURONS     #C60C0F        True   \n",
       "164        #9A85EC      3.0     INTERNEURONS     #A1BFFF        True   \n",
       "187        #0000FF      3.0     INTERNEURONS     #A1BFFF        True   \n",
       "\n",
       "    male_neuron  \n",
       "94         True  \n",
       "164        True  \n",
       "187        True  "
      ]
     },
     "execution_count": 43,
     "metadata": {},
     "output_type": "execute_result"
    }
   ],
   "source": [
    "cldf_herm[cldf_herm.cluster_id.isin([\"188\", \"165\", \"95\"])]"
   ]
  },
  {
   "cell_type": "code",
   "execution_count": null,
   "metadata": {},
   "outputs": [],
   "source": []
  }
 ],
 "metadata": {
  "kernelspec": {
   "display_name": "py374",
   "language": "python",
   "name": "py374"
  },
  "language_info": {
   "codemirror_mode": {
    "name": "ipython",
    "version": 3
   },
   "file_extension": ".py",
   "mimetype": "text/x-python",
   "name": "python",
   "nbconvert_exporter": "python",
   "pygments_lexer": "ipython3",
   "version": "3.7.4"
  }
 },
 "nbformat": 4,
 "nbformat_minor": 4
}
