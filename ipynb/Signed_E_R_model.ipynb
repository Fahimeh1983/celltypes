{
 "cells": [
  {
   "cell_type": "markdown",
   "metadata": {},
   "source": [
    "# Signed, directed, weighted graph representation learning"
   ]
  },
  {
   "cell_type": "code",
   "execution_count": 2,
   "metadata": {},
   "outputs": [
    {
     "data": {
      "text/plain": [
       "<module 'cell.utils' from '/Users/fahimehb/Documents/git-workspace/celltypes/cell/utils.py'>"
      ]
     },
     "execution_count": 2,
     "metadata": {},
     "output_type": "execute_result"
    }
   ],
   "source": [
    "import imp\n",
    "import csv\n",
    "import torch\n",
    "import random\n",
    "import seaborn as sns\n",
    "from cell.Word2vec.wv import *\n",
    "from cell.Word2vec.dataloader import *\n",
    "from cell.Word2vec.prepare_vocab import *\n",
    "from stellargraph import StellarDiGraph\n",
    "from cell import utils, plot_utils, graph_utils, analysis\n",
    "\n",
    "import cell.BiasedDirectedWeightedWalk as BDWW\n",
    "imp.reload(utils)"
   ]
  },
  {
   "cell_type": "code",
   "execution_count": 3,
   "metadata": {},
   "outputs": [
    {
     "name": "stdout",
     "output_type": "stream",
     "text": [
      "Reading cldf from: //Users/fahimehb/Documents/NPP_GNN_project/dat/cl_df_VISp_annotation.csv\n"
     ]
    }
   ],
   "source": [
    "cldf = utils.read_visp_npp_cldf(\"old\")\n",
    "ordered_cl = cldf.cluster_label.tolist() #This is the same order as Elife paper"
   ]
  },
  {
   "cell_type": "markdown",
   "metadata": {},
   "source": [
    "The extended version of NPP-NPGPCR graphs were provided by S. Smith and they are saved in the following path: \"/Users/fahimehb/Documents/NPP_GNN_project/dat/Cognate_Pairs.csv\". Apart from 37 channels that were reported in Elife paper, there are 35 more pairs provided that we are going to use in this work:"
   ]
  },
  {
   "cell_type": "code",
   "execution_count": 21,
   "metadata": {},
   "outputs": [],
   "source": [
    "Cognate_Pairs = pd.read_csv(\"/Users/fahimehb/Documents/NPP_GNN_project/dat/Cognate_Pairs.csv\")"
   ]
  },
  {
   "cell_type": "code",
   "execution_count": 22,
   "metadata": {},
   "outputs": [
    {
     "data": {
      "text/html": [
       "<div>\n",
       "<style scoped>\n",
       "    .dataframe tbody tr th:only-of-type {\n",
       "        vertical-align: middle;\n",
       "    }\n",
       "\n",
       "    .dataframe tbody tr th {\n",
       "        vertical-align: top;\n",
       "    }\n",
       "\n",
       "    .dataframe thead th {\n",
       "        text-align: right;\n",
       "    }\n",
       "</style>\n",
       "<table border=\"1\" class=\"dataframe\">\n",
       "  <thead>\n",
       "    <tr style=\"text-align: right;\">\n",
       "      <th></th>\n",
       "      <th>NPP</th>\n",
       "      <th>NP-GPCR</th>\n",
       "      <th>Receptor Name</th>\n",
       "      <th>Class</th>\n",
       "      <th>Primary</th>\n",
       "      <th>Notes</th>\n",
       "      <th>ordinal</th>\n",
       "      <th>NPP.1</th>\n",
       "      <th>NP-GPCR.1</th>\n",
       "      <th>layer</th>\n",
       "    </tr>\n",
       "  </thead>\n",
       "  <tbody>\n",
       "    <tr>\n",
       "      <th>0</th>\n",
       "      <td>Apln</td>\n",
       "      <td>Aplnr</td>\n",
       "      <td>Apelin receoptor</td>\n",
       "      <td>I</td>\n",
       "      <td>True</td>\n",
       "      <td>Added 10 Sep 2020</td>\n",
       "      <td>1.0000</td>\n",
       "      <td>Adcyap1</td>\n",
       "      <td>Adcyap1r1</td>\n",
       "      <td>Apln-Aplnr</td>\n",
       "    </tr>\n",
       "    <tr>\n",
       "      <th>1</th>\n",
       "      <td>Adcyap1</td>\n",
       "      <td>Adcyap1r1</td>\n",
       "      <td>Adenylate Cyclase Activating Peptide 1 Receptor 1</td>\n",
       "      <td>S</td>\n",
       "      <td>True</td>\n",
       "      <td>NaN</td>\n",
       "      <td>2.0000</td>\n",
       "      <td>Adm</td>\n",
       "      <td>Agtr1a</td>\n",
       "      <td>Adcyap1-Adcyap1r1</td>\n",
       "    </tr>\n",
       "    <tr>\n",
       "      <th>2</th>\n",
       "      <td>Vip</td>\n",
       "      <td>Adcyap1r1</td>\n",
       "      <td>Adenylate Cyclase Activating Peptide 1 Receptor 1</td>\n",
       "      <td>S</td>\n",
       "      <td>False</td>\n",
       "      <td>NaN</td>\n",
       "      <td>3.0000</td>\n",
       "      <td>Agt</td>\n",
       "      <td>Agtr2</td>\n",
       "      <td>Vip-Adcyap1r1</td>\n",
       "    </tr>\n",
       "    <tr>\n",
       "      <th>3</th>\n",
       "      <td>Agt</td>\n",
       "      <td>Agtr1a</td>\n",
       "      <td>Angiotensin II Receptor, Type 1a</td>\n",
       "      <td>I</td>\n",
       "      <td>True</td>\n",
       "      <td>NaN</td>\n",
       "      <td>4.0000</td>\n",
       "      <td>Apln</td>\n",
       "      <td>Aplnr</td>\n",
       "      <td>Agt-Agtr1a</td>\n",
       "    </tr>\n",
       "    <tr>\n",
       "      <th>4</th>\n",
       "      <td>Agt</td>\n",
       "      <td>Agtr2</td>\n",
       "      <td>Angiotensin Ii Receptor, Type 2</td>\n",
       "      <td>I</td>\n",
       "      <td>True</td>\n",
       "      <td>NaN</td>\n",
       "      <td>5.0000</td>\n",
       "      <td>Avp</td>\n",
       "      <td>Avpr1a</td>\n",
       "      <td>Agt-Agtr2</td>\n",
       "    </tr>\n",
       "  </tbody>\n",
       "</table>\n",
       "</div>"
      ],
      "text/plain": [
       "       NPP    NP-GPCR                                      Receptor Name  \\\n",
       "0     Apln      Aplnr                                   Apelin receoptor   \n",
       "1  Adcyap1  Adcyap1r1  Adenylate Cyclase Activating Peptide 1 Receptor 1   \n",
       "2      Vip  Adcyap1r1  Adenylate Cyclase Activating Peptide 1 Receptor 1   \n",
       "3      Agt     Agtr1a                   Angiotensin II Receptor, Type 1a   \n",
       "4      Agt      Agtr2                    Angiotensin Ii Receptor, Type 2   \n",
       "\n",
       "  Class  Primary              Notes  ordinal    NPP.1  NP-GPCR.1  \\\n",
       "0     I     True  Added 10 Sep 2020   1.0000  Adcyap1  Adcyap1r1   \n",
       "1     S     True                NaN   2.0000      Adm     Agtr1a   \n",
       "2     S    False                NaN   3.0000      Agt      Agtr2   \n",
       "3     I     True                NaN   4.0000     Apln      Aplnr   \n",
       "4     I     True                NaN   5.0000      Avp     Avpr1a   \n",
       "\n",
       "               layer  \n",
       "0         Apln-Aplnr  \n",
       "1  Adcyap1-Adcyap1r1  \n",
       "2      Vip-Adcyap1r1  \n",
       "3         Agt-Agtr1a  \n",
       "4          Agt-Agtr2  "
      ]
     },
     "execution_count": 22,
     "metadata": {},
     "output_type": "execute_result"
    }
   ],
   "source": [
    "Cognate_Pairs[\"layer\"] = Cognate_Pairs['NPP'].str.cat(Cognate_Pairs['NP-GPCR'],sep=\"-\")\n",
    "Cognate_Pairs.head()"
   ]
  },
  {
   "cell_type": "markdown",
   "metadata": {},
   "source": [
    "There are 3 different classes of NPP/NP-GPCR pairs, that are indicated with \"I\", \"S\" or \"Q\" in the file above. This classification is done based on the primary effect of the GPCRs expressed in cortex based on the G-protein alpha subunit (G$\\alpha$) family. The Gi/o family (I) inhibits cAMP production, the Gs family (S) stimulates cAMP production and Gq/11 family (Q) stimulate phospholipase C activity to generate to generate PI metabolites and amplify calcium signaling."
   ]
  },
  {
   "cell_type": "markdown",
   "metadata": {},
   "source": [
    "### Some of the interactions are zero, so we remove them"
   ]
  },
  {
   "cell_type": "markdown",
   "metadata": {},
   "source": [
    "When we compute the interaction matrices, some of the above channels are equal to zero, so we are going to remove them from our list. These channels should be removed: [\"Galp-Galr1\", \"Gip-Gipr\", \"Pomc-Mc3r\", \"Pmch-Mchr1\", \"Npvf-Npffr1\", \"Nps-Npsr1\"]"
   ]
  },
  {
   "cell_type": "code",
   "execution_count": 23,
   "metadata": {},
   "outputs": [],
   "source": [
    "rm_layers = [\"Galp-Galr1\", \"Gip-Gipr\", \"Pomc-Mc3r\", \"Pmch-Mchr1\", \"Npvf-Npffr1\", \"Nps-Npsr1\"]\n",
    "keep_layers = [l for l in Cognate_Pairs['layer'].tolist() if l not in rm_layers]\n",
    "Cognate_Pairs = Cognate_Pairs[Cognate_Pairs['layer'].isin(keep_layers)]"
   ]
  },
  {
   "cell_type": "code",
   "execution_count": 24,
   "metadata": {},
   "outputs": [
    {
     "data": {
      "text/plain": [
       "(66, 10)"
      ]
     },
     "execution_count": 24,
     "metadata": {},
     "output_type": "execute_result"
    }
   ],
   "source": [
    "Cognate_Pairs.shape"
   ]
  },
  {
   "cell_type": "code",
   "execution_count": 25,
   "metadata": {},
   "outputs": [
    {
     "name": "stdout",
     "output_type": "stream",
     "text": [
      "Number of I communication channel: 25\n",
      "Number of S communication channel: 24\n",
      "Number of Q communication channel: 17\n"
     ]
    }
   ],
   "source": [
    "I_layers = Cognate_Pairs[Cognate_Pairs.Class==\"I\"][\"layer\"].tolist()\n",
    "print(\"Number of I communication channel:\", len(I_layers))\n",
    "S_layers = Cognate_Pairs[Cognate_Pairs.Class==\"S\"][\"layer\"].tolist()\n",
    "print(\"Number of S communication channel:\", len(S_layers))\n",
    "Q_layers = Cognate_Pairs[Cognate_Pairs.Class==\"Q\"][\"layer\"].tolist()\n",
    "print(\"Number of Q communication channel:\", len(Q_layers))"
   ]
  },
  {
   "cell_type": "markdown",
   "metadata": {},
   "source": [
    "## I, S and Q graphs"
   ]
  },
  {
   "cell_type": "markdown",
   "metadata": {},
   "source": [
    "Each of the 66 graphs were normalized by their max value. Then 25 I graphs, 24 S graphs and 17 Q graphs were added together:"
   ]
  },
  {
   "cell_type": "code",
   "execution_count": 26,
   "metadata": {},
   "outputs": [],
   "source": [
    "normalized_mat = {}\n",
    "keys = [\"I\", \"S\", \"Q\"]\n",
    "for idx, l in enumerate([I_layers, S_layers, Q_layers]):\n",
    "    mat = utils.read_npp_interaction_matrices(version=\"7.0\", which_layers=l)\n",
    "    mat = mat.loc[ordered_cl][ordered_cl]\n",
    "    mat.index = [str(i) for i in range(mat.shape[0])]\n",
    "    mat.columns = [str(i) for i in range(mat.shape[0])]\n",
    "    normalized_mat[keys[idx]] = mat"
   ]
  },
  {
   "cell_type": "code",
   "execution_count": 27,
   "metadata": {},
   "outputs": [
    {
     "data": {
      "text/plain": [
       "<matplotlib.axes._subplots.AxesSubplot at 0x7fad73be7e90>"
      ]
     },
     "execution_count": 27,
     "metadata": {},
     "output_type": "execute_result"
    },
    {
     "data": {
      "image/png": "[encoded data removed]",
      "text/plain": [
       "<Figure size 432x288 with 2 Axes>"
      ]
     },
     "metadata": {
      "needs_background": "light"
     },
     "output_type": "display_data"
    }
   ],
   "source": [
    "sns.heatmap(normalized_mat[\"I\"])"
   ]
  },
  {
   "cell_type": "code",
   "execution_count": 20,
   "metadata": {},
   "outputs": [
    {
     "data": {
      "text/plain": [
       "<matplotlib.axes._subplots.AxesSubplot at 0x7f9acb622190>"
      ]
     },
     "execution_count": 20,
     "metadata": {},
     "output_type": "execute_result"
    },
    {
     "data": {
      "image/png": "[encoded data removed]",
      "text/plain": [
       "<Figure size 432x288 with 2 Axes>"
      ]
     },
     "metadata": {
      "needs_background": "light"
     },
     "output_type": "display_data"
    }
   ],
   "source": [
    "sns.heatmap(normalized_mat[\"S\"])"
   ]
  },
  {
   "cell_type": "code",
   "execution_count": 21,
   "metadata": {},
   "outputs": [
    {
     "data": {
      "text/plain": [
       "<matplotlib.axes._subplots.AxesSubplot at 0x7f9ac8f89750>"
      ]
     },
     "execution_count": 21,
     "metadata": {},
     "output_type": "execute_result"
    },
    {
     "data": {
      "image/png": "[encoded data removed]",
      "text/plain": [
       "<Figure size 432x288 with 2 Axes>"
      ]
     },
     "metadata": {
      "needs_background": "light"
     },
     "output_type": "display_data"
    }
   ],
   "source": [
    "sns.heatmap(normalized_mat[\"Q\"])"
   ]
  },
  {
   "cell_type": "markdown",
   "metadata": {},
   "source": [
    "## Defining edge types"
   ]
  },
  {
   "cell_type": "code",
   "execution_count": 25,
   "metadata": {},
   "outputs": [],
   "source": [
    "edge = {}\n",
    "for k,v in normalized_mat.items():\n",
    "    edge[k] = v.stack().reset_index().rename(columns={0:\"weight\", \"level_0\":\"source\", \"level_1\":\"target\"})"
   ]
  },
  {
   "cell_type": "code",
   "execution_count": 61,
   "metadata": {},
   "outputs": [
    {
     "data": {
      "text/html": [
       "<div>\n",
       "<style scoped>\n",
       "    .dataframe tbody tr th:only-of-type {\n",
       "        vertical-align: middle;\n",
       "    }\n",
       "\n",
       "    .dataframe tbody tr th {\n",
       "        vertical-align: top;\n",
       "    }\n",
       "\n",
       "    .dataframe thead th {\n",
       "        text-align: right;\n",
       "    }\n",
       "</style>\n",
       "<table border=\"1\" class=\"dataframe\">\n",
       "  <thead>\n",
       "    <tr style=\"text-align: right;\">\n",
       "      <th></th>\n",
       "      <th>source</th>\n",
       "      <th>target</th>\n",
       "      <th>weight</th>\n",
       "    </tr>\n",
       "  </thead>\n",
       "  <tbody>\n",
       "    <tr>\n",
       "      <th>0</th>\n",
       "      <td>0</td>\n",
       "      <td>0</td>\n",
       "      <td>0.9206</td>\n",
       "    </tr>\n",
       "    <tr>\n",
       "      <th>1</th>\n",
       "      <td>0</td>\n",
       "      <td>1</td>\n",
       "      <td>1.4323</td>\n",
       "    </tr>\n",
       "    <tr>\n",
       "      <th>2</th>\n",
       "      <td>0</td>\n",
       "      <td>2</td>\n",
       "      <td>1.3319</td>\n",
       "    </tr>\n",
       "    <tr>\n",
       "      <th>3</th>\n",
       "      <td>0</td>\n",
       "      <td>3</td>\n",
       "      <td>1.1326</td>\n",
       "    </tr>\n",
       "    <tr>\n",
       "      <th>4</th>\n",
       "      <td>0</td>\n",
       "      <td>4</td>\n",
       "      <td>1.2751</td>\n",
       "    </tr>\n",
       "  </tbody>\n",
       "</table>\n",
       "</div>"
      ],
      "text/plain": [
       "  source target  weight\n",
       "0      0      0  0.9206\n",
       "1      0      1  1.4323\n",
       "2      0      2  1.3319\n",
       "3      0      3  1.1326\n",
       "4      0      4  1.2751"
      ]
     },
     "execution_count": 61,
     "metadata": {},
     "output_type": "execute_result"
    }
   ],
   "source": [
    "edge[\"I\"].head()"
   ]
  },
  {
   "cell_type": "code",
   "execution_count": 26,
   "metadata": {},
   "outputs": [],
   "source": [
    "combined_edges = edge[\"I\"].merge(edge[\"S\"].merge(edge[\"Q\"], on=[\"source\", \"target\"]), on=[\"source\", \"target\"])\n",
    "combined_edges.columns = [\"source\", \"target\", \"weight_I\", \"weight_S\", \"weight_Q\"]"
   ]
  },
  {
   "cell_type": "code",
   "execution_count": 27,
   "metadata": {},
   "outputs": [
    {
     "data": {
      "text/html": [
       "<div>\n",
       "<style scoped>\n",
       "    .dataframe tbody tr th:only-of-type {\n",
       "        vertical-align: middle;\n",
       "    }\n",
       "\n",
       "    .dataframe tbody tr th {\n",
       "        vertical-align: top;\n",
       "    }\n",
       "\n",
       "    .dataframe thead th {\n",
       "        text-align: right;\n",
       "    }\n",
       "</style>\n",
       "<table border=\"1\" class=\"dataframe\">\n",
       "  <thead>\n",
       "    <tr style=\"text-align: right;\">\n",
       "      <th></th>\n",
       "      <th>source</th>\n",
       "      <th>target</th>\n",
       "      <th>weight_I</th>\n",
       "      <th>weight_S</th>\n",
       "      <th>weight_Q</th>\n",
       "      <th>weight_sum</th>\n",
       "      <th>norm_weight_I</th>\n",
       "      <th>norm_weight_S</th>\n",
       "      <th>norm_weight_Q</th>\n",
       "    </tr>\n",
       "  </thead>\n",
       "  <tbody>\n",
       "    <tr>\n",
       "      <th>0</th>\n",
       "      <td>0</td>\n",
       "      <td>0</td>\n",
       "      <td>0.9206</td>\n",
       "      <td>2.3521</td>\n",
       "      <td>1.4272</td>\n",
       "      <td>4.6999</td>\n",
       "      <td>0.1959</td>\n",
       "      <td>0.5005</td>\n",
       "      <td>0.3037</td>\n",
       "    </tr>\n",
       "    <tr>\n",
       "      <th>1</th>\n",
       "      <td>0</td>\n",
       "      <td>1</td>\n",
       "      <td>1.4323</td>\n",
       "      <td>2.3779</td>\n",
       "      <td>1.6164</td>\n",
       "      <td>5.4266</td>\n",
       "      <td>0.2639</td>\n",
       "      <td>0.4382</td>\n",
       "      <td>0.2979</td>\n",
       "    </tr>\n",
       "    <tr>\n",
       "      <th>2</th>\n",
       "      <td>0</td>\n",
       "      <td>2</td>\n",
       "      <td>1.3319</td>\n",
       "      <td>1.9625</td>\n",
       "      <td>1.5050</td>\n",
       "      <td>4.7994</td>\n",
       "      <td>0.2775</td>\n",
       "      <td>0.4089</td>\n",
       "      <td>0.3136</td>\n",
       "    </tr>\n",
       "    <tr>\n",
       "      <th>3</th>\n",
       "      <td>0</td>\n",
       "      <td>3</td>\n",
       "      <td>1.1326</td>\n",
       "      <td>2.1334</td>\n",
       "      <td>0.9188</td>\n",
       "      <td>4.1848</td>\n",
       "      <td>0.2706</td>\n",
       "      <td>0.5098</td>\n",
       "      <td>0.2196</td>\n",
       "    </tr>\n",
       "    <tr>\n",
       "      <th>4</th>\n",
       "      <td>0</td>\n",
       "      <td>4</td>\n",
       "      <td>1.2751</td>\n",
       "      <td>2.1467</td>\n",
       "      <td>1.2789</td>\n",
       "      <td>4.7007</td>\n",
       "      <td>0.2713</td>\n",
       "      <td>0.4567</td>\n",
       "      <td>0.2721</td>\n",
       "    </tr>\n",
       "  </tbody>\n",
       "</table>\n",
       "</div>"
      ],
      "text/plain": [
       "  source target  weight_I  weight_S  weight_Q  weight_sum  norm_weight_I  \\\n",
       "0      0      0    0.9206    2.3521    1.4272      4.6999         0.1959   \n",
       "1      0      1    1.4323    2.3779    1.6164      5.4266         0.2639   \n",
       "2      0      2    1.3319    1.9625    1.5050      4.7994         0.2775   \n",
       "3      0      3    1.1326    2.1334    0.9188      4.1848         0.2706   \n",
       "4      0      4    1.2751    2.1467    1.2789      4.7007         0.2713   \n",
       "\n",
       "   norm_weight_S  norm_weight_Q  \n",
       "0         0.5005         0.3037  \n",
       "1         0.4382         0.2979  \n",
       "2         0.4089         0.3136  \n",
       "3         0.5098         0.2196  \n",
       "4         0.4567         0.2721  "
      ]
     },
     "execution_count": 27,
     "metadata": {},
     "output_type": "execute_result"
    }
   ],
   "source": [
    "combined_edges['weight_sum'] = combined_edges[\"weight_I\"] + combined_edges[\"weight_S\"] + combined_edges[\"weight_Q\"]\n",
    "combined_edges['norm_weight_I'] = combined_edges[\"weight_I\"] / combined_edges['weight_sum']\n",
    "combined_edges['norm_weight_S'] = combined_edges[\"weight_S\"] / combined_edges['weight_sum']\n",
    "combined_edges['norm_weight_Q'] = combined_edges[\"weight_Q\"] / combined_edges['weight_sum']\n",
    "combined_edges.head()"
   ]
  },
  {
   "cell_type": "code",
   "execution_count": 28,
   "metadata": {},
   "outputs": [],
   "source": [
    "signed_edges = {}\n",
    "\n",
    "for idx, row in combined_edges.iterrows():\n",
    "    edge_prob = []\n",
    "    edge_prob.append(row['norm_weight_I'])\n",
    "    edge_prob.append(row['norm_weight_S'])\n",
    "    edge_prob.append(row['norm_weight_Q'])\n",
    "    signed_edges[(row['source'], row['target'])] = edge_prob"
   ]
  },
  {
   "cell_type": "code",
   "execution_count": 30,
   "metadata": {},
   "outputs": [],
   "source": [
    "combined_edges.to_csv(\"/Users/fahimehb/Documents/NPP_GNN_project/models/VISp/combined_layers/Interaction_mats_7.0/edge_type.csv\")"
   ]
  },
  {
   "cell_type": "markdown",
   "metadata": {},
   "source": [
    "# Build the combined graph and walk"
   ]
  },
  {
   "cell_type": "code",
   "execution_count": 28,
   "metadata": {},
   "outputs": [
    {
     "data": {
      "text/plain": [
       "<matplotlib.axes._subplots.AxesSubplot at 0x7fad752834d0>"
      ]
     },
     "execution_count": 28,
     "metadata": {},
     "output_type": "execute_result"
    },
    {
     "data": {
      "image/png": "[encoded data removed]",
      "text/plain": [
       "<Figure size 432x288 with 2 Axes>"
      ]
     },
     "metadata": {
      "needs_background": "light"
     },
     "output_type": "display_data"
    }
   ],
   "source": [
    "total_mat = normalized_mat[\"I\"] + normalized_mat[\"S\"] + normalized_mat[\"Q\"]\n",
    "sns.heatmap(total_mat)"
   ]
  },
  {
   "cell_type": "code",
   "execution_count": 32,
   "metadata": {},
   "outputs": [],
   "source": [
    "tmp = graph_utils.keep_k_percentile_of_each_col_and_each_row(graph_utils.apply_doubly_stochastic(total_mat), 0.3)"
   ]
  },
  {
   "cell_type": "code",
   "execution_count": 35,
   "metadata": {},
   "outputs": [
    {
     "data": {
      "text/plain": [
       "0    0.3183\n",
       "1    0.2972\n",
       "2    0.2921\n",
       "3    0.3185\n",
       "4    0.3333\n",
       "      ...  \n",
       "88   0.4481\n",
       "89   0.4446\n",
       "90   0.4732\n",
       "91   0.4667\n",
       "92   0.4431\n",
       "Length: 93, dtype: float64"
      ]
     },
     "execution_count": 35,
     "metadata": {},
     "output_type": "execute_result"
    }
   ],
   "source": [
    "np.sum(tmp, axis=0)"
   ]
  },
  {
   "cell_type": "code",
   "execution_count": 54,
   "metadata": {},
   "outputs": [],
   "source": [
    "percentile = 0.30\n",
    "\n",
    "mask = graph_utils.keep_k_percentile_of_each_col_and_each_row(total_mat, percentile)\n",
    "double_stochastic = graph_utils.apply_doubly_stochastic(mask)"
   ]
  },
  {
   "cell_type": "code",
   "execution_count": 55,
   "metadata": {},
   "outputs": [],
   "source": [
    "double_stochastic.to_csv(\"/Users/fahimehb/Documents/NPP_GNN_project/models/VISp/combined_layers/Interaction_mats_7.0/run2/graph.csv\")"
   ]
  },
  {
   "cell_type": "code",
   "execution_count": 4,
   "metadata": {},
   "outputs": [],
   "source": [
    "double_stochastic = pd.read_csv(\"/Users/fahimehb/Documents/NPP_GNN_project/models/VISp/combined_layers/Interaction_mats_7.0/run2/graph.csv\", index_col=\"Unnamed: 0\")\n",
    "double_stochastic.index = [str(i) for i in double_stochastic.index]"
   ]
  },
  {
   "cell_type": "code",
   "execution_count": 5,
   "metadata": {},
   "outputs": [
    {
     "data": {
      "text/plain": [
       "<matplotlib.axes._subplots.AxesSubplot at 0x7ffe010f0990>"
      ]
     },
     "execution_count": 5,
     "metadata": {},
     "output_type": "execute_result"
    },
    {
     "data": {
      "image/png": "[encoded data removed]",
      "text/plain": [
       "<Figure size 432x288 with 2 Axes>"
      ]
     },
     "metadata": {
      "needs_background": "light"
     },
     "output_type": "display_data"
    }
   ],
   "source": [
    "%matplotlib inline\n",
    "sns.heatmap(double_stochastic)"
   ]
  },
  {
   "cell_type": "code",
   "execution_count": 57,
   "metadata": {
    "collapsed": true,
    "jupyter": {
     "outputs_hidden": true
    }
   },
   "outputs": [
    {
     "name": "stdout",
     "output_type": "stream",
     "text": [
      "Building a directed graph edge list\n",
      "Checking all the weights on all the edges!\n",
      "Computing the node importance!\n",
      "0\n",
      "1\n",
      "2\n",
      "3\n",
      "4\n",
      "5\n",
      "6\n",
      "7\n",
      "8\n",
      "9\n",
      "10\n",
      "11\n",
      "12\n",
      "13\n",
      "14\n",
      "15\n",
      "16\n",
      "17\n",
      "18\n",
      "19\n",
      "20\n",
      "21\n",
      "22\n",
      "23\n",
      "24\n",
      "25\n",
      "26\n",
      "27\n",
      "28\n",
      "29\n",
      "30\n",
      "31\n",
      "32\n",
      "33\n",
      "34\n",
      "35\n",
      "36\n",
      "37\n",
      "38\n",
      "39\n",
      "40\n",
      "41\n",
      "42\n",
      "43\n",
      "44\n",
      "45\n",
      "46\n",
      "47\n",
      "48\n",
      "49\n",
      "50\n",
      "51\n",
      "52\n",
      "53\n",
      "54\n",
      "55\n",
      "56\n",
      "57\n",
      "58\n",
      "59\n",
      "60\n",
      "61\n",
      "62\n",
      "63\n",
      "64\n",
      "65\n",
      "66\n",
      "67\n",
      "68\n",
      "69\n",
      "70\n",
      "71\n",
      "72\n",
      "73\n",
      "74\n",
      "75\n",
      "76\n",
      "77\n",
      "78\n",
      "79\n",
      "80\n",
      "81\n",
      "82\n",
      "83\n",
      "84\n",
      "85\n",
      "86\n",
      "87\n",
      "88\n",
      "89\n",
      "90\n",
      "91\n",
      "92\n"
     ]
    }
   ],
   "source": [
    "edges = graph_utils.build_edge_list(weight_matrix=double_stochastic, threshold=None, directed=True)\n",
    "nxg = graph_utils.build_nx_graph(source_target_weight=edges, directed=True)\n",
    "\n",
    "# 2) Create stellar Di graphs\n",
    "sdg = StellarDiGraph(nxg)\n",
    "BDWW.BeginWalk(sdg, begin_checks=True, weighted=True, directed=True)\n",
    "rw = BDWW.BiasedDirectedRandomWalk(sdg, directed=True, weighted=True, begin_checks=False)\n",
    "\n",
    "nodes = list(sdg.nodes())\n",
    "walks = rw.run(nodes=nodes, length=100, n=100, p=1, q=1, weighted=True, directed=True)"
   ]
  },
  {
   "cell_type": "code",
   "execution_count": 58,
   "metadata": {},
   "outputs": [
    {
     "name": "stdout",
     "output_type": "stream",
     "text": [
      "Done writing!\n"
     ]
    }
   ],
   "source": [
    "utils.write_list_of_lists_to_csv(\"/Users/fahimehb/Documents/NPP_GNN_project/models/VISp/combined_layers/Interaction_mats_7.0/run2/Jan12_walk_100s_100l.csv\", walks)"
   ]
  },
  {
   "cell_type": "markdown",
   "metadata": {},
   "source": [
    "## Results"
   ]
  },
  {
   "cell_type": "code",
   "execution_count": 26,
   "metadata": {},
   "outputs": [],
   "source": [
    "prefix = \"/run3/output\"\n",
    "finished_epoch = 2900 + 100\n",
    "nandcg_E = []\n",
    "nandcg_R = []\n",
    "for e in range(0, finished_epoch, 100):\n",
    "    epoch = e\n",
    "    n_emb = 5\n",
    "\n",
    "    E = pd.read_csv(\"/Users/fahimehb/Documents/NPP_GNN_project/models/VISp/combined_layers/Interaction_mats_7.0/\" + \n",
    "                    prefix + \"_\" + str(epoch) + \"_E_w1_\" + str(n_emb) + \"d.csv\", index_col=\"Unnamed: 0\")\n",
    "    R = pd.read_csv(\"/Users/fahimehb/Documents/NPP_GNN_project/models/VISp/combined_layers/Interaction_mats_7.0/\" + \n",
    "                    prefix + \"_\" + str(epoch) + \"_R_w1_\" + str(n_emb) + \"d.csv\", index_col=\"Unnamed: 0\")\n",
    "\n",
    "    E.index = E.index.astype(str)\n",
    "    R.index = R.index.astype(str)\n",
    "    \n",
    "\n",
    "    E_to_R_dist = analysis.get_distance_between_eachrow_of_one_df_with_all_rows_of_other_df(E[[\"Z\" + str(i) for i in range(n_emb)]], \n",
    "                                                                                        R[[\"Z\" + str(i) for i in range(n_emb)]])\n",
    "    \n",
    "    nandcg_E.append(analysis.Compute_node_average_ndcg(adj=double_stochastic, e_to_r=E_to_R_dist, k=7))   \n",
    "    nandcg_R.append(analysis.Compute_node_average_ndcg(adj=double_stochastic.T, e_to_r=E_to_R_dist.T, k=7))   "
   ]
  },
  {
   "cell_type": "code",
   "execution_count": 9,
   "metadata": {},
   "outputs": [
    {
     "data": {
      "text/plain": [
       "<matplotlib.legend.Legend at 0x7ffe0055b1d0>"
      ]
     },
     "execution_count": 9,
     "metadata": {},
     "output_type": "execute_result"
    },
    {
     "data": {
      "image/png": "[encoded data removed]",
      "text/plain": [
       "<Figure size 432x288 with 1 Axes>"
      ]
     },
     "metadata": {
      "needs_background": "light"
     },
     "output_type": "display_data"
    }
   ],
   "source": [
    "plt.scatter([i for i in range(0, finished_epoch, 100)],nandcg_E, color='blue')\n",
    "plt.plot([i for i in range(0, finished_epoch, 100)], nandcg_E, color='blue', label='nandcg_E')\n",
    "plt.scatter([i for i in range(0, finished_epoch, 100)],nandcg_R, color='red')\n",
    "plt.plot([i for i in range(0, finished_epoch, 100)], nandcg_R, color='red', label='nandcg_R')\n",
    "plt.xlabel(\"epochs\")\n",
    "plt.ylabel(\"nandcg@7\")\n",
    "plt.legend()"
   ]
  },
  {
   "cell_type": "code",
   "execution_count": 31,
   "metadata": {},
   "outputs": [
    {
     "data": {
      "text/plain": [
       "<matplotlib.legend.Legend at 0x7ffdefd6fed0>"
      ]
     },
     "execution_count": 31,
     "metadata": {},
     "output_type": "execute_result"
    },
    {
     "data": {
      "image/png": "[encoded data removed]",
      "text/plain": [
       "<Figure size 432x288 with 1 Axes>"
      ]
     },
     "metadata": {
      "needs_background": "light"
     },
     "output_type": "display_data"
    }
   ],
   "source": [
    "%matplotlib inline\n",
    "plt.scatter([i for i in range(0, finished_epoch, 100)],nandcg_E, color='blue')\n",
    "plt.plot([i for i in range(0, finished_epoch, 100)], nandcg_E, color='blue', label='nandcg_E')\n",
    "plt.scatter([i for i in range(0, finished_epoch, 100)],nandcg_R, color='red')\n",
    "plt.plot([i for i in range(0, finished_epoch, 100)], nandcg_R, color='red', label='nandcg_R')\n",
    "plt.xlabel(\"epochs\")\n",
    "plt.ylabel(\"nandcg@7\")\n",
    "plt.legend()"
   ]
  },
  {
   "cell_type": "code",
   "execution_count": 30,
   "metadata": {},
   "outputs": [
    {
     "data": {
      "text/plain": [
       "[<matplotlib.lines.Line2D at 0x7fe902658e90>]"
      ]
     },
     "execution_count": 30,
     "metadata": {},
     "output_type": "execute_result"
    }
   ],
   "source": [
    "# plt.plot(pd.read_csv(\"/Users/fahimehb/Documents/NPP_GNN_project/dat/run_results/signed_npp_version1_30percentile_run3_sign_loss.csv\", header=None).loc[0].tolist())"
   ]
  },
  {
   "cell_type": "code",
   "execution_count": 37,
   "metadata": {},
   "outputs": [],
   "source": [
    "emit, rece = analysis.summarize_embedding_results(E, R, \"cluster_label\", cldf)"
   ]
  },
  {
   "cell_type": "code",
   "execution_count": 38,
   "metadata": {},
   "outputs": [],
   "source": [
    "emb_umap = analysis.Compute_umap(pd.concat((emit, rece)), 5)\n",
    "em = emb_umap[emb_umap['node_act']==\"E\"]\n",
    "em = em.set_index('cluster_id')\n",
    "\n",
    "re = emb_umap[emb_umap['node_act']==\"R\"]\n",
    "re = re.set_index('cluster_id')"
   ]
  },
  {
   "cell_type": "code",
   "execution_count": 44,
   "metadata": {},
   "outputs": [],
   "source": [
    "%matplotlib qt5\n",
    "plot_utils.plot_ER(emitter=em,\n",
    "                  receiver=re,\n",
    "                  figsize=(10,10),\n",
    "                  plot_dim=2,\n",
    "                  annotation=False,\n",
    "                  resolution=\"cluster_label\",\n",
    "                  side_by_side=True,ylim=(-7,10),\n",
    "                  )"
   ]
  },
  {
   "cell_type": "code",
   "execution_count": 25,
   "metadata": {},
   "outputs": [
    {
     "data": {
      "text/html": [
       "<div>\n",
       "<style scoped>\n",
       "    .dataframe tbody tr th:only-of-type {\n",
       "        vertical-align: middle;\n",
       "    }\n",
       "\n",
       "    .dataframe tbody tr th {\n",
       "        vertical-align: top;\n",
       "    }\n",
       "\n",
       "    .dataframe thead th {\n",
       "        text-align: right;\n",
       "    }\n",
       "</style>\n",
       "<table border=\"1\" class=\"dataframe\">\n",
       "  <thead>\n",
       "    <tr style=\"text-align: right;\">\n",
       "      <th></th>\n",
       "      <th>Z0</th>\n",
       "      <th>Z1</th>\n",
       "      <th>node_act</th>\n",
       "      <th>dendcluster_id</th>\n",
       "      <th>cluster_label</th>\n",
       "      <th>colors</th>\n",
       "      <th>cluster_color</th>\n",
       "      <th>subclass_id</th>\n",
       "      <th>subclass_label</th>\n",
       "      <th>subclass_color</th>\n",
       "      <th>class_id</th>\n",
       "      <th>class_label</th>\n",
       "      <th>class_color</th>\n",
       "      <th>dist</th>\n",
       "    </tr>\n",
       "  </thead>\n",
       "  <tbody>\n",
       "    <tr>\n",
       "      <th>E_62</th>\n",
       "      <td>-1.4841</td>\n",
       "      <td>1.0831</td>\n",
       "      <td>E</td>\n",
       "      <td>85</td>\n",
       "      <td>Sst Chodl</td>\n",
       "      <td>#FFFF00</td>\n",
       "      <td>#FFFF00</td>\n",
       "      <td>5</td>\n",
       "      <td>Sst</td>\n",
       "      <td>#F15A29</td>\n",
       "      <td>1</td>\n",
       "      <td>GABAergic</td>\n",
       "      <td>#EF4136</td>\n",
       "      <td>0.0000</td>\n",
       "    </tr>\n",
       "    <tr>\n",
       "      <th>E_63</th>\n",
       "      <td>-1.4861</td>\n",
       "      <td>1.0841</td>\n",
       "      <td>E</td>\n",
       "      <td>86</td>\n",
       "      <td>Sst Mme Fam114a1</td>\n",
       "      <td>#FFBB33</td>\n",
       "      <td>#FFBB33</td>\n",
       "      <td>5</td>\n",
       "      <td>Sst</td>\n",
       "      <td>#F15A29</td>\n",
       "      <td>1</td>\n",
       "      <td>GABAergic</td>\n",
       "      <td>#EF4136</td>\n",
       "      <td>0.0022</td>\n",
       "    </tr>\n",
       "    <tr>\n",
       "      <th>E_77</th>\n",
       "      <td>-1.4799</td>\n",
       "      <td>1.0844</td>\n",
       "      <td>E</td>\n",
       "      <td>100</td>\n",
       "      <td>Sst Crh 4930553C11Rik</td>\n",
       "      <td>#C77767</td>\n",
       "      <td>#C77767</td>\n",
       "      <td>5</td>\n",
       "      <td>Sst</td>\n",
       "      <td>#F15A29</td>\n",
       "      <td>1</td>\n",
       "      <td>GABAergic</td>\n",
       "      <td>#EF4136</td>\n",
       "      <td>0.0044</td>\n",
       "    </tr>\n",
       "    <tr>\n",
       "      <th>E_84</th>\n",
       "      <td>-1.4797</td>\n",
       "      <td>1.0853</td>\n",
       "      <td>E</td>\n",
       "      <td>107</td>\n",
       "      <td>Pvalb Th Sst</td>\n",
       "      <td>#FF2F7E</td>\n",
       "      <td>#FF2F7E</td>\n",
       "      <td>6</td>\n",
       "      <td>Pvalb</td>\n",
       "      <td>#D93137</td>\n",
       "      <td>1</td>\n",
       "      <td>GABAergic</td>\n",
       "      <td>#EF4136</td>\n",
       "      <td>0.0050</td>\n",
       "    </tr>\n",
       "    <tr>\n",
       "      <th>E_82</th>\n",
       "      <td>-1.4808</td>\n",
       "      <td>1.0879</td>\n",
       "      <td>E</td>\n",
       "      <td>105</td>\n",
       "      <td>Sst Nts</td>\n",
       "      <td>#A81111</td>\n",
       "      <td>#A81111</td>\n",
       "      <td>5</td>\n",
       "      <td>Sst</td>\n",
       "      <td>#F15A29</td>\n",
       "      <td>1</td>\n",
       "      <td>GABAergic</td>\n",
       "      <td>#EF4136</td>\n",
       "      <td>0.0058</td>\n",
       "    </tr>\n",
       "  </tbody>\n",
       "</table>\n",
       "</div>"
      ],
      "text/plain": [
       "          Z0     Z1 node_act  dendcluster_id          cluster_label   colors  \\\n",
       "E_62 -1.4841 1.0831        E              85              Sst Chodl  #FFFF00   \n",
       "E_63 -1.4861 1.0841        E              86       Sst Mme Fam114a1  #FFBB33   \n",
       "E_77 -1.4799 1.0844        E             100  Sst Crh 4930553C11Rik  #C77767   \n",
       "E_84 -1.4797 1.0853        E             107           Pvalb Th Sst  #FF2F7E   \n",
       "E_82 -1.4808 1.0879        E             105                Sst Nts  #A81111   \n",
       "\n",
       "     cluster_color  subclass_id subclass_label subclass_color  class_id  \\\n",
       "E_62       #FFFF00            5            Sst        #F15A29         1   \n",
       "E_63       #FFBB33            5            Sst        #F15A29         1   \n",
       "E_77       #C77767            5            Sst        #F15A29         1   \n",
       "E_84       #FF2F7E            6          Pvalb        #D93137         1   \n",
       "E_82       #A81111            5            Sst        #F15A29         1   \n",
       "\n",
       "     class_label class_color   dist  \n",
       "E_62   GABAergic     #EF4136 0.0000  \n",
       "E_63   GABAergic     #EF4136 0.0022  \n",
       "E_77   GABAergic     #EF4136 0.0044  \n",
       "E_84   GABAergic     #EF4136 0.0050  \n",
       "E_82   GABAergic     #EF4136 0.0058  "
      ]
     },
     "execution_count": 25,
     "metadata": {},
     "output_type": "execute_result"
    }
   ],
   "source": [
    "df = analysis.get_closest_nodes(emb=pd.concat([emit, rece]), \n",
    "                           index=[\"E_\" + i for i in E.index.tolist()] + [\"R_\" + i for i in R.index.tolist()], \n",
    "                           node=\"E_62\",\n",
    "                           topn=5, \n",
    "                           coordinate_cols=[\"Z0\", \"Z1\"])\n",
    "# plot_utils.plot_3D(df, annotation=True, annotation_col=\"cluster_label\")\n",
    "df"
   ]
  },
  {
   "cell_type": "code",
   "execution_count": 602,
   "metadata": {},
   "outputs": [
    {
     "data": {
      "text/plain": [
       "0    20\n",
       "1    37\n",
       "2    19\n",
       "3    41\n",
       "4    39\n",
       "Name: 62, dtype: int64"
      ]
     },
     "execution_count": 602,
     "metadata": {},
     "output_type": "execute_result"
    }
   ],
   "source": [
    "np.argsort(-1 * double_stochastic.loc['62'])[0:5]"
   ]
  },
  {
   "cell_type": "code",
   "execution_count": 603,
   "metadata": {},
   "outputs": [
    {
     "data": {
      "text/plain": [
       "0    73\n",
       "1    74\n",
       "2    69\n",
       "3    81\n",
       "4    66\n",
       "Name: 79, dtype: int64"
      ]
     },
     "execution_count": 603,
     "metadata": {},
     "output_type": "execute_result"
    }
   ],
   "source": [
    "np.argsort(-1 * double_stochastic.loc['79'])[0:5]"
   ]
  },
  {
   "cell_type": "code",
   "execution_count": 610,
   "metadata": {},
   "outputs": [
    {
     "data": {
      "text/html": [
       "<div>\n",
       "<style scoped>\n",
       "    .dataframe tbody tr th:only-of-type {\n",
       "        vertical-align: middle;\n",
       "    }\n",
       "\n",
       "    .dataframe tbody tr th {\n",
       "        vertical-align: top;\n",
       "    }\n",
       "\n",
       "    .dataframe thead th {\n",
       "        text-align: right;\n",
       "    }\n",
       "</style>\n",
       "<table border=\"1\" class=\"dataframe\">\n",
       "  <thead>\n",
       "    <tr style=\"text-align: right;\">\n",
       "      <th></th>\n",
       "      <th>source</th>\n",
       "      <th>target</th>\n",
       "      <th>weight_I</th>\n",
       "      <th>weight_E</th>\n",
       "      <th>weight_Q</th>\n",
       "      <th>weight_sum</th>\n",
       "      <th>norm_weight_I</th>\n",
       "      <th>norm_weight_E</th>\n",
       "      <th>norm_weight_Q</th>\n",
       "    </tr>\n",
       "  </thead>\n",
       "  <tbody>\n",
       "    <tr>\n",
       "      <th>5786</th>\n",
       "      <td>62</td>\n",
       "      <td>20</td>\n",
       "      <td>0.0454</td>\n",
       "      <td>0.0787</td>\n",
       "      <td>0.0000</td>\n",
       "      <td>0.1241</td>\n",
       "      <td>0.3659</td>\n",
       "      <td>0.6341</td>\n",
       "      <td>0.0000</td>\n",
       "    </tr>\n",
       "  </tbody>\n",
       "</table>\n",
       "</div>"
      ],
      "text/plain": [
       "     source target  weight_I  weight_E  weight_Q  weight_sum  norm_weight_I  \\\n",
       "5786     62     20    0.0454    0.0787    0.0000      0.1241         0.3659   \n",
       "\n",
       "      norm_weight_E  norm_weight_Q  \n",
       "5786         0.6341         0.0000  "
      ]
     },
     "execution_count": 610,
     "metadata": {},
     "output_type": "execute_result"
    }
   ],
   "source": [
    "combined_edges[(combined_edges.source==\"62\") & (combined_edges.target==\"20\")]"
   ]
  },
  {
   "cell_type": "code",
   "execution_count": 52,
   "metadata": {},
   "outputs": [],
   "source": [
    "combined_E_R = R.reset_index().merge(E.reset_index(), on = \"index\")\n",
    "combined_E_R.columns = [\"cluster_id\",\"Z0\", \"Z1\", \"Z2\", \"Z3\"]\n",
    "combined_E_R = combined_E_R.set_index(\"cluster_id\", drop=True)\n",
    "combined_E_R = combined_E_R.merge(cldf, on=\"cluster_id\")"
   ]
  },
  {
   "cell_type": "code",
   "execution_count": 53,
   "metadata": {},
   "outputs": [],
   "source": [
    "umap_emb = analysis.Compute_umap(combined_E_R, 4)\n",
    "umap_emb = umap_emb.set_index(\"cluster_id\", drop=True)"
   ]
  },
  {
   "cell_type": "code",
   "execution_count": 54,
   "metadata": {},
   "outputs": [],
   "source": [
    "%matplotlib qt5\n",
    "fig = plot_utils.plot_embedding(umap_emb, 2, annotation=True, scatter_point_size=100)"
   ]
  },
  {
   "cell_type": "code",
   "execution_count": 613,
   "metadata": {},
   "outputs": [
    {
     "data": {
      "text/html": [
       "<div>\n",
       "<style scoped>\n",
       "    .dataframe tbody tr th:only-of-type {\n",
       "        vertical-align: middle;\n",
       "    }\n",
       "\n",
       "    .dataframe tbody tr th {\n",
       "        vertical-align: top;\n",
       "    }\n",
       "\n",
       "    .dataframe thead th {\n",
       "        text-align: right;\n",
       "    }\n",
       "</style>\n",
       "<table border=\"1\" class=\"dataframe\">\n",
       "  <thead>\n",
       "    <tr style=\"text-align: right;\">\n",
       "      <th></th>\n",
       "      <th>dendcluster_id</th>\n",
       "      <th>cluster_label</th>\n",
       "      <th>colors</th>\n",
       "      <th>cluster_color</th>\n",
       "      <th>subclass_id</th>\n",
       "      <th>subclass_label</th>\n",
       "      <th>subclass_color</th>\n",
       "      <th>class_id</th>\n",
       "      <th>class_label</th>\n",
       "      <th>class_color</th>\n",
       "    </tr>\n",
       "    <tr>\n",
       "      <th>cluster_id</th>\n",
       "      <th></th>\n",
       "      <th></th>\n",
       "      <th></th>\n",
       "      <th></th>\n",
       "      <th></th>\n",
       "      <th></th>\n",
       "      <th></th>\n",
       "      <th></th>\n",
       "      <th></th>\n",
       "      <th></th>\n",
       "    </tr>\n",
       "  </thead>\n",
       "  <tbody>\n",
       "    <tr>\n",
       "      <th>86</th>\n",
       "      <td>109</td>\n",
       "      <td>Pvalb Akr1c18 Ntf3</td>\n",
       "      <td>#FF4343</td>\n",
       "      <td>#FF4343</td>\n",
       "      <td>6</td>\n",
       "      <td>Pvalb</td>\n",
       "      <td>#D93137</td>\n",
       "      <td>1</td>\n",
       "      <td>GABAergic</td>\n",
       "      <td>#EF4136</td>\n",
       "    </tr>\n",
       "  </tbody>\n",
       "</table>\n",
       "</div>"
      ],
      "text/plain": [
       "            dendcluster_id       cluster_label   colors cluster_color  \\\n",
       "cluster_id                                                              \n",
       "86                     109  Pvalb Akr1c18 Ntf3  #FF4343       #FF4343   \n",
       "\n",
       "            subclass_id subclass_label subclass_color  class_id class_label  \\\n",
       "cluster_id                                                                    \n",
       "86                    6          Pvalb        #D93137         1   GABAergic   \n",
       "\n",
       "           class_color  \n",
       "cluster_id              \n",
       "86             #EF4136  "
      ]
     },
     "execution_count": 613,
     "metadata": {},
     "output_type": "execute_result"
    }
   ],
   "source": [
    "cldf.loc[['86']]"
   ]
  }
 ],
 "metadata": {
  "kernelspec": {
   "display_name": "py374",
   "language": "python",
   "name": "py374"
  },
  "language_info": {
   "codemirror_mode": {
    "name": "ipython",
    "version": 3
   },
   "file_extension": ".py",
   "mimetype": "text/x-python",
   "name": "python",
   "nbconvert_exporter": "python",
   "pygments_lexer": "ipython3",
   "version": "3.7.4"
  }
 },
 "nbformat": 4,
 "nbformat_minor": 4
}
