{
 "cells": [
  {
   "cell_type": "markdown",
   "metadata": {},
   "source": [
    "### Link predication with Word2vec method"
   ]
  },
  {
   "cell_type": "markdown",
   "metadata": {},
   "source": [
    "How does the individual embedding looks like so far after walking on the directed graphs?"
   ]
  },
  {
   "cell_type": "code",
   "execution_count": 1,
   "metadata": {},
   "outputs": [
    {
     "name": "stderr",
     "output_type": "stream",
     "text": [
      "/Users/fahimehb/anaconda3/envs/py374/lib/python3.7/site-packages/tensorflow/python/framework/dtypes.py:516: FutureWarning: Passing (type, 1) or '1type' as a synonym of type is deprecated; in a future version of numpy, it will be understood as (type, (1,)) / '(1,)type'.\n",
      "  _np_qint8 = np.dtype([(\"qint8\", np.int8, 1)])\n",
      "/Users/fahimehb/anaconda3/envs/py374/lib/python3.7/site-packages/tensorflow/python/framework/dtypes.py:517: FutureWarning: Passing (type, 1) or '1type' as a synonym of type is deprecated; in a future version of numpy, it will be understood as (type, (1,)) / '(1,)type'.\n",
      "  _np_quint8 = np.dtype([(\"quint8\", np.uint8, 1)])\n",
      "/Users/fahimehb/anaconda3/envs/py374/lib/python3.7/site-packages/tensorflow/python/framework/dtypes.py:518: FutureWarning: Passing (type, 1) or '1type' as a synonym of type is deprecated; in a future version of numpy, it will be understood as (type, (1,)) / '(1,)type'.\n",
      "  _np_qint16 = np.dtype([(\"qint16\", np.int16, 1)])\n",
      "/Users/fahimehb/anaconda3/envs/py374/lib/python3.7/site-packages/tensorflow/python/framework/dtypes.py:519: FutureWarning: Passing (type, 1) or '1type' as a synonym of type is deprecated; in a future version of numpy, it will be understood as (type, (1,)) / '(1,)type'.\n",
      "  _np_quint16 = np.dtype([(\"quint16\", np.uint16, 1)])\n",
      "/Users/fahimehb/anaconda3/envs/py374/lib/python3.7/site-packages/tensorflow/python/framework/dtypes.py:520: FutureWarning: Passing (type, 1) or '1type' as a synonym of type is deprecated; in a future version of numpy, it will be understood as (type, (1,)) / '(1,)type'.\n",
      "  _np_qint32 = np.dtype([(\"qint32\", np.int32, 1)])\n",
      "/Users/fahimehb/anaconda3/envs/py374/lib/python3.7/site-packages/tensorflow/python/framework/dtypes.py:525: FutureWarning: Passing (type, 1) or '1type' as a synonym of type is deprecated; in a future version of numpy, it will be understood as (type, (1,)) / '(1,)type'.\n",
      "  np_resource = np.dtype([(\"resource\", np.ubyte, 1)])\n",
      "/Users/fahimehb/anaconda3/envs/py374/lib/python3.7/site-packages/tensorboard/compat/tensorflow_stub/dtypes.py:541: FutureWarning: Passing (type, 1) or '1type' as a synonym of type is deprecated; in a future version of numpy, it will be understood as (type, (1,)) / '(1,)type'.\n",
      "  _np_qint8 = np.dtype([(\"qint8\", np.int8, 1)])\n",
      "/Users/fahimehb/anaconda3/envs/py374/lib/python3.7/site-packages/tensorboard/compat/tensorflow_stub/dtypes.py:542: FutureWarning: Passing (type, 1) or '1type' as a synonym of type is deprecated; in a future version of numpy, it will be understood as (type, (1,)) / '(1,)type'.\n",
      "  _np_quint8 = np.dtype([(\"quint8\", np.uint8, 1)])\n",
      "/Users/fahimehb/anaconda3/envs/py374/lib/python3.7/site-packages/tensorboard/compat/tensorflow_stub/dtypes.py:543: FutureWarning: Passing (type, 1) or '1type' as a synonym of type is deprecated; in a future version of numpy, it will be understood as (type, (1,)) / '(1,)type'.\n",
      "  _np_qint16 = np.dtype([(\"qint16\", np.int16, 1)])\n",
      "/Users/fahimehb/anaconda3/envs/py374/lib/python3.7/site-packages/tensorboard/compat/tensorflow_stub/dtypes.py:544: FutureWarning: Passing (type, 1) or '1type' as a synonym of type is deprecated; in a future version of numpy, it will be understood as (type, (1,)) / '(1,)type'.\n",
      "  _np_quint16 = np.dtype([(\"quint16\", np.uint16, 1)])\n",
      "/Users/fahimehb/anaconda3/envs/py374/lib/python3.7/site-packages/tensorboard/compat/tensorflow_stub/dtypes.py:545: FutureWarning: Passing (type, 1) or '1type' as a synonym of type is deprecated; in a future version of numpy, it will be understood as (type, (1,)) / '(1,)type'.\n",
      "  _np_qint32 = np.dtype([(\"qint32\", np.int32, 1)])\n",
      "/Users/fahimehb/anaconda3/envs/py374/lib/python3.7/site-packages/tensorboard/compat/tensorflow_stub/dtypes.py:550: FutureWarning: Passing (type, 1) or '1type' as a synonym of type is deprecated; in a future version of numpy, it will be understood as (type, (1,)) / '(1,)type'.\n",
      "  np_resource = np.dtype([(\"resource\", np.ubyte, 1)])\n"
     ]
    }
   ],
   "source": [
    "import os\n",
    "import torch\n",
    "import time\n",
    "import numpy as np\n",
    "import torch.nn as nn\n",
    "from stellargraph import StellarDiGraph\n",
    "from cell import utils, plot_utils, analysis, graph_utils\n",
    "from cell.Word2vec import prepare_vocab, dataloader, wv\n",
    "\n",
    "os.environ['KMP_DUPLICATE_LIB_OK']='True'\n",
    "device = torch.device('cuda' if torch.cuda.is_available() else 'cpu')"
   ]
  },
  {
   "cell_type": "code",
   "execution_count": 2,
   "metadata": {},
   "outputs": [
    {
     "data": {
      "text/plain": [
       "<module 'cell.Word2vec.prepare_vocab' from '/Users/fahimehb/Documents/git-workspace/celltypes/cell/Word2vec/prepare_vocab.py'>"
      ]
     },
     "execution_count": 2,
     "metadata": {},
     "output_type": "execute_result"
    }
   ],
   "source": [
    "import imp\n",
    "from cell import  utils\n",
    "from cell.Word2vec import prepare_vocab, dataloader, wv\n",
    "\n",
    "\n",
    "imp.reload(utils)\n",
    "imp.reload(plot_utils)\n",
    "imp.reload(prepare_vocab)"
   ]
  },
  {
   "cell_type": "code",
   "execution_count": 3,
   "metadata": {},
   "outputs": [],
   "source": [
    "length = 10000\n",
    "p = 1\n",
    "q = 1\n",
    "N = 1\n",
    "batch_size = 2000\n",
    "walk_filename = \"walk_node21_32_removed.csv\"\n",
    "roi = \"VISp\"\n",
    "project_name = \"NPP_GNN_project\"\n",
    "layer_class = \"single_layer\"\n",
    "layer = \"base_unnormalized_allcombined\"\n",
    "walk_type= \"Directed_Weighted_node2vec\"\n",
    "\n",
    "walk_dir = utils.get_walk_dir(roi,\n",
    "                              project_name, \n",
    "                              N, \n",
    "                              length, \n",
    "                              p, \n",
    "                              q, \n",
    "                              layer_class, \n",
    "                              layer, \n",
    "                              walk_type) "
   ]
  },
  {
   "cell_type": "code",
   "execution_count": 4,
   "metadata": {},
   "outputs": [
    {
     "name": "stdout",
     "output_type": "stream",
     "text": [
      "lenght of vocabulary: 91\n",
      "a node called pad is added for padding and its index is zero\n",
      "a node called pad is added for padding and its index is zero\n",
      "MCBOW by default adds a padding node called pad with index zero\n",
      "There are 910000 pairs of target and context words\n",
      "torch.Size([2000]) torch.Size([2000, 4])\n"
     ]
    }
   ],
   "source": [
    "corpus = utils.read_list_of_lists_from_csv(os.path.join(walk_dir, walk_filename))\n",
    "vocabulary = prepare_vocab.get_vocabulary(corpus)\n",
    "\n",
    "print(f'lenght of vocabulary: {len(vocabulary)}')\n",
    "\n",
    "word_2_index = prepare_vocab.get_word2idx(vocabulary, padding=True)\n",
    "index_2_word = prepare_vocab.get_idx2word(vocabulary, padding=True)\n",
    "\n",
    "new_tuples = prepare_vocab.MCBOW_get_word_context_tuples(corpus=corpus, window=2)\n",
    "\n",
    "dataset = dataloader.MCBOW_WalkDataset(new_tuples, word_2_index)\n",
    "\n",
    "data_loader = torch.utils.data.DataLoader(dataset=dataset, \n",
    "                                          batch_size=2000, \n",
    "                                          shuffle=False,\n",
    "                                          num_workers=1)\n",
    "\n",
    "examples = iter(data_loader)\n",
    "samples, labels = examples.next()\n",
    "print(samples.shape, labels.shape)"
   ]
  },
  {
   "cell_type": "code",
   "execution_count": 5,
   "metadata": {},
   "outputs": [],
   "source": [
    "# new_tuples[-10:]"
   ]
  },
  {
   "cell_type": "code",
   "execution_count": 6,
   "metadata": {},
   "outputs": [],
   "source": [
    "# dataset.context_list[-10:]"
   ]
  },
  {
   "cell_type": "code",
   "execution_count": 7,
   "metadata": {},
   "outputs": [],
   "source": [
    "# dataset.target[-10:]"
   ]
  },
  {
   "cell_type": "code",
   "execution_count": 8,
   "metadata": {},
   "outputs": [],
   "source": [
    "# [index_2_word[i] for i in dataset.context_list[-10:][9].numpy()]"
   ]
  },
  {
   "cell_type": "code",
   "execution_count": 9,
   "metadata": {},
   "outputs": [],
   "source": [
    "# edgelist_dir = utils.get_edgelist_dir(roi,\n",
    "#                                       project_name,\n",
    "#                                       layer) \n",
    "# # print(edgelist_dir)\n",
    "# edgelist_filename = \"selfconnection_added_edges_node21_32_removed.csv\"\n",
    "\n",
    "# tmp_edge = pd.read_csv(os.path.join(edgelist_dir, edgelist_filename), index_col=\"Unnamed: 0\")\n",
    "# tmp_edge[['source', 'target']] = tmp_edge[['source', 'target']].astype(str)\n",
    "\n",
    "# # # 1) for each layer first create a nx-Digraph\n",
    "# nxg = graph_utils.build_nx_graph(source_target_weight=tmp_edge, directed=True)\n",
    "\n",
    "# # # 2) Create stellar Di graphs\n",
    "# sdg = StellarDiGraph(nxg)"
   ]
  },
  {
   "cell_type": "code",
   "execution_count": 10,
   "metadata": {},
   "outputs": [],
   "source": [
    "# len(sdg.edges())"
   ]
  },
  {
   "cell_type": "code",
   "execution_count": 11,
   "metadata": {},
   "outputs": [],
   "source": [
    "# edges = []\n",
    "# for corp in corpus:\n",
    "#     edges = edges + [(corp[i], corp[i+1]) for i in range(len(corp)-1)]\n",
    "# edges = set(edges)"
   ]
  },
  {
   "cell_type": "code",
   "execution_count": 30,
   "metadata": {},
   "outputs": [
    {
     "data": {
      "text/plain": [
       "91"
      ]
     },
     "execution_count": 30,
     "metadata": {},
     "output_type": "execute_result"
    }
   ],
   "source": [
    "len(sdg.nodes())"
   ]
  },
  {
   "cell_type": "code",
   "execution_count": 12,
   "metadata": {},
   "outputs": [],
   "source": [
    "vocab_size = len(vocabulary) + 1 \n",
    "embedding_size = 2\n",
    "learning_rate = 0.001\n",
    "n_epochs = 20"
   ]
  },
  {
   "cell_type": "code",
   "execution_count": 13,
   "metadata": {},
   "outputs": [
    {
     "name": "stdout",
     "output_type": "stream",
     "text": [
      "the index2word and word2index dicts must have padding with index zero\n",
      "time is 17.49\n",
      "epoch: 1/20, loss:114.7162\n",
      "time is 18.67\n",
      "epoch: 2/20, loss:19.3893\n",
      "time is 16.28\n",
      "epoch: 3/20, loss:4.9377\n",
      "time is 20.33\n",
      "epoch: 4/20, loss:4.5833\n",
      "time is 22.64\n",
      "epoch: 5/20, loss:4.5304\n",
      "time is 26.21\n",
      "epoch: 6/20, loss:4.4760\n",
      "time is 16.28\n",
      "epoch: 7/20, loss:4.4612\n",
      "time is 17.10\n",
      "epoch: 8/20, loss:4.4618\n",
      "time is 16.71\n",
      "epoch: 9/20, loss:4.4623\n",
      "time is 17.56\n",
      "epoch: 10/20, loss:4.4626\n",
      "time is 18.43\n",
      "epoch: 11/20, loss:4.4629\n",
      "time is 18.91\n",
      "epoch: 12/20, loss:4.4630\n",
      "time is 21.53\n",
      "epoch: 13/20, loss:4.4632\n",
      "time is 18.70\n",
      "epoch: 14/20, loss:4.4632\n",
      "time is 26.72\n",
      "epoch: 15/20, loss:4.4632\n",
      "time is 29.16\n",
      "epoch: 16/20, loss:4.4632\n",
      "time is 15.01\n",
      "epoch: 17/20, loss:4.4630\n",
      "time is 14.71\n",
      "epoch: 18/20, loss:4.4627\n",
      "time is 14.75\n",
      "epoch: 19/20, loss:4.4623\n",
      "time is 14.58\n",
      "epoch: 20/20, loss:4.4615\n"
     ]
    }
   ],
   "source": [
    "criterion = nn.CrossEntropyLoss()\n",
    "\n",
    "model = wv.MCBOW_Word2Vec(embedding_size=embedding_size, vocab_size=vocab_size)\n",
    "\n",
    "model.to(device)\n",
    "\n",
    "optimizer = torch.optim.Adam(model.parameters(), lr=learning_rate)\n",
    "    \n",
    "n_total_steps = len(data_loader)\n",
    "\n",
    "training_loss = []\n",
    "\n",
    "for epoch in range(n_epochs):\n",
    "    t0 = time.time()\n",
    "    losses = []\n",
    "    for i, (target, context) in enumerate(data_loader):\n",
    "        target = target.to(device)\n",
    "        context = context.to(device)\n",
    "        prediction = model(context)\n",
    "        loss = criterion(prediction, target)\n",
    "        \n",
    "        # backward\n",
    "        optimizer.zero_grad()\n",
    "        loss.backward()\n",
    "        optimizer.step()\n",
    "        losses.append(loss.item())\n",
    "        \n",
    "    t1 = time.time()\n",
    "    print('time is %.2f' % (t1 - t0))\n",
    "        \n",
    "    training_loss.append(np.mean(losses)) \n",
    "    print(f'epoch: {epoch+1}/{n_epochs}, loss:{np.mean(losses):.4f}')"
   ]
  },
  {
   "cell_type": "code",
   "execution_count": 22,
   "metadata": {},
   "outputs": [
    {
     "data": {
      "text/plain": [
       "tensor([[49,  8, 21, 27],\n",
       "        [16, 86, 77, 84],\n",
       "        [45, 79, 60, 42],\n",
       "        ...,\n",
       "        [15, 10,  8, 37],\n",
       "        [21, 29, 27, 19],\n",
       "        [22, 40, 50, 36]])"
      ]
     },
     "execution_count": 22,
     "metadata": {},
     "output_type": "execute_result"
    }
   ],
   "source": [
    "context"
   ]
  },
  {
   "cell_type": "code",
   "execution_count": 21,
   "metadata": {},
   "outputs": [
    {
     "data": {
      "text/plain": [
       "tensor([80, 78,  4,  ..., 22, 78, 73])"
      ]
     },
     "execution_count": 21,
     "metadata": {},
     "output_type": "execute_result"
    }
   ],
   "source": [
    "target"
   ]
  },
  {
   "cell_type": "code",
   "execution_count": 18,
   "metadata": {},
   "outputs": [
    {
     "data": {
      "text/plain": [
       "tensor(80)"
      ]
     },
     "execution_count": 18,
     "metadata": {},
     "output_type": "execute_result"
    }
   ],
   "source": [
    "target[0]"
   ]
  },
  {
   "cell_type": "code",
   "execution_count": 55,
   "metadata": {},
   "outputs": [
    {
     "data": {
      "text/plain": [
       "[<matplotlib.lines.Line2D at 0x1a518f2090>]"
      ]
     },
     "execution_count": 55,
     "metadata": {},
     "output_type": "execute_result"
    },
    {
     "data": {
      "image/png": "[encoded data removed]",
      "text/plain": [
       "<Figure size 432x288 with 1 Axes>"
      ]
     },
     "metadata": {
      "needs_background": "light"
     },
     "output_type": "display_data"
    }
   ],
   "source": [
    "plt.plot(prediction[0].detach().numpy())"
   ]
  },
  {
   "cell_type": "code",
   "execution_count": 13,
   "metadata": {},
   "outputs": [
    {
     "name": "stdout",
     "output_type": "stream",
     "text": [
      "tensor(-4.5914, grad_fn=<SelectBackward>)\n",
      "tensor(4.5914, grad_fn=<NllLossBackward>)\n"
     ]
    }
   ],
   "source": [
    "sm = nn.LogSoftmax(dim=1)\n",
    "nnl = nn.CrossEntropyLoss()\n",
    "print(sm(prediction[9:10])[0][target[9:10].numpy()[0]])\n",
    "print(nnl(prediction[9:10], target[9:10]))"
   ]
  },
  {
   "cell_type": "code",
   "execution_count": 14,
   "metadata": {},
   "outputs": [
    {
     "data": {
      "text/plain": [
       "tensor([[-11.9140,  -5.3979,  -4.7286,  -5.2923,  -4.2635,  -5.6312,  -5.8892,\n",
       "          -4.9472,  -3.6094,  -5.6293,  -4.6252,  -4.7857,  -5.1892,  -4.8099,\n",
       "          -5.5416,  -5.1988,  -4.7696,  -4.6967,  -3.8450,  -3.5163,  -4.4332,\n",
       "          -3.6606,  -4.8595,  -4.6202,  -5.4762,  -3.9822,  -4.5253,  -3.9221,\n",
       "          -3.4117,  -3.9117,  -5.1643,  -3.3081,  -5.1527,  -5.6388,  -5.1350,\n",
       "          -4.9884,  -5.1800,  -3.2089,  -5.3315,  -5.1744,  -5.1723,  -5.5241,\n",
       "          -4.5632,  -4.6316,  -5.3211,  -3.9338,  -5.0134,  -5.1140,  -5.0270,\n",
       "          -4.6838,  -5.6759,  -5.1419,  -4.4877,  -4.9382,  -5.6440,  -4.8792,\n",
       "          -4.3296,  -4.0656,  -4.9463,  -4.9932,  -4.9702,  -5.0086,  -5.9291,\n",
       "          -5.3082,  -5.6361,  -6.1340,  -5.0767,  -5.1428,  -5.7576,  -4.9683,\n",
       "          -3.3580,  -3.8405,  -4.8878,  -4.8603,  -4.8673,  -5.3361,  -3.6285,\n",
       "          -4.6880,  -3.8167,  -4.9916,  -3.7187,  -5.2384,  -4.3287,  -5.0533,\n",
       "          -5.5518,  -4.7597,  -3.0183,  -5.0083,  -4.8706,  -4.4013,  -3.7923,\n",
       "          -4.8751]], grad_fn=<LogSoftmaxBackward>)"
      ]
     },
     "execution_count": 14,
     "metadata": {},
     "output_type": "execute_result"
    }
   ],
   "source": [
    "sm(prediction[0:1])"
   ]
  },
  {
   "cell_type": "code",
   "execution_count": 19,
   "metadata": {},
   "outputs": [
    {
     "data": {
      "text/plain": [
       "91"
      ]
     },
     "execution_count": 19,
     "metadata": {},
     "output_type": "execute_result"
    }
   ],
   "source": [
    "13*7"
   ]
  },
  {
   "cell_type": "code",
   "execution_count": 14,
   "metadata": {},
   "outputs": [
    {
     "name": "stdout",
     "output_type": "stream",
     "text": [
      "Reading cldf from: //Users/fahimehb/Documents/NPP_GNN_project/dat/cl_df_VISp_annotation.csv\n"
     ]
    },
    {
     "data": {
      "image/png": "[encoded data removed]",
      "text/plain": [
       "<Figure size 720x720 with 1 Axes>"
      ]
     },
     "metadata": {
      "needs_background": "light"
     },
     "output_type": "display_data"
    }
   ],
   "source": [
    "cldf = utils.read_visp_npp_cldf()\n",
    "vectors = model.embeddings.weight.detach().numpy()\n",
    "vectors = vectors[1:]\n",
    "idx = [i for i in index_2_word.values()][1:]\n",
    "data = analysis.summarize_walk_embedding_results(gensim_dict={\"model\": vectors},\n",
    "                                                 index = idx,\n",
    "                                                 ndim=2, \n",
    "                                                 cl_df=cldf,\n",
    "                               padding_label = \"0\")\n",
    "# data['Z1'] = -1 * data[\"Z1\"]\n",
    "#data['Z0'] = -1 * data[\"Z0\"]\n",
    "\n",
    "fig = plot_utils.plot_embedding(data=data, \n",
    "                          cl_df=cldf,\n",
    "                          plot_dim=2, \n",
    "                          plot_size=(10,10), \n",
    "                          annotation=False)"
   ]
  },
  {
   "cell_type": "code",
   "execution_count": null,
   "metadata": {},
   "outputs": [],
   "source": []
  },
  {
   "cell_type": "code",
   "execution_count": null,
   "metadata": {},
   "outputs": [],
   "source": [
    "def split_train_test_validation(g):\n",
    "    eids = np.random.permutation(g.number_of_edges())\n",
    "    train_eids = eids[:int(len(eids) * 0.8)]\n",
    "    valid_eids = eids[int(len(eids) * 0.8):int(len(eids) * 0.9)]\n",
    "    test_eids = eids[int(len(eids) * 0.9):]\n",
    "    train_g = g.edge_subgraph(train_eids, preserve_nodes=True)\n",
    "    return train_eids, valid_eids, test_eids, train_g"
   ]
  }
 ],
 "metadata": {
  "kernelspec": {
   "display_name": "py374",
   "language": "python",
   "name": "py374"
  },
  "language_info": {
   "codemirror_mode": {
    "name": "ipython",
    "version": 3
   },
   "file_extension": ".py",
   "mimetype": "text/x-python",
   "name": "python",
   "nbconvert_exporter": "python",
   "pygments_lexer": "ipython3",
   "version": "3.7.4"
  }
 },
 "nbformat": 4,
 "nbformat_minor": 4
}
